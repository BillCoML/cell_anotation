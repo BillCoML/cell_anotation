{
 "cells": [
  {
   "cell_type": "code",
   "execution_count": 1,
   "id": "8dc52974",
   "metadata": {},
   "outputs": [],
   "source": [
    "from sklearn.model_selection import train_test_split\n",
    "import numpy as np\n",
    "import pandas as pd\n",
    "import matplotlib.pyplot as plt\n",
    "import tensorflow as tf"
   ]
  },
  {
   "cell_type": "code",
   "execution_count": 206,
   "id": "74fd0c30",
   "metadata": {},
   "outputs": [],
   "source": [
    "from tensorflow.keras.metrics import Recall, Precision"
   ]
  },
  {
   "cell_type": "code",
   "execution_count": 14,
   "id": "5d0a4d2b",
   "metadata": {},
   "outputs": [],
   "source": [
    "from tensorflow.keras import Sequential, layers, losses, optimizers"
   ]
  },
  {
   "cell_type": "markdown",
   "id": "99788328",
   "metadata": {},
   "source": [
    "Import processed Data"
   ]
  },
  {
   "cell_type": "code",
   "execution_count": 3,
   "id": "bfebeed7",
   "metadata": {},
   "outputs": [],
   "source": [
    "data = pd.read_csv('data/cleaned_data.csv')"
   ]
  },
  {
   "cell_type": "code",
   "execution_count": 4,
   "id": "11efda32",
   "metadata": {},
   "outputs": [
    {
     "data": {
      "text/plain": [
       "(31011, 4010)"
      ]
     },
     "execution_count": 4,
     "metadata": {},
     "output_type": "execute_result"
    }
   ],
   "source": [
    "data.shape"
   ]
  },
  {
   "cell_type": "code",
   "execution_count": 5,
   "id": "f69a011b",
   "metadata": {},
   "outputs": [
    {
     "data": {
      "text/html": [
       "<div>\n",
       "<style scoped>\n",
       "    .dataframe tbody tr th:only-of-type {\n",
       "        vertical-align: middle;\n",
       "    }\n",
       "\n",
       "    .dataframe tbody tr th {\n",
       "        vertical-align: top;\n",
       "    }\n",
       "\n",
       "    .dataframe thead th {\n",
       "        text-align: right;\n",
       "    }\n",
       "</style>\n",
       "<table border=\"1\" class=\"dataframe\">\n",
       "  <thead>\n",
       "    <tr style=\"text-align: right;\">\n",
       "      <th></th>\n",
       "      <th>SampleID</th>\n",
       "      <th>CellType</th>\n",
       "      <th>IGLV3-19</th>\n",
       "      <th>IGHV4-34</th>\n",
       "      <th>IGKC</th>\n",
       "      <th>IGHA1</th>\n",
       "      <th>IGLC3</th>\n",
       "      <th>S100A2</th>\n",
       "      <th>SCGB3A1</th>\n",
       "      <th>IGHG1</th>\n",
       "      <th>...</th>\n",
       "      <th>BLM</th>\n",
       "      <th>STARD4</th>\n",
       "      <th>CCDC171</th>\n",
       "      <th>ITSN1</th>\n",
       "      <th>PPM1H</th>\n",
       "      <th>AHR</th>\n",
       "      <th>HPS5</th>\n",
       "      <th>MEI1</th>\n",
       "      <th>PNMA1</th>\n",
       "      <th>MAP3K9</th>\n",
       "    </tr>\n",
       "  </thead>\n",
       "  <tbody>\n",
       "    <tr>\n",
       "      <th>0</th>\n",
       "      <td>2.0</td>\n",
       "      <td>2</td>\n",
       "      <td>-0.0159</td>\n",
       "      <td>-0.010017</td>\n",
       "      <td>-0.047302</td>\n",
       "      <td>-0.02565</td>\n",
       "      <td>-0.017487</td>\n",
       "      <td>-0.040863</td>\n",
       "      <td>-0.041718</td>\n",
       "      <td>-0.041687</td>\n",
       "      <td>...</td>\n",
       "      <td>-0.172607</td>\n",
       "      <td>-0.354004</td>\n",
       "      <td>-0.103394</td>\n",
       "      <td>-0.24585</td>\n",
       "      <td>-0.088196</td>\n",
       "      <td>-0.386719</td>\n",
       "      <td>-0.427734</td>\n",
       "      <td>-0.190186</td>\n",
       "      <td>-0.260254</td>\n",
       "      <td>-0.070862</td>\n",
       "    </tr>\n",
       "    <tr>\n",
       "      <th>1</th>\n",
       "      <td>2.0</td>\n",
       "      <td>2</td>\n",
       "      <td>-0.0159</td>\n",
       "      <td>-0.010017</td>\n",
       "      <td>-0.047302</td>\n",
       "      <td>-0.02565</td>\n",
       "      <td>-0.017487</td>\n",
       "      <td>-0.040863</td>\n",
       "      <td>-0.041718</td>\n",
       "      <td>-0.041687</td>\n",
       "      <td>...</td>\n",
       "      <td>-0.172607</td>\n",
       "      <td>-0.354004</td>\n",
       "      <td>-0.103394</td>\n",
       "      <td>-0.24585</td>\n",
       "      <td>-0.088196</td>\n",
       "      <td>-0.386719</td>\n",
       "      <td>-0.427734</td>\n",
       "      <td>-0.190186</td>\n",
       "      <td>-0.260254</td>\n",
       "      <td>-0.070862</td>\n",
       "    </tr>\n",
       "  </tbody>\n",
       "</table>\n",
       "<p>2 rows × 4010 columns</p>\n",
       "</div>"
      ],
      "text/plain": [
       "   SampleID  CellType  IGLV3-19  IGHV4-34      IGKC    IGHA1     IGLC3  \\\n",
       "0       2.0         2   -0.0159 -0.010017 -0.047302 -0.02565 -0.017487   \n",
       "1       2.0         2   -0.0159 -0.010017 -0.047302 -0.02565 -0.017487   \n",
       "\n",
       "     S100A2   SCGB3A1     IGHG1  ...       BLM    STARD4   CCDC171    ITSN1  \\\n",
       "0 -0.040863 -0.041718 -0.041687  ... -0.172607 -0.354004 -0.103394 -0.24585   \n",
       "1 -0.040863 -0.041718 -0.041687  ... -0.172607 -0.354004 -0.103394 -0.24585   \n",
       "\n",
       "      PPM1H       AHR      HPS5      MEI1     PNMA1    MAP3K9  \n",
       "0 -0.088196 -0.386719 -0.427734 -0.190186 -0.260254 -0.070862  \n",
       "1 -0.088196 -0.386719 -0.427734 -0.190186 -0.260254 -0.070862  \n",
       "\n",
       "[2 rows x 4010 columns]"
      ]
     },
     "execution_count": 5,
     "metadata": {},
     "output_type": "execute_result"
    }
   ],
   "source": [
    "data.head(2)"
   ]
  },
  {
   "cell_type": "markdown",
   "id": "f00da349",
   "metadata": {},
   "source": [
    "Split Data"
   ]
  },
  {
   "cell_type": "code",
   "execution_count": 169,
   "id": "44d9bfff",
   "metadata": {},
   "outputs": [],
   "source": [
    "X = data.iloc[:, 2:].to_numpy().astype('float32')\n",
    "y = data.iloc[:, 1].to_numpy().astype('int32')"
   ]
  },
  {
   "cell_type": "code",
   "execution_count": 170,
   "id": "53d8454c",
   "metadata": {},
   "outputs": [],
   "source": [
    "y = y - 1"
   ]
  },
  {
   "cell_type": "code",
   "execution_count": 171,
   "id": "6e849229",
   "metadata": {},
   "outputs": [],
   "source": [
    "X_train, X_test, y_train, y_test = train_test_split(X, y, test_size=0.2, random_state=42)"
   ]
  },
  {
   "cell_type": "markdown",
   "id": "61160271",
   "metadata": {},
   "source": [
    "Data pipelining"
   ]
  },
  {
   "cell_type": "code",
   "execution_count": 9,
   "id": "3f61ed85",
   "metadata": {},
   "outputs": [],
   "source": [
    "train_ds = tf.data.Dataset.from_tensor_slices({'data':  X_train, \n",
    "                                               'label': y_train})"
   ]
  },
  {
   "cell_type": "code",
   "execution_count": 10,
   "id": "5ec25288",
   "metadata": {},
   "outputs": [],
   "source": [
    "AUTOTUNE = tf.data.AUTOTUNE\n",
    "batch_size = 32"
   ]
  },
  {
   "cell_type": "code",
   "execution_count": 78,
   "id": "00fcd5f6",
   "metadata": {},
   "outputs": [],
   "source": [
    "train_ds = train_ds.cache() \\\n",
    "                   .shuffle(buffer_size=len(X_train)) \\\n",
    "                   .batch(batch_size) \\\n",
    "                   .prefetch(AUTOTUNE)"
   ]
  },
  {
   "cell_type": "code",
   "execution_count": 15,
   "id": "4f7e0a60",
   "metadata": {},
   "outputs": [
    {
     "data": {
      "text/plain": [
       "(24808, 4008)"
      ]
     },
     "execution_count": 15,
     "metadata": {},
     "output_type": "execute_result"
    }
   ],
   "source": [
    "X_train.shape"
   ]
  },
  {
   "cell_type": "code",
   "execution_count": 250,
   "id": "b8c0410c",
   "metadata": {},
   "outputs": [
    {
     "name": "stderr",
     "output_type": "stream",
     "text": [
      "/Library/Frameworks/Python.framework/Versions/3.11/lib/python3.11/site-packages/keras/src/layers/core/input_layer.py:27: UserWarning: Argument `input_shape` is deprecated. Use `shape` instead.\n",
      "  warnings.warn(\n"
     ]
    }
   ],
   "source": [
    "model = Sequential([\n",
    "    layers.InputLayer(input_shape=(X_test.shape[1],)),\n",
    "    layers.Dense(32, activation='relu'),\n",
    "    layers.Dropout(0.2),\n",
    "    layers.Dense(10, activation='softmax')\n",
    "])"
   ]
  },
  {
   "cell_type": "code",
   "execution_count": 251,
   "id": "d258975f",
   "metadata": {},
   "outputs": [
    {
     "data": {
      "text/html": [
       "<pre style=\"white-space:pre;overflow-x:auto;line-height:normal;font-family:Menlo,'DejaVu Sans Mono',consolas,'Courier New',monospace\"><span style=\"font-weight: bold\">Model: \"sequential_14\"</span>\n",
       "</pre>\n"
      ],
      "text/plain": [
       "\u001b[1mModel: \"sequential_14\"\u001b[0m\n"
      ]
     },
     "metadata": {},
     "output_type": "display_data"
    },
    {
     "data": {
      "text/html": [
       "<pre style=\"white-space:pre;overflow-x:auto;line-height:normal;font-family:Menlo,'DejaVu Sans Mono',consolas,'Courier New',monospace\">┏━━━━━━━━━━━━━━━━━━━━━━━━━━━━━━━━━┳━━━━━━━━━━━━━━━━━━━━━━━━┳━━━━━━━━━━━━━━━┓\n",
       "┃<span style=\"font-weight: bold\"> Layer (type)                    </span>┃<span style=\"font-weight: bold\"> Output Shape           </span>┃<span style=\"font-weight: bold\">       Param # </span>┃\n",
       "┡━━━━━━━━━━━━━━━━━━━━━━━━━━━━━━━━━╇━━━━━━━━━━━━━━━━━━━━━━━━╇━━━━━━━━━━━━━━━┩\n",
       "│ dense_29 (<span style=\"color: #0087ff; text-decoration-color: #0087ff\">Dense</span>)                │ (<span style=\"color: #00d7ff; text-decoration-color: #00d7ff\">None</span>, <span style=\"color: #00af00; text-decoration-color: #00af00\">32</span>)             │       <span style=\"color: #00af00; text-decoration-color: #00af00\">128,288</span> │\n",
       "├─────────────────────────────────┼────────────────────────┼───────────────┤\n",
       "│ dropout_15 (<span style=\"color: #0087ff; text-decoration-color: #0087ff\">Dropout</span>)            │ (<span style=\"color: #00d7ff; text-decoration-color: #00d7ff\">None</span>, <span style=\"color: #00af00; text-decoration-color: #00af00\">32</span>)             │             <span style=\"color: #00af00; text-decoration-color: #00af00\">0</span> │\n",
       "├─────────────────────────────────┼────────────────────────┼───────────────┤\n",
       "│ dense_30 (<span style=\"color: #0087ff; text-decoration-color: #0087ff\">Dense</span>)                │ (<span style=\"color: #00d7ff; text-decoration-color: #00d7ff\">None</span>, <span style=\"color: #00af00; text-decoration-color: #00af00\">10</span>)             │           <span style=\"color: #00af00; text-decoration-color: #00af00\">330</span> │\n",
       "└─────────────────────────────────┴────────────────────────┴───────────────┘\n",
       "</pre>\n"
      ],
      "text/plain": [
       "┏━━━━━━━━━━━━━━━━━━━━━━━━━━━━━━━━━┳━━━━━━━━━━━━━━━━━━━━━━━━┳━━━━━━━━━━━━━━━┓\n",
       "┃\u001b[1m \u001b[0m\u001b[1mLayer (type)                   \u001b[0m\u001b[1m \u001b[0m┃\u001b[1m \u001b[0m\u001b[1mOutput Shape          \u001b[0m\u001b[1m \u001b[0m┃\u001b[1m \u001b[0m\u001b[1m      Param #\u001b[0m\u001b[1m \u001b[0m┃\n",
       "┡━━━━━━━━━━━━━━━━━━━━━━━━━━━━━━━━━╇━━━━━━━━━━━━━━━━━━━━━━━━╇━━━━━━━━━━━━━━━┩\n",
       "│ dense_29 (\u001b[38;5;33mDense\u001b[0m)                │ (\u001b[38;5;45mNone\u001b[0m, \u001b[38;5;34m32\u001b[0m)             │       \u001b[38;5;34m128,288\u001b[0m │\n",
       "├─────────────────────────────────┼────────────────────────┼───────────────┤\n",
       "│ dropout_15 (\u001b[38;5;33mDropout\u001b[0m)            │ (\u001b[38;5;45mNone\u001b[0m, \u001b[38;5;34m32\u001b[0m)             │             \u001b[38;5;34m0\u001b[0m │\n",
       "├─────────────────────────────────┼────────────────────────┼───────────────┤\n",
       "│ dense_30 (\u001b[38;5;33mDense\u001b[0m)                │ (\u001b[38;5;45mNone\u001b[0m, \u001b[38;5;34m10\u001b[0m)             │           \u001b[38;5;34m330\u001b[0m │\n",
       "└─────────────────────────────────┴────────────────────────┴───────────────┘\n"
      ]
     },
     "metadata": {},
     "output_type": "display_data"
    },
    {
     "data": {
      "text/html": [
       "<pre style=\"white-space:pre;overflow-x:auto;line-height:normal;font-family:Menlo,'DejaVu Sans Mono',consolas,'Courier New',monospace\"><span style=\"font-weight: bold\"> Total params: </span><span style=\"color: #00af00; text-decoration-color: #00af00\">128,618</span> (502.41 KB)\n",
       "</pre>\n"
      ],
      "text/plain": [
       "\u001b[1m Total params: \u001b[0m\u001b[38;5;34m128,618\u001b[0m (502.41 KB)\n"
      ]
     },
     "metadata": {},
     "output_type": "display_data"
    },
    {
     "data": {
      "text/html": [
       "<pre style=\"white-space:pre;overflow-x:auto;line-height:normal;font-family:Menlo,'DejaVu Sans Mono',consolas,'Courier New',monospace\"><span style=\"font-weight: bold\"> Trainable params: </span><span style=\"color: #00af00; text-decoration-color: #00af00\">128,618</span> (502.41 KB)\n",
       "</pre>\n"
      ],
      "text/plain": [
       "\u001b[1m Trainable params: \u001b[0m\u001b[38;5;34m128,618\u001b[0m (502.41 KB)\n"
      ]
     },
     "metadata": {},
     "output_type": "display_data"
    },
    {
     "data": {
      "text/html": [
       "<pre style=\"white-space:pre;overflow-x:auto;line-height:normal;font-family:Menlo,'DejaVu Sans Mono',consolas,'Courier New',monospace\"><span style=\"font-weight: bold\"> Non-trainable params: </span><span style=\"color: #00af00; text-decoration-color: #00af00\">0</span> (0.00 B)\n",
       "</pre>\n"
      ],
      "text/plain": [
       "\u001b[1m Non-trainable params: \u001b[0m\u001b[38;5;34m0\u001b[0m (0.00 B)\n"
      ]
     },
     "metadata": {},
     "output_type": "display_data"
    }
   ],
   "source": [
    "model.summary()"
   ]
  },
  {
   "cell_type": "code",
   "execution_count": 252,
   "id": "2dc08b4f",
   "metadata": {},
   "outputs": [],
   "source": [
    "class CellType(tf.keras.Model):\n",
    "    def __init__(self, model, *args, **kwargs):\n",
    "        \n",
    "        super().__init__(*args, **kwargs)\n",
    "\n",
    "        self.model = model\n",
    "\n",
    "    def compile(self, opt, loss, *args, **kwargs):\n",
    "        super().compile(*args, **kwargs)\n",
    "        self.opt = opt\n",
    "        self.loss_fn = loss\n",
    "\n",
    "        self.precision_metric = Precision()\n",
    "        self.recall_metric = Recall()\n",
    "\n",
    "    def train_step(self, batch):\n",
    "\n",
    "        data, label = batch\n",
    "\n",
    "        data = tf.convert_to_tensor(data, dtype=tf.float32)\n",
    "\n",
    "        label = tf.convert_to_tensor(label, dtype=tf.int32) \n",
    "\n",
    "        with tf.GradientTape() as tape:\n",
    "\n",
    "            predictions = self.model(data, training = True)\n",
    "\n",
    "            total_loss = self.loss_fn(label, predictions)\n",
    "\n",
    "\n",
    "        grad = tape.gradient(total_loss, self.model.trainable_variables)\n",
    "    \n",
    "        self.opt.apply_gradients(zip(grad, self.model.trainable_variables))\n",
    "\n",
    "\n",
    "        #Calculate Precision \n",
    "        predicted_classes = tf.argmax(predictions, axis=-1, output_type=tf.int32)\n",
    "\n",
    "        # Update the metric states\n",
    "        self.precision_metric.update_state(label, predicted_classes)\n",
    "        self.recall_metric.update_state(label, predicted_classes)\n",
    "\n",
    "        precision_value = self.precision_metric.result()\n",
    "        recall_value = self.recall_metric.result()\n",
    "\n",
    "        epsilon = 1e-7  # Small constant to avoid division by zero\n",
    "        f1_value = 2 * (precision_value * recall_value) / (precision_value + recall_value + epsilon)\n",
    "\n",
    "\n",
    "\n",
    "        return {\n",
    "            \"loss\": total_loss,\n",
    "            \"precision\": precision_value,\n",
    "            \"recall\": recall_value,\n",
    "            \"f1\": f1_value\n",
    "        }\n",
    "    \n",
    "\n",
    "    def test_step(self, batch):\n",
    "\n",
    "        data, label = batch\n",
    "\n",
    "        data = tf.convert_to_tensor(data, dtype=tf.float32)\n",
    "\n",
    "        label = tf.convert_to_tensor(label, dtype=tf.int32) \n",
    "\n",
    "\n",
    "        predictions = self.model(data)\n",
    "\n",
    "        total_loss = self.loss_fn(label, predictions)\n",
    "\n",
    "        #Calculate Precision \n",
    "        predicted_classes = tf.argmax(predictions, axis=-1, output_type=tf.int32)\n",
    "\n",
    "        # Update the metric states\n",
    "        self.precision_metric.update_state(label, predicted_classes)\n",
    "        self.recall_metric.update_state(label, predicted_classes)\n",
    "\n",
    "        precision_value = self.precision_metric.result()\n",
    "        recall_value = self.recall_metric.result()\n",
    "\n",
    "        epsilon = 1e-7  # Small constant to avoid division by zero\n",
    "        f1_value = 2 * (precision_value * recall_value) / (precision_value + recall_value + epsilon)\n",
    "\n",
    "\n",
    "\n",
    "        return {\n",
    "            \"loss\": total_loss,\n",
    "            \"precision\": precision_value,\n",
    "            \"recall\": recall_value,\n",
    "            \"f1\": f1_value\n",
    "        }"
   ]
  },
  {
   "cell_type": "code",
   "execution_count": 253,
   "id": "fbec261f",
   "metadata": {},
   "outputs": [],
   "source": [
    "cell_type = CellType(model)"
   ]
  },
  {
   "cell_type": "code",
   "execution_count": 254,
   "id": "a1f15f27",
   "metadata": {},
   "outputs": [],
   "source": [
    "opt = optimizers.AdamW(learning_rate=1e-4)\n",
    "\n",
    "loss = losses.SparseCategoricalCrossentropy(from_logits=False)\n",
    "\n",
    "cell_type.compile(opt = opt, loss = loss)"
   ]
  },
  {
   "cell_type": "code",
   "execution_count": 255,
   "id": "5dd42ba9",
   "metadata": {},
   "outputs": [
    {
     "name": "stdout",
     "output_type": "stream",
     "text": [
      "Epoch 1/5\n",
      "\u001b[1m776/776\u001b[0m \u001b[32m━━━━━━━━━━━━━━━━━━━━\u001b[0m\u001b[37m\u001b[0m \u001b[1m2s\u001b[0m 2ms/step - f1: 0.9918 - loss: 0.5237 - precision: 0.9919 - recall: 0.9918 - val_f1: 0.9986 - val_loss: 0.1822 - val_precision: 0.9979 - val_recall: 0.9993\n",
      "Epoch 2/5\n",
      "\u001b[1m776/776\u001b[0m \u001b[32m━━━━━━━━━━━━━━━━━━━━\u001b[0m\u001b[37m\u001b[0m \u001b[1m1s\u001b[0m 1ms/step - f1: 0.9990 - loss: 0.1868 - precision: 0.9988 - recall: 0.9992 - val_f1: 0.9992 - val_loss: 0.1108 - val_precision: 0.9992 - val_recall: 0.9992\n",
      "Epoch 3/5\n",
      "\u001b[1m776/776\u001b[0m \u001b[32m━━━━━━━━━━━━━━━━━━━━\u001b[0m\u001b[37m\u001b[0m \u001b[1m1s\u001b[0m 1ms/step - f1: 0.9993 - loss: 0.1356 - precision: 0.9991 - recall: 0.9994 - val_f1: 0.9993 - val_loss: 0.1098 - val_precision: 0.9995 - val_recall: 0.9990\n",
      "Epoch 4/5\n",
      "\u001b[1m776/776\u001b[0m \u001b[32m━━━━━━━━━━━━━━━━━━━━\u001b[0m\u001b[37m\u001b[0m \u001b[1m1s\u001b[0m 1ms/step - f1: 0.9993 - loss: 0.1109 - precision: 0.9990 - recall: 0.9995 - val_f1: 0.9993 - val_loss: 0.0939 - val_precision: 0.9995 - val_recall: 0.9990\n",
      "Epoch 5/5\n",
      "\u001b[1m776/776\u001b[0m \u001b[32m━━━━━━━━━━━━━━━━━━━━\u001b[0m\u001b[37m\u001b[0m \u001b[1m1s\u001b[0m 1ms/step - f1: 0.9995 - loss: 0.0901 - precision: 0.9995 - recall: 0.9995 - val_f1: 0.9993 - val_loss: 0.1502 - val_precision: 0.9995 - val_recall: 0.9992\n"
     ]
    },
    {
     "data": {
      "text/plain": [
       "<keras.src.callbacks.history.History at 0x3531176d0>"
      ]
     },
     "execution_count": 255,
     "metadata": {},
     "output_type": "execute_result"
    }
   ],
   "source": [
    "cell_type.fit(X_train, y_train,\n",
    "              validation_data = (X_test, y_test),\n",
    "               batch_size=32, epochs=5)"
   ]
  },
  {
   "cell_type": "code",
   "execution_count": 256,
   "id": "9830d0a0",
   "metadata": {},
   "outputs": [],
   "source": [
    "predictions = model(X_test)\n",
    "predicted_classes = tf.argmax(predictions, axis=-1, output_type=tf.int32)"
   ]
  },
  {
   "cell_type": "code",
   "execution_count": 257,
   "id": "d49093d0",
   "metadata": {},
   "outputs": [
    {
     "data": {
      "text/plain": [
       "array([1, 6, 1, ..., 1, 6, 1], dtype=int32)"
      ]
     },
     "execution_count": 257,
     "metadata": {},
     "output_type": "execute_result"
    }
   ],
   "source": [
    "predicted_classes.numpy()"
   ]
  },
  {
   "cell_type": "code",
   "execution_count": 258,
   "id": "702208c6",
   "metadata": {},
   "outputs": [
    {
     "data": {
      "text/plain": [
       "array([2, 6, 1, ..., 1, 6, 1], dtype=int32)"
      ]
     },
     "execution_count": 258,
     "metadata": {},
     "output_type": "execute_result"
    }
   ],
   "source": [
    "y_test"
   ]
  }
 ],
 "metadata": {
  "kernelspec": {
   "display_name": "Python 3",
   "language": "python",
   "name": "python3"
  },
  "language_info": {
   "codemirror_mode": {
    "name": "ipython",
    "version": 3
   },
   "file_extension": ".py",
   "mimetype": "text/x-python",
   "name": "python",
   "nbconvert_exporter": "python",
   "pygments_lexer": "ipython3",
   "version": "3.11.7"
  }
 },
 "nbformat": 4,
 "nbformat_minor": 5
}
