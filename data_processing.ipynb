{
 "cells": [
  {
   "cell_type": "code",
   "execution_count": 16,
   "id": "8dc52974",
   "metadata": {},
   "outputs": [],
   "source": [
    "from sklearn.preprocessing import StandardScaler\n",
    "from sklearn.model_selection import train_test_split\n",
    "import numpy as np\n",
    "import os\n",
    "os.environ[\"MIN_CPP_TEMP\"] = \"2\""
   ]
  },
  {
   "cell_type": "code",
   "execution_count": null,
   "id": "12c92646",
   "metadata": {},
   "outputs": [],
   "source": [
    "import tensorflow as tf"
   ]
  },
  {
   "cell_type": "code",
   "execution_count": 3,
   "id": "bfebeed7",
   "metadata": {},
   "outputs": [],
   "source": [
    "X = np.load('clean_data/X.npy')\n",
    "y = np.load('clean_data/y.npy')"
   ]
  },
  {
   "cell_type": "code",
   "execution_count": 10,
   "id": "6e849229",
   "metadata": {},
   "outputs": [],
   "source": [
    "X_train, X_test, y_train, y_test = train_test_split(X, y, test_size=0.2, random_state=42)"
   ]
  },
  {
   "cell_type": "markdown",
   "id": "61160271",
   "metadata": {},
   "source": [
    "Data pipelining"
   ]
  },
  {
   "cell_type": "code",
   "execution_count": 38,
   "id": "5ec25288",
   "metadata": {},
   "outputs": [],
   "source": [
    "AUTOTUNE = tf.data.AUTOTUNE\n",
    "batch_size = 32"
   ]
  },
  {
   "cell_type": "code",
   "execution_count": 37,
   "id": "449df482",
   "metadata": {},
   "outputs": [],
   "source": [
    "train_ds = tf.data.Dataset.from_tensor_slices((X_train, y_train))"
   ]
  },
  {
   "cell_type": "code",
   "execution_count": 39,
   "id": "00fcd5f6",
   "metadata": {},
   "outputs": [],
   "source": [
    "train_ds = train_ds.cache() \\\n",
    "                   .shuffle(buffer_size=len(X_train)) \\\n",
    "                   .batch(batch_size) \\\n",
    "                   .prefetch(AUTOTUNE)"
   ]
  }
 ],
 "metadata": {
  "kernelspec": {
   "display_name": "tf217",
   "language": "python",
   "name": "python3"
  },
  "language_info": {
   "codemirror_mode": {
    "name": "ipython",
    "version": 3
   },
   "file_extension": ".py",
   "mimetype": "text/x-python",
   "name": "python",
   "nbconvert_exporter": "python",
   "pygments_lexer": "ipython3",
   "version": "3.12.9"
  }
 },
 "nbformat": 4,
 "nbformat_minor": 5
}
