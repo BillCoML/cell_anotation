{
 "cells": [
  {
   "cell_type": "code",
   "execution_count": 1,
   "id": "8dc52974",
   "metadata": {},
   "outputs": [],
   "source": [
    "from sklearn.model_selection import train_test_split\n",
    "from sklearn.metrics import confusion_matrix, classification_report\n",
    "import numpy as np\n",
    "import pandas as pd\n",
    "import matplotlib.pyplot as plt\n",
    "import seaborn as sns\n",
    "from pyreadr import read_r\n",
    "import gc"
   ]
  },
  {
   "cell_type": "code",
   "execution_count": 2,
   "id": "53605237",
   "metadata": {},
   "outputs": [],
   "source": [
    "from sklearn.decomposition import PCA\n",
    "from sklearn.feature_selection import VarianceThreshold"
   ]
  },
  {
   "cell_type": "markdown",
   "id": "50dc3c64",
   "metadata": {},
   "source": [
    "**<h3>1. Data loading and EDA</h3>**"
   ]
  },
  {
   "cell_type": "markdown",
   "id": "7286c13d",
   "metadata": {},
   "source": [
    "**<h5>1.1 Load Train and Test Dataset, make them dataframes</h5>**"
   ]
  },
  {
   "cell_type": "code",
   "execution_count": 3,
   "id": "dd2a3570",
   "metadata": {},
   "outputs": [],
   "source": [
    "train_data = read_r('data/train.rds')\n",
    "test_data = read_r('data/test.rds')"
   ]
  },
  {
   "cell_type": "code",
   "execution_count": 4,
   "id": "b287dce6",
   "metadata": {},
   "outputs": [],
   "source": [
    "train_df = train_data[None]\n",
    "test_df = test_data[None]"
   ]
  },
  {
   "cell_type": "code",
   "execution_count": 5,
   "id": "d677693c",
   "metadata": {},
   "outputs": [
    {
     "data": {
      "text/plain": [
       "0"
      ]
     },
     "execution_count": 5,
     "metadata": {},
     "output_type": "execute_result"
    }
   ],
   "source": [
    "del train_data\n",
    "del test_data\n",
    "gc.collect()"
   ]
  },
  {
   "cell_type": "code",
   "execution_count": 6,
   "id": "dfde5ce3",
   "metadata": {},
   "outputs": [
    {
     "data": {
      "text/html": [
       "<div>\n",
       "<style scoped>\n",
       "    .dataframe tbody tr th:only-of-type {\n",
       "        vertical-align: middle;\n",
       "    }\n",
       "\n",
       "    .dataframe tbody tr th {\n",
       "        vertical-align: top;\n",
       "    }\n",
       "\n",
       "    .dataframe thead th {\n",
       "        text-align: right;\n",
       "    }\n",
       "</style>\n",
       "<table border=\"1\" class=\"dataframe\">\n",
       "  <thead>\n",
       "    <tr style=\"text-align: right;\">\n",
       "      <th></th>\n",
       "      <th>SampleID</th>\n",
       "      <th>CellType</th>\n",
       "      <th>IGLV3-19</th>\n",
       "      <th>IGHV4-34</th>\n",
       "      <th>IGKC</th>\n",
       "      <th>IGHA1</th>\n",
       "      <th>IGLC3</th>\n",
       "      <th>S100A2</th>\n",
       "      <th>SCGB3A1</th>\n",
       "      <th>IGHG1</th>\n",
       "      <th>...</th>\n",
       "      <th>AC092794.2</th>\n",
       "      <th>AC016722.3</th>\n",
       "      <th>LINC01119</th>\n",
       "      <th>LINC01291</th>\n",
       "      <th>AC010132.4</th>\n",
       "      <th>C7orf69</th>\n",
       "      <th>AL672277.1</th>\n",
       "      <th>FAM66D</th>\n",
       "      <th>AC007298.2</th>\n",
       "      <th>AL139022.2</th>\n",
       "    </tr>\n",
       "    <tr>\n",
       "      <th>rownames</th>\n",
       "      <th></th>\n",
       "      <th></th>\n",
       "      <th></th>\n",
       "      <th></th>\n",
       "      <th></th>\n",
       "      <th></th>\n",
       "      <th></th>\n",
       "      <th></th>\n",
       "      <th></th>\n",
       "      <th></th>\n",
       "      <th></th>\n",
       "      <th></th>\n",
       "      <th></th>\n",
       "      <th></th>\n",
       "      <th></th>\n",
       "      <th></th>\n",
       "      <th></th>\n",
       "      <th></th>\n",
       "      <th></th>\n",
       "      <th></th>\n",
       "      <th></th>\n",
       "    </tr>\n",
       "  </thead>\n",
       "  <tbody>\n",
       "    <tr>\n",
       "      <th>AAACCTGAGATATACG_2</th>\n",
       "      <td>2.0</td>\n",
       "      <td>2.0</td>\n",
       "      <td>0.0</td>\n",
       "      <td>0.0</td>\n",
       "      <td>0.0</td>\n",
       "      <td>0.0</td>\n",
       "      <td>0.0</td>\n",
       "      <td>0.0</td>\n",
       "      <td>0.0</td>\n",
       "      <td>0.0</td>\n",
       "      <td>...</td>\n",
       "      <td>0.0</td>\n",
       "      <td>0.0</td>\n",
       "      <td>0.0</td>\n",
       "      <td>0.0</td>\n",
       "      <td>0.0</td>\n",
       "      <td>0.0</td>\n",
       "      <td>0.0</td>\n",
       "      <td>0.0</td>\n",
       "      <td>0.0</td>\n",
       "      <td>0.0</td>\n",
       "    </tr>\n",
       "    <tr>\n",
       "      <th>AAACCTGAGCGTGAAC_2</th>\n",
       "      <td>2.0</td>\n",
       "      <td>2.0</td>\n",
       "      <td>0.0</td>\n",
       "      <td>0.0</td>\n",
       "      <td>0.0</td>\n",
       "      <td>0.0</td>\n",
       "      <td>0.0</td>\n",
       "      <td>0.0</td>\n",
       "      <td>0.0</td>\n",
       "      <td>0.0</td>\n",
       "      <td>...</td>\n",
       "      <td>0.0</td>\n",
       "      <td>0.0</td>\n",
       "      <td>0.0</td>\n",
       "      <td>0.0</td>\n",
       "      <td>0.0</td>\n",
       "      <td>0.0</td>\n",
       "      <td>0.0</td>\n",
       "      <td>0.0</td>\n",
       "      <td>0.0</td>\n",
       "      <td>0.0</td>\n",
       "    </tr>\n",
       "    <tr>\n",
       "      <th>AAACCTGAGCTACCTA_2</th>\n",
       "      <td>2.0</td>\n",
       "      <td>2.0</td>\n",
       "      <td>0.0</td>\n",
       "      <td>0.0</td>\n",
       "      <td>0.0</td>\n",
       "      <td>0.0</td>\n",
       "      <td>0.0</td>\n",
       "      <td>0.0</td>\n",
       "      <td>0.0</td>\n",
       "      <td>0.0</td>\n",
       "      <td>...</td>\n",
       "      <td>0.0</td>\n",
       "      <td>0.0</td>\n",
       "      <td>0.0</td>\n",
       "      <td>0.0</td>\n",
       "      <td>0.0</td>\n",
       "      <td>0.0</td>\n",
       "      <td>0.0</td>\n",
       "      <td>0.0</td>\n",
       "      <td>0.0</td>\n",
       "      <td>0.0</td>\n",
       "    </tr>\n",
       "  </tbody>\n",
       "</table>\n",
       "<p>3 rows × 10002 columns</p>\n",
       "</div>"
      ],
      "text/plain": [
       "                    SampleID  CellType  IGLV3-19  IGHV4-34  IGKC  IGHA1  \\\n",
       "rownames                                                                  \n",
       "AAACCTGAGATATACG_2       2.0       2.0       0.0       0.0   0.0    0.0   \n",
       "AAACCTGAGCGTGAAC_2       2.0       2.0       0.0       0.0   0.0    0.0   \n",
       "AAACCTGAGCTACCTA_2       2.0       2.0       0.0       0.0   0.0    0.0   \n",
       "\n",
       "                    IGLC3  S100A2  SCGB3A1  IGHG1  ...  AC092794.2  \\\n",
       "rownames                                           ...               \n",
       "AAACCTGAGATATACG_2    0.0     0.0      0.0    0.0  ...         0.0   \n",
       "AAACCTGAGCGTGAAC_2    0.0     0.0      0.0    0.0  ...         0.0   \n",
       "AAACCTGAGCTACCTA_2    0.0     0.0      0.0    0.0  ...         0.0   \n",
       "\n",
       "                    AC016722.3  LINC01119  LINC01291  AC010132.4  C7orf69  \\\n",
       "rownames                                                                    \n",
       "AAACCTGAGATATACG_2         0.0        0.0        0.0         0.0      0.0   \n",
       "AAACCTGAGCGTGAAC_2         0.0        0.0        0.0         0.0      0.0   \n",
       "AAACCTGAGCTACCTA_2         0.0        0.0        0.0         0.0      0.0   \n",
       "\n",
       "                    AL672277.1  FAM66D  AC007298.2  AL139022.2  \n",
       "rownames                                                        \n",
       "AAACCTGAGATATACG_2         0.0     0.0         0.0         0.0  \n",
       "AAACCTGAGCGTGAAC_2         0.0     0.0         0.0         0.0  \n",
       "AAACCTGAGCTACCTA_2         0.0     0.0         0.0         0.0  \n",
       "\n",
       "[3 rows x 10002 columns]"
      ]
     },
     "execution_count": 6,
     "metadata": {},
     "output_type": "execute_result"
    }
   ],
   "source": [
    "#We are given labels for Train set\n",
    "train_df.head(3)"
   ]
  },
  {
   "cell_type": "code",
   "execution_count": 7,
   "id": "34d9c4c7",
   "metadata": {},
   "outputs": [
    {
     "data": {
      "text/html": [
       "<div>\n",
       "<style scoped>\n",
       "    .dataframe tbody tr th:only-of-type {\n",
       "        vertical-align: middle;\n",
       "    }\n",
       "\n",
       "    .dataframe tbody tr th {\n",
       "        vertical-align: top;\n",
       "    }\n",
       "\n",
       "    .dataframe thead th {\n",
       "        text-align: right;\n",
       "    }\n",
       "</style>\n",
       "<table border=\"1\" class=\"dataframe\">\n",
       "  <thead>\n",
       "    <tr style=\"text-align: right;\">\n",
       "      <th></th>\n",
       "      <th>SampleID</th>\n",
       "      <th>IGLV3-19</th>\n",
       "      <th>IGHV4-34</th>\n",
       "      <th>IGKC</th>\n",
       "      <th>IGHA1</th>\n",
       "      <th>IGLC3</th>\n",
       "      <th>S100A2</th>\n",
       "      <th>SCGB3A1</th>\n",
       "      <th>IGHG1</th>\n",
       "      <th>BPIFA1</th>\n",
       "      <th>...</th>\n",
       "      <th>AC092794.2</th>\n",
       "      <th>AC016722.3</th>\n",
       "      <th>LINC01119</th>\n",
       "      <th>LINC01291</th>\n",
       "      <th>AC010132.4</th>\n",
       "      <th>C7orf69</th>\n",
       "      <th>AL672277.1</th>\n",
       "      <th>FAM66D</th>\n",
       "      <th>AC007298.2</th>\n",
       "      <th>AL139022.2</th>\n",
       "    </tr>\n",
       "    <tr>\n",
       "      <th>rownames</th>\n",
       "      <th></th>\n",
       "      <th></th>\n",
       "      <th></th>\n",
       "      <th></th>\n",
       "      <th></th>\n",
       "      <th></th>\n",
       "      <th></th>\n",
       "      <th></th>\n",
       "      <th></th>\n",
       "      <th></th>\n",
       "      <th></th>\n",
       "      <th></th>\n",
       "      <th></th>\n",
       "      <th></th>\n",
       "      <th></th>\n",
       "      <th></th>\n",
       "      <th></th>\n",
       "      <th></th>\n",
       "      <th></th>\n",
       "      <th></th>\n",
       "      <th></th>\n",
       "    </tr>\n",
       "  </thead>\n",
       "  <tbody>\n",
       "    <tr>\n",
       "      <th>AAACCTGAGACACTAA_1</th>\n",
       "      <td>1.0</td>\n",
       "      <td>0.0</td>\n",
       "      <td>0.0</td>\n",
       "      <td>0.0</td>\n",
       "      <td>0.0</td>\n",
       "      <td>0.0</td>\n",
       "      <td>0.0</td>\n",
       "      <td>0.0</td>\n",
       "      <td>0.0</td>\n",
       "      <td>0.0</td>\n",
       "      <td>...</td>\n",
       "      <td>0.0</td>\n",
       "      <td>0.0</td>\n",
       "      <td>0.0</td>\n",
       "      <td>0.0</td>\n",
       "      <td>0.0</td>\n",
       "      <td>0.0</td>\n",
       "      <td>0.0</td>\n",
       "      <td>0.0</td>\n",
       "      <td>0.0</td>\n",
       "      <td>0.0</td>\n",
       "    </tr>\n",
       "    <tr>\n",
       "      <th>AAACCTGAGGAGTACC_1</th>\n",
       "      <td>1.0</td>\n",
       "      <td>0.0</td>\n",
       "      <td>0.0</td>\n",
       "      <td>0.0</td>\n",
       "      <td>0.0</td>\n",
       "      <td>0.0</td>\n",
       "      <td>0.0</td>\n",
       "      <td>0.0</td>\n",
       "      <td>0.0</td>\n",
       "      <td>0.0</td>\n",
       "      <td>...</td>\n",
       "      <td>0.0</td>\n",
       "      <td>0.0</td>\n",
       "      <td>0.0</td>\n",
       "      <td>0.0</td>\n",
       "      <td>0.0</td>\n",
       "      <td>0.0</td>\n",
       "      <td>0.0</td>\n",
       "      <td>0.0</td>\n",
       "      <td>0.0</td>\n",
       "      <td>0.0</td>\n",
       "    </tr>\n",
       "    <tr>\n",
       "      <th>AAACCTGAGGATATAC_1</th>\n",
       "      <td>1.0</td>\n",
       "      <td>0.0</td>\n",
       "      <td>0.0</td>\n",
       "      <td>0.0</td>\n",
       "      <td>0.0</td>\n",
       "      <td>0.0</td>\n",
       "      <td>0.0</td>\n",
       "      <td>0.0</td>\n",
       "      <td>0.0</td>\n",
       "      <td>0.0</td>\n",
       "      <td>...</td>\n",
       "      <td>0.0</td>\n",
       "      <td>0.0</td>\n",
       "      <td>0.0</td>\n",
       "      <td>0.0</td>\n",
       "      <td>0.0</td>\n",
       "      <td>0.0</td>\n",
       "      <td>0.0</td>\n",
       "      <td>0.0</td>\n",
       "      <td>0.0</td>\n",
       "      <td>0.0</td>\n",
       "    </tr>\n",
       "  </tbody>\n",
       "</table>\n",
       "<p>3 rows × 10001 columns</p>\n",
       "</div>"
      ],
      "text/plain": [
       "                    SampleID  IGLV3-19  IGHV4-34  IGKC  IGHA1  IGLC3  S100A2  \\\n",
       "rownames                                                                       \n",
       "AAACCTGAGACACTAA_1       1.0       0.0       0.0   0.0    0.0    0.0     0.0   \n",
       "AAACCTGAGGAGTACC_1       1.0       0.0       0.0   0.0    0.0    0.0     0.0   \n",
       "AAACCTGAGGATATAC_1       1.0       0.0       0.0   0.0    0.0    0.0     0.0   \n",
       "\n",
       "                    SCGB3A1  IGHG1  BPIFA1  ...  AC092794.2  AC016722.3  \\\n",
       "rownames                                    ...                           \n",
       "AAACCTGAGACACTAA_1      0.0    0.0     0.0  ...         0.0         0.0   \n",
       "AAACCTGAGGAGTACC_1      0.0    0.0     0.0  ...         0.0         0.0   \n",
       "AAACCTGAGGATATAC_1      0.0    0.0     0.0  ...         0.0         0.0   \n",
       "\n",
       "                    LINC01119  LINC01291  AC010132.4  C7orf69  AL672277.1  \\\n",
       "rownames                                                                    \n",
       "AAACCTGAGACACTAA_1        0.0        0.0         0.0      0.0         0.0   \n",
       "AAACCTGAGGAGTACC_1        0.0        0.0         0.0      0.0         0.0   \n",
       "AAACCTGAGGATATAC_1        0.0        0.0         0.0      0.0         0.0   \n",
       "\n",
       "                    FAM66D  AC007298.2  AL139022.2  \n",
       "rownames                                            \n",
       "AAACCTGAGACACTAA_1     0.0         0.0         0.0  \n",
       "AAACCTGAGGAGTACC_1     0.0         0.0         0.0  \n",
       "AAACCTGAGGATATAC_1     0.0         0.0         0.0  \n",
       "\n",
       "[3 rows x 10001 columns]"
      ]
     },
     "execution_count": 7,
     "metadata": {},
     "output_type": "execute_result"
    }
   ],
   "source": [
    "#We are not given labels for Test set\n",
    "test_df.head(3)"
   ]
  },
  {
   "cell_type": "markdown",
   "id": "9f6130ce",
   "metadata": {},
   "source": [
    "**<h5>1.2 General Metrics (Train set)</h5>**"
   ]
  },
  {
   "cell_type": "code",
   "execution_count": 8,
   "id": "30c35f06",
   "metadata": {},
   "outputs": [],
   "source": [
    "var_by_Gene = train_df.iloc[:, 2:].var()\n",
    "mean_by_Gene = train_df.iloc[:, 2:].mean()"
   ]
  },
  {
   "cell_type": "code",
   "execution_count": 9,
   "id": "649eafa9",
   "metadata": {},
   "outputs": [
    {
     "data": {
      "text/html": [
       "<div>\n",
       "<style scoped>\n",
       "    .dataframe tbody tr th:only-of-type {\n",
       "        vertical-align: middle;\n",
       "    }\n",
       "\n",
       "    .dataframe tbody tr th {\n",
       "        vertical-align: top;\n",
       "    }\n",
       "\n",
       "    .dataframe thead th {\n",
       "        text-align: right;\n",
       "    }\n",
       "</style>\n",
       "<table border=\"1\" class=\"dataframe\">\n",
       "  <thead>\n",
       "    <tr style=\"text-align: right;\">\n",
       "      <th></th>\n",
       "      <th>Metric</th>\n",
       "      <th>Values</th>\n",
       "    </tr>\n",
       "  </thead>\n",
       "  <tbody>\n",
       "    <tr>\n",
       "      <th>0</th>\n",
       "      <td>Mean Expression</td>\n",
       "      <td>0.24339</td>\n",
       "    </tr>\n",
       "    <tr>\n",
       "      <th>1</th>\n",
       "      <td>Median Variance</td>\n",
       "      <td>0.001867</td>\n",
       "    </tr>\n",
       "    <tr>\n",
       "      <th>2</th>\n",
       "      <td>Zero Ratio</td>\n",
       "      <td>0.951939</td>\n",
       "    </tr>\n",
       "    <tr>\n",
       "      <th>3</th>\n",
       "      <td>Comment</td>\n",
       "      <td>Very Sparse !</td>\n",
       "    </tr>\n",
       "  </tbody>\n",
       "</table>\n",
       "</div>"
      ],
      "text/plain": [
       "            Metric         Values\n",
       "0  Mean Expression        0.24339\n",
       "1  Median Variance       0.001867\n",
       "2       Zero Ratio       0.951939\n",
       "3          Comment  Very Sparse !"
      ]
     },
     "execution_count": 9,
     "metadata": {},
     "output_type": "execute_result"
    }
   ],
   "source": [
    "pd.DataFrame({\n",
    "    'Metric': ['Mean Expression', 'Median Variance', 'Zero Ratio', 'Comment'],\n",
    "    'Values': [mean_by_Gene.mean(), \n",
    "               var_by_Gene.median(),\n",
    "               (train_df.iloc[:, 2:] == 0).sum().sum() /  train_df.iloc[:, 2:].size,\n",
    "               'Very Sparse !']\n",
    "})"
   ]
  },
  {
   "cell_type": "markdown",
   "id": "b71f1a44",
   "metadata": {},
   "source": [
    "mean expression is 0.24 since most of them is 0"
   ]
  },
  {
   "cell_type": "markdown",
   "id": "f373e389",
   "metadata": {},
   "source": [
    "**<h5>1.3 Top 10 Genes</h5>**"
   ]
  },
  {
   "cell_type": "markdown",
   "id": "63782d1f",
   "metadata": {},
   "source": [
    "**1.3.1 Most Expressed Genes**"
   ]
  },
  {
   "cell_type": "code",
   "execution_count": 10,
   "id": "dbdb48d1",
   "metadata": {},
   "outputs": [],
   "source": [
    "top_10_genes = mean_by_Gene.sort_values(ascending=False).head(10)"
   ]
  },
  {
   "cell_type": "code",
   "execution_count": 11,
   "id": "67c8cefb",
   "metadata": {},
   "outputs": [
    {
     "data": {
      "text/html": [
       "<div>\n",
       "<style scoped>\n",
       "    .dataframe tbody tr th:only-of-type {\n",
       "        vertical-align: middle;\n",
       "    }\n",
       "\n",
       "    .dataframe tbody tr th {\n",
       "        vertical-align: top;\n",
       "    }\n",
       "\n",
       "    .dataframe thead th {\n",
       "        text-align: right;\n",
       "    }\n",
       "</style>\n",
       "<table border=\"1\" class=\"dataframe\">\n",
       "  <thead>\n",
       "    <tr style=\"text-align: right;\">\n",
       "      <th></th>\n",
       "      <th>Gene</th>\n",
       "      <th>Mean</th>\n",
       "      <th>Variance</th>\n",
       "    </tr>\n",
       "  </thead>\n",
       "  <tbody>\n",
       "    <tr>\n",
       "      <th>0</th>\n",
       "      <td>CD74</td>\n",
       "      <td>67.735965</td>\n",
       "      <td>20681.549180</td>\n",
       "    </tr>\n",
       "    <tr>\n",
       "      <th>1</th>\n",
       "      <td>APOC1</td>\n",
       "      <td>62.592661</td>\n",
       "      <td>26926.408658</td>\n",
       "    </tr>\n",
       "    <tr>\n",
       "      <th>2</th>\n",
       "      <td>CCL2</td>\n",
       "      <td>50.338299</td>\n",
       "      <td>11655.298804</td>\n",
       "    </tr>\n",
       "    <tr>\n",
       "      <th>3</th>\n",
       "      <td>HLA-DRA</td>\n",
       "      <td>41.255103</td>\n",
       "      <td>5383.881679</td>\n",
       "    </tr>\n",
       "    <tr>\n",
       "      <th>4</th>\n",
       "      <td>S100A6</td>\n",
       "      <td>33.135823</td>\n",
       "      <td>2235.936598</td>\n",
       "    </tr>\n",
       "    <tr>\n",
       "      <th>5</th>\n",
       "      <td>HLA-DRB1</td>\n",
       "      <td>31.343684</td>\n",
       "      <td>4592.978040</td>\n",
       "    </tr>\n",
       "    <tr>\n",
       "      <th>6</th>\n",
       "      <td>MT-ND3</td>\n",
       "      <td>28.315856</td>\n",
       "      <td>1645.625256</td>\n",
       "    </tr>\n",
       "    <tr>\n",
       "      <th>7</th>\n",
       "      <td>MT-CO3</td>\n",
       "      <td>27.857212</td>\n",
       "      <td>2626.779998</td>\n",
       "    </tr>\n",
       "    <tr>\n",
       "      <th>8</th>\n",
       "      <td>HLA-A</td>\n",
       "      <td>27.205862</td>\n",
       "      <td>2328.307377</td>\n",
       "    </tr>\n",
       "    <tr>\n",
       "      <th>9</th>\n",
       "      <td>ISG15</td>\n",
       "      <td>25.552772</td>\n",
       "      <td>1349.995433</td>\n",
       "    </tr>\n",
       "  </tbody>\n",
       "</table>\n",
       "</div>"
      ],
      "text/plain": [
       "       Gene       Mean      Variance\n",
       "0      CD74  67.735965  20681.549180\n",
       "1     APOC1  62.592661  26926.408658\n",
       "2      CCL2  50.338299  11655.298804\n",
       "3   HLA-DRA  41.255103   5383.881679\n",
       "4    S100A6  33.135823   2235.936598\n",
       "5  HLA-DRB1  31.343684   4592.978040\n",
       "6    MT-ND3  28.315856   1645.625256\n",
       "7    MT-CO3  27.857212   2626.779998\n",
       "8     HLA-A  27.205862   2328.307377\n",
       "9     ISG15  25.552772   1349.995433"
      ]
     },
     "execution_count": 11,
     "metadata": {},
     "output_type": "execute_result"
    }
   ],
   "source": [
    "pd.DataFrame({\n",
    "    'Gene':top_10_genes.index.to_list(),\n",
    "    'Mean':top_10_genes.values.tolist(),\n",
    "    'Variance': var_by_Gene[top_10_genes.index.to_list()].values.tolist()\n",
    "})"
   ]
  },
  {
   "cell_type": "markdown",
   "id": "030b9257",
   "metadata": {},
   "source": [
    "**1.3.2 Most Variable Genes**"
   ]
  },
  {
   "cell_type": "code",
   "execution_count": 12,
   "id": "989dba3d",
   "metadata": {},
   "outputs": [],
   "source": [
    "top_10_genes = var_by_Gene.sort_values(ascending=False).head(10)"
   ]
  },
  {
   "cell_type": "code",
   "execution_count": 13,
   "id": "3179e22e",
   "metadata": {},
   "outputs": [
    {
     "data": {
      "text/html": [
       "<div>\n",
       "<style scoped>\n",
       "    .dataframe tbody tr th:only-of-type {\n",
       "        vertical-align: middle;\n",
       "    }\n",
       "\n",
       "    .dataframe tbody tr th {\n",
       "        vertical-align: top;\n",
       "    }\n",
       "\n",
       "    .dataframe thead th {\n",
       "        text-align: right;\n",
       "    }\n",
       "</style>\n",
       "<table border=\"1\" class=\"dataframe\">\n",
       "  <thead>\n",
       "    <tr style=\"text-align: right;\">\n",
       "      <th></th>\n",
       "      <th>Gene</th>\n",
       "      <th>Mean</th>\n",
       "      <th>Variance</th>\n",
       "    </tr>\n",
       "  </thead>\n",
       "  <tbody>\n",
       "    <tr>\n",
       "      <th>0</th>\n",
       "      <td>APOC1</td>\n",
       "      <td>26926.408658</td>\n",
       "      <td>26926.408658</td>\n",
       "    </tr>\n",
       "    <tr>\n",
       "      <th>1</th>\n",
       "      <td>CD74</td>\n",
       "      <td>20681.549180</td>\n",
       "      <td>20681.549180</td>\n",
       "    </tr>\n",
       "    <tr>\n",
       "      <th>2</th>\n",
       "      <td>CCL2</td>\n",
       "      <td>11655.298804</td>\n",
       "      <td>11655.298804</td>\n",
       "    </tr>\n",
       "    <tr>\n",
       "      <th>3</th>\n",
       "      <td>IGKV3-20</td>\n",
       "      <td>10058.526354</td>\n",
       "      <td>10058.526354</td>\n",
       "    </tr>\n",
       "    <tr>\n",
       "      <th>4</th>\n",
       "      <td>IGLV2-14</td>\n",
       "      <td>8559.494879</td>\n",
       "      <td>8559.494879</td>\n",
       "    </tr>\n",
       "    <tr>\n",
       "      <th>5</th>\n",
       "      <td>IGKV1D-13</td>\n",
       "      <td>6628.418487</td>\n",
       "      <td>6628.418487</td>\n",
       "    </tr>\n",
       "    <tr>\n",
       "      <th>6</th>\n",
       "      <td>HLA-DRA</td>\n",
       "      <td>5383.881679</td>\n",
       "      <td>5383.881679</td>\n",
       "    </tr>\n",
       "    <tr>\n",
       "      <th>7</th>\n",
       "      <td>IGKV3-11</td>\n",
       "      <td>4850.854421</td>\n",
       "      <td>4850.854421</td>\n",
       "    </tr>\n",
       "    <tr>\n",
       "      <th>8</th>\n",
       "      <td>HLA-DRB1</td>\n",
       "      <td>4592.978040</td>\n",
       "      <td>4592.978040</td>\n",
       "    </tr>\n",
       "    <tr>\n",
       "      <th>9</th>\n",
       "      <td>APOE</td>\n",
       "      <td>4103.631986</td>\n",
       "      <td>4103.631986</td>\n",
       "    </tr>\n",
       "  </tbody>\n",
       "</table>\n",
       "</div>"
      ],
      "text/plain": [
       "        Gene          Mean      Variance\n",
       "0      APOC1  26926.408658  26926.408658\n",
       "1       CD74  20681.549180  20681.549180\n",
       "2       CCL2  11655.298804  11655.298804\n",
       "3   IGKV3-20  10058.526354  10058.526354\n",
       "4   IGLV2-14   8559.494879   8559.494879\n",
       "5  IGKV1D-13   6628.418487   6628.418487\n",
       "6    HLA-DRA   5383.881679   5383.881679\n",
       "7   IGKV3-11   4850.854421   4850.854421\n",
       "8   HLA-DRB1   4592.978040   4592.978040\n",
       "9       APOE   4103.631986   4103.631986"
      ]
     },
     "execution_count": 13,
     "metadata": {},
     "output_type": "execute_result"
    }
   ],
   "source": [
    "pd.DataFrame({\n",
    "    'Gene':top_10_genes.index.to_list(),\n",
    "    'Mean':top_10_genes.values.tolist(),\n",
    "    'Variance': var_by_Gene[top_10_genes.index.to_list()].values.tolist()\n",
    "})"
   ]
  },
  {
   "cell_type": "code",
   "execution_count": 14,
   "id": "4075f40e",
   "metadata": {},
   "outputs": [],
   "source": [
    "del top_10_genes"
   ]
  },
  {
   "cell_type": "markdown",
   "id": "d6ce664d",
   "metadata": {},
   "source": [
    "**1.3.3 Relationship of them**"
   ]
  },
  {
   "cell_type": "code",
   "execution_count": 15,
   "id": "b86d6f6d",
   "metadata": {},
   "outputs": [
    {
     "data": {
      "text/plain": [
       "array([[1.        , 0.70265232],\n",
       "       [0.70265232, 1.        ]])"
      ]
     },
     "execution_count": 15,
     "metadata": {},
     "output_type": "execute_result"
    }
   ],
   "source": [
    "np.corrcoef(mean_by_Gene.values, var_by_Gene.values)"
   ]
  },
  {
   "cell_type": "code",
   "execution_count": 16,
   "id": "f2f13cbb",
   "metadata": {},
   "outputs": [
    {
     "data": {
      "image/png": "[encoded data removed]",
      "text/plain": [
       "<Figure size 500x300 with 1 Axes>"
      ]
     },
     "metadata": {},
     "output_type": "display_data"
    }
   ],
   "source": [
    "plt.figure(figsize=(5,3))\n",
    "plt.scatter(np.log1p(mean_by_Gene.values), np.log1p(var_by_Gene.values), s = 2)\n",
    "plt.xlabel('Mean By Gene (log based)')\n",
    "plt.ylabel('Variance By Gene (log based)')\n",
    "plt.show()"
   ]
  },
  {
   "cell_type": "code",
   "execution_count": 17,
   "id": "679465cb",
   "metadata": {},
   "outputs": [],
   "source": [
    "del mean_by_Gene"
   ]
  },
  {
   "cell_type": "markdown",
   "id": "ecb74ab5",
   "metadata": {},
   "source": [
    "**<h5>1.4 Data Distribution</h5>**"
   ]
  },
  {
   "cell_type": "markdown",
   "id": "52972249",
   "metadata": {},
   "source": [
    "+ Proportion of each label "
   ]
  },
  {
   "cell_type": "code",
   "execution_count": 18,
   "id": "c9a95411",
   "metadata": {},
   "outputs": [],
   "source": [
    "labels = train_df['CellType'].to_numpy().astype('int8')\n",
    "\n",
    "unique, counts = np.unique(labels, return_counts=True)"
   ]
  },
  {
   "cell_type": "code",
   "execution_count": 19,
   "id": "53fef603",
   "metadata": {},
   "outputs": [
    {
     "data": {
      "text/html": [
       "<div>\n",
       "<style scoped>\n",
       "    .dataframe tbody tr th:only-of-type {\n",
       "        vertical-align: middle;\n",
       "    }\n",
       "\n",
       "    .dataframe tbody tr th {\n",
       "        vertical-align: top;\n",
       "    }\n",
       "\n",
       "    .dataframe thead th {\n",
       "        text-align: right;\n",
       "    }\n",
       "</style>\n",
       "<table border=\"1\" class=\"dataframe\">\n",
       "  <thead>\n",
       "    <tr style=\"text-align: right;\">\n",
       "      <th></th>\n",
       "      <th>labels</th>\n",
       "      <th>ratio</th>\n",
       "    </tr>\n",
       "  </thead>\n",
       "  <tbody>\n",
       "    <tr>\n",
       "      <th>0</th>\n",
       "      <td>1</td>\n",
       "      <td>1.447873</td>\n",
       "    </tr>\n",
       "    <tr>\n",
       "      <th>1</th>\n",
       "      <td>2</td>\n",
       "      <td>79.861984</td>\n",
       "    </tr>\n",
       "    <tr>\n",
       "      <th>2</th>\n",
       "      <td>3</td>\n",
       "      <td>2.676470</td>\n",
       "    </tr>\n",
       "    <tr>\n",
       "      <th>3</th>\n",
       "      <td>4</td>\n",
       "      <td>1.254394</td>\n",
       "    </tr>\n",
       "    <tr>\n",
       "      <th>4</th>\n",
       "      <td>5</td>\n",
       "      <td>0.209603</td>\n",
       "    </tr>\n",
       "    <tr>\n",
       "      <th>5</th>\n",
       "      <td>6</td>\n",
       "      <td>0.067718</td>\n",
       "    </tr>\n",
       "    <tr>\n",
       "      <th>6</th>\n",
       "      <td>7</td>\n",
       "      <td>11.931250</td>\n",
       "    </tr>\n",
       "    <tr>\n",
       "      <th>7</th>\n",
       "      <td>8</td>\n",
       "      <td>1.802586</td>\n",
       "    </tr>\n",
       "    <tr>\n",
       "      <th>8</th>\n",
       "      <td>9</td>\n",
       "      <td>0.212828</td>\n",
       "    </tr>\n",
       "    <tr>\n",
       "      <th>9</th>\n",
       "      <td>10</td>\n",
       "      <td>0.535294</td>\n",
       "    </tr>\n",
       "  </tbody>\n",
       "</table>\n",
       "</div>"
      ],
      "text/plain": [
       "   labels      ratio\n",
       "0       1   1.447873\n",
       "1       2  79.861984\n",
       "2       3   2.676470\n",
       "3       4   1.254394\n",
       "4       5   0.209603\n",
       "5       6   0.067718\n",
       "6       7  11.931250\n",
       "7       8   1.802586\n",
       "8       9   0.212828\n",
       "9      10   0.535294"
      ]
     },
     "execution_count": 19,
     "metadata": {},
     "output_type": "execute_result"
    }
   ],
   "source": [
    "pd.DataFrame({\n",
    "    'labels': unique,\n",
    "    'ratio': counts * 100 / sum(counts)\n",
    "})"
   ]
  },
  {
   "cell_type": "code",
   "execution_count": 20,
   "id": "f920d5d7",
   "metadata": {},
   "outputs": [
    {
     "data": {
      "image/png": "[encoded data removed]",
      "text/plain": [
       "<Figure size 300x300 with 1 Axes>"
      ]
     },
     "metadata": {},
     "output_type": "display_data"
    }
   ],
   "source": [
    "plt.figure(figsize=(3, 3))\n",
    "plt.pie(counts, labels=[f'{val}' for val in unique], autopct='%1.1f%%', startangle=90)\n",
    "plt.title('Pie Chart of Labels')\n",
    "plt.show()"
   ]
  },
  {
   "cell_type": "markdown",
   "id": "19ae6d06",
   "metadata": {},
   "source": [
    "-> We see Extreme Class Imbalace\n",
    "\n",
    "Where Cell type 2 dominates all classes at ~ 80%, this can create a lot of biases towards **label 2** in the training process"
   ]
  },
  {
   "cell_type": "markdown",
   "id": "7c3bf438",
   "metadata": {},
   "source": [
    "+ Gene distribution\n",
    "\n",
    "-> I will pick top 10 most variable genes for visualization"
   ]
  },
  {
   "cell_type": "code",
   "execution_count": 21,
   "id": "9022f331",
   "metadata": {},
   "outputs": [],
   "source": [
    "top_10_genes = var_by_Gene.sort_values(ascending=False).head(10)"
   ]
  },
  {
   "cell_type": "code",
   "execution_count": 22,
   "id": "172d2b25",
   "metadata": {},
   "outputs": [],
   "source": [
    "top_10_var_names = top_10_genes.index.tolist()\n",
    "high_variable_df = train_df.loc[:, top_10_var_names]"
   ]
  },
  {
   "cell_type": "code",
   "execution_count": 23,
   "id": "4f3873b3",
   "metadata": {},
   "outputs": [
    {
     "data": {
      "text/plain": [
       "Text(0.5, 0, 'Gene Expression')"
      ]
     },
     "execution_count": 23,
     "metadata": {},
     "output_type": "execute_result"
    },
    {
     "data": {
      "image/png": "[encoded data removed]",
      "text/plain": [
       "<Figure size 700x300 with 1 Axes>"
      ]
     },
     "metadata": {},
     "output_type": "display_data"
    }
   ],
   "source": [
    "plt.figure(figsize=(7, 3))\n",
    "for gene in top_10_var_names:\n",
    "    sns.kdeplot(high_variable_df.loc[:, gene], label = gene)\n",
    "\n",
    "plt.xlim([0,300])\n",
    "plt.title('Distribution of top 20 highest variable genes')\n",
    "plt.xlabel('Gene Expression')"
   ]
  },
  {
   "cell_type": "code",
   "execution_count": 24,
   "id": "bfac77c3",
   "metadata": {},
   "outputs": [
    {
     "data": {
      "text/plain": [
       "3144"
      ]
     },
     "execution_count": 24,
     "metadata": {},
     "output_type": "execute_result"
    }
   ],
   "source": [
    "del top_10_genes\n",
    "del top_10_var_names\n",
    "del high_variable_df\n",
    "\n",
    "gc.collect()"
   ]
  },
  {
   "cell_type": "markdown",
   "id": "3fd62c6d",
   "metadata": {},
   "source": [
    "**<h5>1.5 Gene activity per cell type</h5>**"
   ]
  },
  {
   "cell_type": "code",
   "execution_count": 25,
   "id": "bff8c484",
   "metadata": {},
   "outputs": [],
   "source": [
    "x = train_df.groupby('CellType').mean().iloc[:, 1:]"
   ]
  },
  {
   "cell_type": "code",
   "execution_count": 26,
   "id": "7a9c2627",
   "metadata": {},
   "outputs": [
    {
     "data": {
      "text/plain": [
       "<Axes: ylabel='CellType'>"
      ]
     },
     "execution_count": 26,
     "metadata": {},
     "output_type": "execute_result"
    },
    {
     "data": {
      "image/png": "[encoded data removed]",
      "text/plain": [
       "<Figure size 3000x500 with 2 Axes>"
      ]
     },
     "metadata": {},
     "output_type": "display_data"
    }
   ],
   "source": [
    "plt.figure(figsize=(30, 5))\n",
    "sns.heatmap(data=x, cmap=\"YlGnBu\", xticklabels=False, linecolor='gray')"
   ]
  },
  {
   "cell_type": "markdown",
   "id": "75a6696e",
   "metadata": {},
   "source": [
    "#Definitely, some genes are very active in one specific class ! We will use them as Marker Genes"
   ]
  },
  {
   "cell_type": "code",
   "execution_count": 27,
   "id": "27a5367e",
   "metadata": {},
   "outputs": [
    {
     "data": {
      "text/plain": [
       "5"
      ]
     },
     "execution_count": 27,
     "metadata": {},
     "output_type": "execute_result"
    }
   ],
   "source": [
    "del x\n",
    "gc.collect()"
   ]
  },
  {
   "cell_type": "markdown",
   "id": "1f03fdc2",
   "metadata": {},
   "source": [
    "**<h3> 2. Feature Engineering </h3>**"
   ]
  },
  {
   "cell_type": "markdown",
   "id": "39f9a476",
   "metadata": {},
   "source": [
    "**<h5>2.1 Stabilize Data</h5>**"
   ]
  },
  {
   "cell_type": "markdown",
   "id": "5dffc184",
   "metadata": {},
   "source": [
    "**2.1.1 Split Gene Matrix and Label vector**"
   ]
  },
  {
   "cell_type": "code",
   "execution_count": 28,
   "id": "13bde6a6",
   "metadata": {},
   "outputs": [],
   "source": [
    "#train set\n",
    "train_genes = train_df.iloc[:, 2:]\n",
    "train_labels = train_df['CellType']"
   ]
  },
  {
   "cell_type": "code",
   "execution_count": 29,
   "id": "1e07ed82",
   "metadata": {},
   "outputs": [],
   "source": [
    "#test set\n",
    "test_genes = test_df.iloc[:, 1:]"
   ]
  },
  {
   "cell_type": "markdown",
   "id": "3e73d3b9",
   "metadata": {},
   "source": [
    "**2.1.2 Remove Gene with low variance**"
   ]
  },
  {
   "cell_type": "code",
   "execution_count": 30,
   "id": "c7791abf",
   "metadata": {},
   "outputs": [],
   "source": [
    "#Remove Gene with low var on train set\n",
    "selector = VarianceThreshold(threshold = 0.01)\n",
    "reduced_train_genes = selector.fit_transform(train_genes)"
   ]
  },
  {
   "cell_type": "code",
   "execution_count": 31,
   "id": "cc0ea918",
   "metadata": {},
   "outputs": [],
   "source": [
    "selected_columns = train_genes.columns[selector.get_support()]\n",
    "reduced_train_genes = pd.DataFrame(reduced_train_genes, columns=selected_columns)"
   ]
  },
  {
   "cell_type": "code",
   "execution_count": 32,
   "id": "20ea52d2",
   "metadata": {},
   "outputs": [],
   "source": [
    "#Apply the same on test set using selected columns from train\n",
    "reduced_test_genes = pd.DataFrame(test_genes.loc[:, selected_columns].to_numpy(), columns=selected_columns)"
   ]
  },
  {
   "cell_type": "markdown",
   "id": "cad1272a",
   "metadata": {},
   "source": [
    "**2.1.3 Log transformation to reduce skewness**"
   ]
  },
  {
   "cell_type": "code",
   "execution_count": 33,
   "id": "c6e9b216",
   "metadata": {},
   "outputs": [],
   "source": [
    "log_reduced_train_genes = np.log1p(reduced_train_genes)\n",
    "log_reduced_test_genes  = np.log1p(reduced_test_genes)"
   ]
  },
  {
   "cell_type": "markdown",
   "id": "5506741d",
   "metadata": {},
   "source": [
    "**<h5>2.2 Dimensionality Reduction using PCA</h5>**"
   ]
  },
  {
   "cell_type": "markdown",
   "id": "53d16770",
   "metadata": {},
   "source": [
    "**2.2.1 Prepare data for PCA**"
   ]
  },
  {
   "cell_type": "markdown",
   "id": "0b8a05ae",
   "metadata": {},
   "source": [
    "We will be using top 2000 variable genes as input for PCA"
   ]
  },
  {
   "cell_type": "code",
   "execution_count": 34,
   "id": "00e417aa",
   "metadata": {},
   "outputs": [],
   "source": [
    "k = 2000\n",
    "\n",
    "top_k_genes = var_by_Gene.sort_values(ascending=False).head(k)"
   ]
  },
  {
   "cell_type": "code",
   "execution_count": 35,
   "id": "41b4373f",
   "metadata": {},
   "outputs": [],
   "source": [
    "centered_data = log_reduced_train_genes - log_reduced_train_genes.mean()"
   ]
  },
  {
   "cell_type": "code",
   "execution_count": 36,
   "id": "1e6985e2",
   "metadata": {},
   "outputs": [],
   "source": [
    "top_k_names = top_k_genes.index.tolist()\n",
    "\n",
    "X_top_K = centered_data.loc[:, top_k_names].to_numpy()"
   ]
  },
  {
   "cell_type": "markdown",
   "id": "c6a139ea",
   "metadata": {},
   "source": [
    "**2.2.2 Fit PCA**"
   ]
  },
  {
   "cell_type": "code",
   "execution_count": 37,
   "id": "19564c57",
   "metadata": {},
   "outputs": [],
   "source": [
    "pca = PCA(n_components=500)\n",
    "X_pca = pca.fit_transform(X_top_K)"
   ]
  },
  {
   "cell_type": "markdown",
   "id": "0dc694bd",
   "metadata": {},
   "source": [
    "**2.2.3 Show Cumulative Coverage + Scree Plot**"
   ]
  },
  {
   "cell_type": "code",
   "execution_count": 38,
   "id": "d82b55b7",
   "metadata": {},
   "outputs": [],
   "source": [
    "cumulative_ratio = np.cumsum(pca.explained_variance_ratio_)"
   ]
  },
  {
   "cell_type": "code",
   "execution_count": 39,
   "id": "a359eb6f",
   "metadata": {},
   "outputs": [
    {
     "data": {
      "text/html": [
       "<div>\n",
       "<style scoped>\n",
       "    .dataframe tbody tr th:only-of-type {\n",
       "        vertical-align: middle;\n",
       "    }\n",
       "\n",
       "    .dataframe tbody tr th {\n",
       "        vertical-align: top;\n",
       "    }\n",
       "\n",
       "    .dataframe thead th {\n",
       "        text-align: right;\n",
       "    }\n",
       "</style>\n",
       "<table border=\"1\" class=\"dataframe\">\n",
       "  <thead>\n",
       "    <tr style=\"text-align: right;\">\n",
       "      <th></th>\n",
       "      <th>PC</th>\n",
       "      <th>Variance Explained</th>\n",
       "      <th>Cumulative Variance Explained</th>\n",
       "    </tr>\n",
       "  </thead>\n",
       "  <tbody>\n",
       "    <tr>\n",
       "      <th>0</th>\n",
       "      <td>1</td>\n",
       "      <td>0.288992</td>\n",
       "      <td>0.288992</td>\n",
       "    </tr>\n",
       "    <tr>\n",
       "      <th>1</th>\n",
       "      <td>2</td>\n",
       "      <td>0.137180</td>\n",
       "      <td>0.426172</td>\n",
       "    </tr>\n",
       "    <tr>\n",
       "      <th>2</th>\n",
       "      <td>3</td>\n",
       "      <td>0.051477</td>\n",
       "      <td>0.477649</td>\n",
       "    </tr>\n",
       "    <tr>\n",
       "      <th>3</th>\n",
       "      <td>4</td>\n",
       "      <td>0.020058</td>\n",
       "      <td>0.497707</td>\n",
       "    </tr>\n",
       "    <tr>\n",
       "      <th>4</th>\n",
       "      <td>5</td>\n",
       "      <td>0.016031</td>\n",
       "      <td>0.513738</td>\n",
       "    </tr>\n",
       "    <tr>\n",
       "      <th>5</th>\n",
       "      <td>6</td>\n",
       "      <td>0.013581</td>\n",
       "      <td>0.527319</td>\n",
       "    </tr>\n",
       "    <tr>\n",
       "      <th>6</th>\n",
       "      <td>7</td>\n",
       "      <td>0.010996</td>\n",
       "      <td>0.538315</td>\n",
       "    </tr>\n",
       "    <tr>\n",
       "      <th>7</th>\n",
       "      <td>8</td>\n",
       "      <td>0.009673</td>\n",
       "      <td>0.547988</td>\n",
       "    </tr>\n",
       "    <tr>\n",
       "      <th>8</th>\n",
       "      <td>9</td>\n",
       "      <td>0.008957</td>\n",
       "      <td>0.556945</td>\n",
       "    </tr>\n",
       "    <tr>\n",
       "      <th>9</th>\n",
       "      <td>10</td>\n",
       "      <td>0.006911</td>\n",
       "      <td>0.563856</td>\n",
       "    </tr>\n",
       "  </tbody>\n",
       "</table>\n",
       "</div>"
      ],
      "text/plain": [
       "   PC  Variance Explained  Cumulative Variance Explained\n",
       "0   1            0.288992                       0.288992\n",
       "1   2            0.137180                       0.426172\n",
       "2   3            0.051477                       0.477649\n",
       "3   4            0.020058                       0.497707\n",
       "4   5            0.016031                       0.513738\n",
       "5   6            0.013581                       0.527319\n",
       "6   7            0.010996                       0.538315\n",
       "7   8            0.009673                       0.547988\n",
       "8   9            0.008957                       0.556945\n",
       "9  10            0.006911                       0.563856"
      ]
     },
     "execution_count": 39,
     "metadata": {},
     "output_type": "execute_result"
    }
   ],
   "source": [
    "pd.DataFrame({\n",
    "    'PC':np.arange(1, 11, 1),\n",
    "    'Variance Explained': pca.explained_variance_ratio_[:10],\n",
    "    'Cumulative Variance Explained': cumulative_ratio[:10]\n",
    "})"
   ]
  },
  {
   "cell_type": "code",
   "execution_count": 40,
   "id": "82405a70",
   "metadata": {},
   "outputs": [
    {
     "data": {
      "image/png": "[encoded data removed]",
      "text/plain": [
       "<Figure size 500x300 with 1 Axes>"
      ]
     },
     "metadata": {},
     "output_type": "display_data"
    }
   ],
   "source": [
    "plt.figure(figsize=(5, 3))\n",
    "plt.plot(range(1, len(cumulative_ratio) + 1), cumulative_ratio, marker='o')\n",
    "plt.axhline(y=0.7, color='r', linestyle='--', label='95% variance')\n",
    "plt.title('Scree Plot - Variance Coverage of n_components')\n",
    "plt.xlabel('Components')\n",
    "plt.ylabel('Variance Coverage')\n",
    "plt.show()"
   ]
  },
  {
   "cell_type": "code",
   "execution_count": 41,
   "id": "bc9d2556",
   "metadata": {},
   "outputs": [],
   "source": [
    "del cumulative_ratio"
   ]
  },
  {
   "cell_type": "markdown",
   "id": "c5ed5446",
   "metadata": {},
   "source": [
    "**2.2.4 PCA dataframe**"
   ]
  },
  {
   "cell_type": "markdown",
   "id": "034be91d",
   "metadata": {},
   "source": [
    "+ We would use around 100 Components, it will cover around 70% of the variation"
   ]
  },
  {
   "cell_type": "markdown",
   "id": "45f7f52b",
   "metadata": {},
   "source": [
    "a. Train Set"
   ]
  },
  {
   "cell_type": "code",
   "execution_count": 42,
   "id": "7a59b108",
   "metadata": {},
   "outputs": [],
   "source": [
    "train_PCA = pd.DataFrame(\n",
    "    X_pca[:, :100],\n",
    "    columns=[f'PC{i}' for i in range(1, 101)]\n",
    ")"
   ]
  },
  {
   "cell_type": "markdown",
   "id": "89240aa0",
   "metadata": {},
   "source": [
    "b. Test Set"
   ]
  },
  {
   "cell_type": "code",
   "execution_count": 43,
   "id": "c73ca5ef",
   "metadata": {},
   "outputs": [],
   "source": [
    "centered_data = log_reduced_test_genes - log_reduced_test_genes.mean()"
   ]
  },
  {
   "cell_type": "code",
   "execution_count": 44,
   "id": "516f71ce",
   "metadata": {},
   "outputs": [],
   "source": [
    "X_top_K = centered_data.loc[:, top_k_names].to_numpy()"
   ]
  },
  {
   "cell_type": "code",
   "execution_count": 45,
   "id": "f4d467bf",
   "metadata": {},
   "outputs": [],
   "source": [
    "X_pca = pca.transform(X_top_K)"
   ]
  },
  {
   "cell_type": "code",
   "execution_count": 46,
   "id": "9be6ac1c",
   "metadata": {},
   "outputs": [],
   "source": [
    "test_PCA = pd.DataFrame(\n",
    "    X_pca[:, :100],\n",
    "    columns=[f'PC{i}' for i in range(1, 101)]\n",
    ")"
   ]
  },
  {
   "cell_type": "markdown",
   "id": "b01ade67",
   "metadata": {},
   "source": [
    "Clean Data"
   ]
  },
  {
   "cell_type": "code",
   "execution_count": 47,
   "id": "0a76ab93",
   "metadata": {},
   "outputs": [
    {
     "data": {
      "text/plain": [
       "3156"
      ]
     },
     "execution_count": 47,
     "metadata": {},
     "output_type": "execute_result"
    }
   ],
   "source": [
    "del pca\n",
    "del X_top_K\n",
    "del X_pca\n",
    "del centered_data\n",
    "gc.collect()"
   ]
  },
  {
   "cell_type": "markdown",
   "id": "29741ef6",
   "metadata": {},
   "source": [
    "**<h5>2.3. Marker Genes</h5>**\n",
    "\n",
    "A gene can be more active in one cell type than in another (shown in EDA), we can use that fact to create more **supportive features**"
   ]
  },
  {
   "cell_type": "markdown",
   "id": "5030bc1f",
   "metadata": {},
   "source": [
    "**2.3.1 Heatmap to support idea**"
   ]
  },
  {
   "cell_type": "code",
   "execution_count": 48,
   "id": "894beeef",
   "metadata": {},
   "outputs": [
    {
     "data": {
      "text/plain": [
       "<Axes: title={'center': 'Gene Intensity per Cell Class - Train data'}, ylabel='CellType'>"
      ]
     },
     "execution_count": 48,
     "metadata": {},
     "output_type": "execute_result"
    },
    {
     "data": {
      "image/png": "[encoded data removed]",
      "text/plain": [
       "<Figure size 3000x400 with 2 Axes>"
      ]
     },
     "metadata": {},
     "output_type": "display_data"
    }
   ],
   "source": [
    "x = pd.concat([pd.DataFrame({'CellType': labels}), reduced_train_genes], axis=1).groupby('CellType').mean().iloc[:, 1:]\n",
    "plt.figure(figsize=(30, 4))\n",
    "plt.title('Gene Intensity per Cell Class - Train data')\n",
    "sns.heatmap(data=x, cmap=\"YlGnBu\", xticklabels=False, linecolor='gray')"
   ]
  },
  {
   "cell_type": "markdown",
   "id": "4ce66dd7",
   "metadata": {},
   "source": [
    "**2.3.2 Log Fold Change**"
   ]
  },
  {
   "cell_type": "markdown",
   "id": "98dae529",
   "metadata": {},
   "source": [
    "Constrains:\n",
    "\n",
    "1. Log FC >= 1\n",
    "2. detect_diff > (80-20) = 0.6\n",
    "\n",
    "<i>Overall</i>: Score >= 0.4 (Very strict)"
   ]
  },
  {
   "cell_type": "code",
   "execution_count": 49,
   "id": "30b797eb",
   "metadata": {},
   "outputs": [],
   "source": [
    "def find_marker_genes(data, labels, cell_type, threshold, k, epsilon=1e-6):\n",
    "\n",
    "    '''\n",
    "    This function returns top k marker genes ranked by Harmonized Score\n",
    "    '''\n",
    "\n",
    "    current_label = data[labels == cell_type]\n",
    "    other_labels = data[labels != cell_type]\n",
    "\n",
    "    in_means = current_label.mean() + epsilon\n",
    "    out_means = other_labels.mean() + epsilon\n",
    "\n",
    "    log_FC = np.log2(in_means / out_means)\n",
    "\n",
    "    in_detect = (current_label > 0).sum() / len(current_label)\n",
    "    out_detect = (other_labels > 0).sum() / len(other_labels)\n",
    "\n",
    "    detect_diff = in_detect - out_detect\n",
    "\n",
    "    #harmonized score\n",
    "    score = (2 * log_FC * detect_diff) / (log_FC + detect_diff)\n",
    "\n",
    "    score = score[score >= threshold]\n",
    "\n",
    "    score = score.sort_values(ascending=False).head(k)\n",
    "\n",
    "    return score.index.tolist()"
   ]
  },
  {
   "cell_type": "code",
   "execution_count": 50,
   "id": "435cb9b9",
   "metadata": {},
   "outputs": [],
   "source": [
    "all_markers = set()\n",
    "unique_markers = {}\n",
    "\n",
    "for cell_type in np.unique(labels):\n",
    "    found_markers = find_marker_genes(reduced_train_genes, labels, cell_type, 0.5, 10)\n",
    "\n",
    "    all_markers.update(found_markers)\n",
    "\n",
    "    unique_markers[cell_type] = [marker for marker in found_markers if (marker in all_markers)]\n",
    "\n",
    "all_markers = list(all_markers)"
   ]
  },
  {
   "cell_type": "code",
   "execution_count": 51,
   "id": "bb69eff7",
   "metadata": {},
   "outputs": [
    {
     "data": {
      "text/plain": [
       "97"
      ]
     },
     "execution_count": 51,
     "metadata": {},
     "output_type": "execute_result"
    }
   ],
   "source": [
    "#For each cell type we do have around 10 distinct Marker Genes\n",
    "len(all_markers)"
   ]
  },
  {
   "cell_type": "markdown",
   "id": "56c71df8",
   "metadata": {},
   "source": [
    "**2.3.3 We want to visualize how Marker Genes behave**"
   ]
  },
  {
   "cell_type": "markdown",
   "id": "3d2d6a91",
   "metadata": {},
   "source": [
    "a. Trainset marker genes"
   ]
  },
  {
   "cell_type": "code",
   "execution_count": 52,
   "id": "eae1c9c6",
   "metadata": {},
   "outputs": [],
   "source": [
    "train_marker_gene = reduced_train_genes.loc[:, list(all_markers)]"
   ]
  },
  {
   "cell_type": "code",
   "execution_count": 53,
   "id": "687d5f3e",
   "metadata": {},
   "outputs": [
    {
     "data": {
      "text/plain": [
       "<Axes: title={'center': 'Marker Gene Intensity per Cell Class - Train data'}, ylabel='CellType'>"
      ]
     },
     "execution_count": 53,
     "metadata": {},
     "output_type": "execute_result"
    },
    {
     "data": {
      "image/png": "[encoded data removed]",
      "text/plain": [
       "<Figure size 3000x400 with 2 Axes>"
      ]
     },
     "metadata": {},
     "output_type": "display_data"
    }
   ],
   "source": [
    "x = pd.concat([pd.DataFrame({'CellType': labels}), train_marker_gene], axis=1).groupby('CellType').mean()\n",
    "plt.figure(figsize=(30, 4))\n",
    "plt.title('Marker Gene Intensity per Cell Class - Train data')\n",
    "sns.heatmap(data=x, cmap=\"YlGnBu\", xticklabels=False, linecolor='gray')"
   ]
  },
  {
   "cell_type": "markdown",
   "id": "fc2b2c63",
   "metadata": {},
   "source": [
    "b. Testset marker genes"
   ]
  },
  {
   "cell_type": "code",
   "execution_count": 54,
   "id": "1a356591",
   "metadata": {},
   "outputs": [],
   "source": [
    "test_marker_gene = reduced_test_genes.loc[:, list(all_markers)]"
   ]
  },
  {
   "cell_type": "markdown",
   "id": "541cb1b7",
   "metadata": {},
   "source": [
    "**2.3.4 Final Dataset**"
   ]
  },
  {
   "cell_type": "markdown",
   "id": "1c85aa58",
   "metadata": {},
   "source": [
    "Marker Genes are perfect to be the features to train, but using only them is not enough.\n",
    "\n",
    "The reason is, data is highly imbalance, it's marker gene in the training dataset. But <u>we are not sure</u> if they represent the actual markers in **the underlying distribution**\n",
    "\n",
    "-> Thus, we combine it with the PCA set, which currenly has no biases towards any label."
   ]
  },
  {
   "cell_type": "markdown",
   "id": "087a0f3b",
   "metadata": {},
   "source": [
    "a. Trainset"
   ]
  },
  {
   "cell_type": "code",
   "execution_count": 168,
   "id": "a4912e8e",
   "metadata": {},
   "outputs": [],
   "source": [
    "train_log_markers = np.log1p(train_marker_gene)"
   ]
  },
  {
   "cell_type": "code",
   "execution_count": 171,
   "id": "2087e909",
   "metadata": {},
   "outputs": [],
   "source": [
    "X_train = pd.concat([train_log_markers, train_PCA], axis = 1)"
   ]
  },
  {
   "cell_type": "code",
   "execution_count": 172,
   "id": "256db3e8",
   "metadata": {},
   "outputs": [
    {
     "data": {
      "text/html": [
       "<div>\n",
       "<style scoped>\n",
       "    .dataframe tbody tr th:only-of-type {\n",
       "        vertical-align: middle;\n",
       "    }\n",
       "\n",
       "    .dataframe tbody tr th {\n",
       "        vertical-align: top;\n",
       "    }\n",
       "\n",
       "    .dataframe thead th {\n",
       "        text-align: right;\n",
       "    }\n",
       "</style>\n",
       "<table border=\"1\" class=\"dataframe\">\n",
       "  <thead>\n",
       "    <tr style=\"text-align: right;\">\n",
       "      <th></th>\n",
       "      <th>MS4A1</th>\n",
       "      <th>KRT8</th>\n",
       "      <th>BANK1</th>\n",
       "      <th>WSB1</th>\n",
       "      <th>FKBP11</th>\n",
       "      <th>SERPINA1</th>\n",
       "      <th>BASP1</th>\n",
       "      <th>IGLL5</th>\n",
       "      <th>CD37</th>\n",
       "      <th>JCHAIN</th>\n",
       "      <th>...</th>\n",
       "      <th>PC91</th>\n",
       "      <th>PC92</th>\n",
       "      <th>PC93</th>\n",
       "      <th>PC94</th>\n",
       "      <th>PC95</th>\n",
       "      <th>PC96</th>\n",
       "      <th>PC97</th>\n",
       "      <th>PC98</th>\n",
       "      <th>PC99</th>\n",
       "      <th>PC100</th>\n",
       "    </tr>\n",
       "  </thead>\n",
       "  <tbody>\n",
       "    <tr>\n",
       "      <th>0</th>\n",
       "      <td>0.0</td>\n",
       "      <td>0.0</td>\n",
       "      <td>0.0</td>\n",
       "      <td>0.693147</td>\n",
       "      <td>0.0</td>\n",
       "      <td>1.098612</td>\n",
       "      <td>0.0</td>\n",
       "      <td>0.0</td>\n",
       "      <td>0.0</td>\n",
       "      <td>0.0</td>\n",
       "      <td>...</td>\n",
       "      <td>-0.217232</td>\n",
       "      <td>0.279965</td>\n",
       "      <td>0.127037</td>\n",
       "      <td>0.047886</td>\n",
       "      <td>0.787094</td>\n",
       "      <td>0.153304</td>\n",
       "      <td>-0.124496</td>\n",
       "      <td>-0.251047</td>\n",
       "      <td>0.444177</td>\n",
       "      <td>-0.335893</td>\n",
       "    </tr>\n",
       "    <tr>\n",
       "      <th>1</th>\n",
       "      <td>0.0</td>\n",
       "      <td>0.0</td>\n",
       "      <td>0.0</td>\n",
       "      <td>0.693147</td>\n",
       "      <td>0.0</td>\n",
       "      <td>1.791759</td>\n",
       "      <td>0.0</td>\n",
       "      <td>0.0</td>\n",
       "      <td>0.0</td>\n",
       "      <td>0.0</td>\n",
       "      <td>...</td>\n",
       "      <td>-0.038383</td>\n",
       "      <td>-0.129455</td>\n",
       "      <td>-0.158835</td>\n",
       "      <td>-0.367436</td>\n",
       "      <td>0.197329</td>\n",
       "      <td>0.342992</td>\n",
       "      <td>-0.146266</td>\n",
       "      <td>0.532877</td>\n",
       "      <td>-0.820117</td>\n",
       "      <td>-0.438255</td>\n",
       "    </tr>\n",
       "    <tr>\n",
       "      <th>2</th>\n",
       "      <td>0.0</td>\n",
       "      <td>0.0</td>\n",
       "      <td>0.0</td>\n",
       "      <td>0.693147</td>\n",
       "      <td>0.0</td>\n",
       "      <td>1.609438</td>\n",
       "      <td>0.0</td>\n",
       "      <td>0.0</td>\n",
       "      <td>0.0</td>\n",
       "      <td>0.0</td>\n",
       "      <td>...</td>\n",
       "      <td>0.077457</td>\n",
       "      <td>0.091959</td>\n",
       "      <td>0.318095</td>\n",
       "      <td>0.221591</td>\n",
       "      <td>-0.250459</td>\n",
       "      <td>0.357587</td>\n",
       "      <td>0.231073</td>\n",
       "      <td>-0.148886</td>\n",
       "      <td>-0.302011</td>\n",
       "      <td>-0.735163</td>\n",
       "    </tr>\n",
       "  </tbody>\n",
       "</table>\n",
       "<p>3 rows × 197 columns</p>\n",
       "</div>"
      ],
      "text/plain": [
       "   MS4A1  KRT8  BANK1      WSB1  FKBP11  SERPINA1  BASP1  IGLL5  CD37  JCHAIN  \\\n",
       "0    0.0   0.0    0.0  0.693147     0.0  1.098612    0.0    0.0   0.0     0.0   \n",
       "1    0.0   0.0    0.0  0.693147     0.0  1.791759    0.0    0.0   0.0     0.0   \n",
       "2    0.0   0.0    0.0  0.693147     0.0  1.609438    0.0    0.0   0.0     0.0   \n",
       "\n",
       "   ...      PC91      PC92      PC93      PC94      PC95      PC96      PC97  \\\n",
       "0  ... -0.217232  0.279965  0.127037  0.047886  0.787094  0.153304 -0.124496   \n",
       "1  ... -0.038383 -0.129455 -0.158835 -0.367436  0.197329  0.342992 -0.146266   \n",
       "2  ...  0.077457  0.091959  0.318095  0.221591 -0.250459  0.357587  0.231073   \n",
       "\n",
       "       PC98      PC99     PC100  \n",
       "0 -0.251047  0.444177 -0.335893  \n",
       "1  0.532877 -0.820117 -0.438255  \n",
       "2 -0.148886 -0.302011 -0.735163  \n",
       "\n",
       "[3 rows x 197 columns]"
      ]
     },
     "execution_count": 172,
     "metadata": {},
     "output_type": "execute_result"
    }
   ],
   "source": [
    "X_train.head(3)"
   ]
  },
  {
   "cell_type": "markdown",
   "id": "1f91b52b",
   "metadata": {},
   "source": [
    "b. Testset"
   ]
  },
  {
   "cell_type": "code",
   "execution_count": 58,
   "id": "e3ff3299",
   "metadata": {},
   "outputs": [],
   "source": [
    "test_log_markers = np.log1p(test_marker_gene)"
   ]
  },
  {
   "cell_type": "code",
   "execution_count": 59,
   "id": "2a5d190e",
   "metadata": {},
   "outputs": [],
   "source": [
    "X_test = pd.concat([test_log_markers, test_PCA], axis = 1)"
   ]
  },
  {
   "cell_type": "code",
   "execution_count": 60,
   "id": "f5b38887",
   "metadata": {},
   "outputs": [
    {
     "data": {
      "text/html": [
       "<div>\n",
       "<style scoped>\n",
       "    .dataframe tbody tr th:only-of-type {\n",
       "        vertical-align: middle;\n",
       "    }\n",
       "\n",
       "    .dataframe tbody tr th {\n",
       "        vertical-align: top;\n",
       "    }\n",
       "\n",
       "    .dataframe thead th {\n",
       "        text-align: right;\n",
       "    }\n",
       "</style>\n",
       "<table border=\"1\" class=\"dataframe\">\n",
       "  <thead>\n",
       "    <tr style=\"text-align: right;\">\n",
       "      <th></th>\n",
       "      <th>MS4A1</th>\n",
       "      <th>KRT8</th>\n",
       "      <th>BANK1</th>\n",
       "      <th>WSB1</th>\n",
       "      <th>FKBP11</th>\n",
       "      <th>SERPINA1</th>\n",
       "      <th>BASP1</th>\n",
       "      <th>IGLL5</th>\n",
       "      <th>CD37</th>\n",
       "      <th>JCHAIN</th>\n",
       "      <th>...</th>\n",
       "      <th>PC91</th>\n",
       "      <th>PC92</th>\n",
       "      <th>PC93</th>\n",
       "      <th>PC94</th>\n",
       "      <th>PC95</th>\n",
       "      <th>PC96</th>\n",
       "      <th>PC97</th>\n",
       "      <th>PC98</th>\n",
       "      <th>PC99</th>\n",
       "      <th>PC100</th>\n",
       "    </tr>\n",
       "  </thead>\n",
       "  <tbody>\n",
       "    <tr>\n",
       "      <th>0</th>\n",
       "      <td>0.0</td>\n",
       "      <td>0.0</td>\n",
       "      <td>0.0</td>\n",
       "      <td>0.000000</td>\n",
       "      <td>0.0</td>\n",
       "      <td>1.945910</td>\n",
       "      <td>0.0</td>\n",
       "      <td>0.0</td>\n",
       "      <td>1.098612</td>\n",
       "      <td>0.0</td>\n",
       "      <td>...</td>\n",
       "      <td>-0.430992</td>\n",
       "      <td>0.653174</td>\n",
       "      <td>-0.500288</td>\n",
       "      <td>-0.275026</td>\n",
       "      <td>-0.944144</td>\n",
       "      <td>0.146941</td>\n",
       "      <td>0.112798</td>\n",
       "      <td>-0.077805</td>\n",
       "      <td>-0.027322</td>\n",
       "      <td>0.260344</td>\n",
       "    </tr>\n",
       "    <tr>\n",
       "      <th>1</th>\n",
       "      <td>0.0</td>\n",
       "      <td>0.0</td>\n",
       "      <td>0.0</td>\n",
       "      <td>0.693147</td>\n",
       "      <td>0.0</td>\n",
       "      <td>1.791759</td>\n",
       "      <td>0.0</td>\n",
       "      <td>0.0</td>\n",
       "      <td>1.098612</td>\n",
       "      <td>0.0</td>\n",
       "      <td>...</td>\n",
       "      <td>0.145651</td>\n",
       "      <td>1.077788</td>\n",
       "      <td>0.168156</td>\n",
       "      <td>0.662105</td>\n",
       "      <td>-0.535711</td>\n",
       "      <td>0.479748</td>\n",
       "      <td>1.201142</td>\n",
       "      <td>-0.398260</td>\n",
       "      <td>0.394861</td>\n",
       "      <td>0.169002</td>\n",
       "    </tr>\n",
       "    <tr>\n",
       "      <th>2</th>\n",
       "      <td>0.0</td>\n",
       "      <td>0.0</td>\n",
       "      <td>0.0</td>\n",
       "      <td>0.693147</td>\n",
       "      <td>0.0</td>\n",
       "      <td>1.791759</td>\n",
       "      <td>0.0</td>\n",
       "      <td>0.0</td>\n",
       "      <td>1.945910</td>\n",
       "      <td>0.0</td>\n",
       "      <td>...</td>\n",
       "      <td>-1.492101</td>\n",
       "      <td>0.443004</td>\n",
       "      <td>-0.215529</td>\n",
       "      <td>-0.386997</td>\n",
       "      <td>-0.332076</td>\n",
       "      <td>0.373426</td>\n",
       "      <td>0.348959</td>\n",
       "      <td>0.883221</td>\n",
       "      <td>-0.273691</td>\n",
       "      <td>0.268475</td>\n",
       "    </tr>\n",
       "  </tbody>\n",
       "</table>\n",
       "<p>3 rows × 197 columns</p>\n",
       "</div>"
      ],
      "text/plain": [
       "   MS4A1  KRT8  BANK1      WSB1  FKBP11  SERPINA1  BASP1  IGLL5      CD37  \\\n",
       "0    0.0   0.0    0.0  0.000000     0.0  1.945910    0.0    0.0  1.098612   \n",
       "1    0.0   0.0    0.0  0.693147     0.0  1.791759    0.0    0.0  1.098612   \n",
       "2    0.0   0.0    0.0  0.693147     0.0  1.791759    0.0    0.0  1.945910   \n",
       "\n",
       "   JCHAIN  ...      PC91      PC92      PC93      PC94      PC95      PC96  \\\n",
       "0     0.0  ... -0.430992  0.653174 -0.500288 -0.275026 -0.944144  0.146941   \n",
       "1     0.0  ...  0.145651  1.077788  0.168156  0.662105 -0.535711  0.479748   \n",
       "2     0.0  ... -1.492101  0.443004 -0.215529 -0.386997 -0.332076  0.373426   \n",
       "\n",
       "       PC97      PC98      PC99     PC100  \n",
       "0  0.112798 -0.077805 -0.027322  0.260344  \n",
       "1  1.201142 -0.398260  0.394861  0.169002  \n",
       "2  0.348959  0.883221 -0.273691  0.268475  \n",
       "\n",
       "[3 rows x 197 columns]"
      ]
     },
     "execution_count": 60,
     "metadata": {},
     "output_type": "execute_result"
    }
   ],
   "source": [
    "X_test.head(3)"
   ]
  },
  {
   "cell_type": "code",
   "execution_count": 61,
   "id": "13c7e0ea",
   "metadata": {},
   "outputs": [
    {
     "data": {
      "text/plain": [
       "21"
      ]
     },
     "execution_count": 61,
     "metadata": {},
     "output_type": "execute_result"
    }
   ],
   "source": [
    "del train_log_markers\n",
    "del test_log_markers\n",
    "\n",
    "gc.collect()"
   ]
  },
  {
   "cell_type": "markdown",
   "id": "7bb29fbd",
   "metadata": {},
   "source": [
    "**<h3>3. Experimental Design</h3>**\n",
    "\n",
    "We are running multiple Machine Learning models and benchmark them to find the best of all.\n",
    "\n",
    "\n",
    "For each model:\n",
    "+ We are running 30 simulations\n",
    "\n",
    "+ -> For each simulation, we will have 5 Fold Cross Validation (We fit on 80% of data and 20% for validation) "
   ]
  },
  {
   "cell_type": "markdown",
   "id": "dc8684c9",
   "metadata": {},
   "source": [
    "**<h5>3.1 Training Dataset preparation</h5>**"
   ]
  },
  {
   "cell_type": "markdown",
   "id": "44757b96",
   "metadata": {},
   "source": [
    "a. X_train"
   ]
  },
  {
   "cell_type": "code",
   "execution_count": 62,
   "id": "a8db3f18",
   "metadata": {},
   "outputs": [],
   "source": [
    "X_train_numpy = X_train.to_numpy()"
   ]
  },
  {
   "cell_type": "code",
   "execution_count": 63,
   "id": "be6b1447",
   "metadata": {},
   "outputs": [
    {
     "data": {
      "text/plain": [
       "(31011, 197)"
      ]
     },
     "execution_count": 63,
     "metadata": {},
     "output_type": "execute_result"
    }
   ],
   "source": [
    "X_train_numpy.shape"
   ]
  },
  {
   "cell_type": "markdown",
   "id": "056c5223",
   "metadata": {},
   "source": [
    "b. y_train"
   ]
  },
  {
   "cell_type": "code",
   "execution_count": 64,
   "id": "a1885e24",
   "metadata": {},
   "outputs": [],
   "source": [
    "y_train = labels"
   ]
  },
  {
   "cell_type": "code",
   "execution_count": 65,
   "id": "1886e413",
   "metadata": {},
   "outputs": [
    {
     "data": {
      "text/plain": [
       "(31011,)"
      ]
     },
     "execution_count": 65,
     "metadata": {},
     "output_type": "execute_result"
    }
   ],
   "source": [
    "y_train.shape"
   ]
  },
  {
   "cell_type": "markdown",
   "id": "5160195a",
   "metadata": {},
   "source": [
    "**<h5>3.2 Design a simulation matrix</h5>**\n",
    "\n",
    "+ An N_simulations x M_samples matrix of Indices (each simulation contains 5 Folds, where each is a stratified collection of samples)"
   ]
  },
  {
   "cell_type": "code",
   "execution_count": 66,
   "id": "47241ff2",
   "metadata": {},
   "outputs": [],
   "source": [
    "from sklearn.model_selection import StratifiedKFold"
   ]
  },
  {
   "cell_type": "code",
   "execution_count": 67,
   "id": "9b46eafb",
   "metadata": {},
   "outputs": [],
   "source": [
    "skf = StratifiedKFold(n_splits=5, shuffle=True)"
   ]
  },
  {
   "cell_type": "code",
   "execution_count": 68,
   "id": "ea7555c8",
   "metadata": {},
   "outputs": [],
   "source": [
    "max_n_sim = 30"
   ]
  },
  {
   "cell_type": "code",
   "execution_count": 69,
   "id": "6846110d",
   "metadata": {},
   "outputs": [],
   "source": [
    "#We design this CV matrix for all models\n",
    "simulations = []\n",
    "\n",
    "for sim in range(max_n_sim):\n",
    "    folds = []\n",
    "    for train_idx, val_idx in skf.split(X_train_numpy, y_train):\n",
    "        folds.append((train_idx, val_idx))\n",
    "    simulations.append(folds)\n",
    "\n",
    "del folds"
   ]
  },
  {
   "cell_type": "markdown",
   "id": "f1f28754",
   "metadata": {},
   "source": [
    "**<h3>4. Cross Validation</h3>**"
   ]
  },
  {
   "cell_type": "code",
   "execution_count": 70,
   "id": "d2f43e2e",
   "metadata": {},
   "outputs": [],
   "source": [
    "#import libraries\n",
    "from sklearn.metrics import precision_score, recall_score, f1_score"
   ]
  },
  {
   "cell_type": "markdown",
   "id": "b2ee55c1",
   "metadata": {},
   "source": [
    "**<h5>4.1 CV function</h5>**\n",
    "\n",
    "The CV function:\n",
    "\n",
    "+ runs n 5-fold simulations and extract precision, recall and F1-score\n",
    "+ For each metric, it'll calculate the 95% Confidence Interval using t-stats."
   ]
  },
  {
   "cell_type": "code",
   "execution_count": 71,
   "id": "9ec5baf6",
   "metadata": {},
   "outputs": [],
   "source": [
    "import warnings\n",
    "warnings.filterwarnings(\"ignore\")"
   ]
  },
  {
   "cell_type": "code",
   "execution_count": 72,
   "id": "0f9139e6",
   "metadata": {},
   "outputs": [],
   "source": [
    "from tqdm import tqdm"
   ]
  },
  {
   "cell_type": "code",
   "execution_count": 73,
   "id": "56df8a64",
   "metadata": {},
   "outputs": [],
   "source": [
    "from sklearn.metrics import precision_recall_fscore_support"
   ]
  },
  {
   "cell_type": "markdown",
   "id": "9b98e109",
   "metadata": {},
   "source": [
    "**simulation_score guide:**\n",
    "\n",
    "hyperparameter * simulation_id * (cell_type * 3 metrics) "
   ]
  },
  {
   "cell_type": "code",
   "execution_count": 74,
   "id": "31edc9bb",
   "metadata": {},
   "outputs": [],
   "source": [
    "def cross_validation():\n",
    "\n",
    "    def decorator(func):\n",
    "        \n",
    "        def wrapper(self, X, y, n_sim, hyper_param_vals):\n",
    "            #This acts as the run_cv function\n",
    "\n",
    "            hyper_param_count = len(hyper_param_vals)\n",
    "\n",
    "            simulation_score = np.repeat(0.0, 10 * n_sim * 3 * hyper_param_count) \\\n",
    "                                            .reshape(-1, n_sim, 10, 3) #precision, recall and F1_score tensor\n",
    "            \n",
    "            for id in tqdm( range(hyper_param_count), desc=f\"Running CV\"):\n",
    "\n",
    "                #Model prep (call out)########################\n",
    "\n",
    "                self.prepare_model(hyper_param_vals[id])\n",
    "\n",
    "                ############################################\n",
    "\n",
    "                for sim_id in range(n_sim):\n",
    "                    precision = 0.0\n",
    "                    recall = 0.0\n",
    "                    f1 = 0.0\n",
    "\n",
    "                    for cv_id in range(5):\n",
    "\n",
    "                        train_indices = simulations[sim_id][cv_id][0]\n",
    "                        test_indices = simulations[sim_id][cv_id][1]\n",
    "\n",
    "                        #Prepare Data for fit and test\n",
    "                        X_train = X[train_indices,:]\n",
    "                        y_train = y[train_indices]\n",
    "\n",
    "                        X_test = X[test_indices,:]\n",
    "                        y_test = y[test_indices]\n",
    "\n",
    "                        #fitting (call out)\n",
    "                        self.fit(X_train, y_train)\n",
    "\n",
    "                        #make predictions (call out)\n",
    "                        y_pred = self.predict(X_test)\n",
    "\n",
    "                        #Calulate Metrics for each class\n",
    "\n",
    "                        precision, recall, f1, _ = precision_recall_fscore_support(y_true=y_test, y_pred=y_pred, zero_division=0)\n",
    "\n",
    "\n",
    "                        for cell_id, (p, r, f) in enumerate(zip(precision, recall, f1)):\n",
    "                            simulation_score[id, sim_id, cell_id, 0] += (p / 5)\n",
    "                            simulation_score[id, sim_id, cell_id, 1] += (r / 5)\n",
    "                            simulation_score[id, sim_id, cell_id, 2] += (f / 5)\n",
    "\n",
    "\n",
    "            print(\"Done!\")\n",
    "            return simulation_score\n",
    "        \n",
    "        return wrapper\n",
    "        \n",
    "    return decorator"
   ]
  },
  {
   "cell_type": "markdown",
   "id": "ae5044b2",
   "metadata": {},
   "source": [
    "**<h5>4.2 Confidence Interval</h5>**"
   ]
  },
  {
   "cell_type": "code",
   "execution_count": 75,
   "id": "d79f3865",
   "metadata": {},
   "outputs": [],
   "source": [
    "from scipy.stats import t"
   ]
  },
  {
   "cell_type": "code",
   "execution_count": 76,
   "id": "384a78ad",
   "metadata": {},
   "outputs": [],
   "source": [
    "def confidence_interval(score):\n",
    "\n",
    "    #Receives 3D array\n",
    "    t_crit = t.ppf(0.975, df=len(score)-1)\n",
    "    mean = np.mean(score, axis=0)\n",
    "    stderr = np.std(score, axis=0) / np.sqrt(len(score))\n",
    "    rad = stderr * t_crit\n",
    "\n",
    "    metrics = [\"Precision\", \"Recall\", \"F1\"]\n",
    "\n",
    "    ci_df = pd.DataFrame(columns=metrics, index=range(10))\n",
    "\n",
    "    for cell_id in range(10):\n",
    "\n",
    "        for metric_id in range(3):\n",
    "\n",
    "            value = f'{mean[cell_id, metric_id]:.2f} ± {rad[cell_id, metric_id]:.3f}'\n",
    "\n",
    "            ci_df.loc[cell_id, metrics[metric_id]] = value\n",
    "\n",
    "    return ci_df"
   ]
  },
  {
   "cell_type": "markdown",
   "id": "9210d767",
   "metadata": {},
   "source": [
    "**<h5>4.3 Model Benchmarkings</h5>**"
   ]
  },
  {
   "cell_type": "markdown",
   "id": "1965461d",
   "metadata": {},
   "source": [
    "**4.3.1 K-nearest Neighbours**"
   ]
  },
  {
   "cell_type": "code",
   "execution_count": 77,
   "id": "e179adb7",
   "metadata": {},
   "outputs": [],
   "source": [
    "from sklearn.neighbors import KNeighborsClassifier"
   ]
  },
  {
   "cell_type": "code",
   "execution_count": 78,
   "id": "cd4b3db3",
   "metadata": {},
   "outputs": [],
   "source": [
    "class knn_model:\n",
    "\n",
    "    def prepare_model(self, hyperparam):\n",
    "        self.model = KNeighborsClassifier(n_neighbors=hyperparam)\n",
    "\n",
    "    def fit(self, X, y):\n",
    "        self.model.fit(X, y)\n",
    "\n",
    "    def predict(self, X):\n",
    "        return self.model.predict(X)\n",
    "\n",
    "    @cross_validation()\n",
    "    def run_cv_model(self, X, y, n_sim, hyper_param_vals):\n",
    "        pass"
   ]
  },
  {
   "cell_type": "code",
   "execution_count": 79,
   "id": "0c1f2693",
   "metadata": {},
   "outputs": [],
   "source": [
    "k_values = [3, 5, 10]"
   ]
  },
  {
   "cell_type": "code",
   "execution_count": 80,
   "id": "cff9795b",
   "metadata": {},
   "outputs": [
    {
     "name": "stderr",
     "output_type": "stream",
     "text": [
      "Running CV: 100%|██████████| 3/3 [01:52<00:00, 37.47s/it]"
     ]
    },
    {
     "name": "stdout",
     "output_type": "stream",
     "text": [
      "Done!\n"
     ]
    },
    {
     "name": "stderr",
     "output_type": "stream",
     "text": [
      "\n"
     ]
    }
   ],
   "source": [
    "knn = knn_model()\n",
    "score = knn.run_cv_model(X_train_numpy, y_train, n_sim = 30, hyper_param_vals=k_values)"
   ]
  },
  {
   "cell_type": "code",
   "execution_count": 81,
   "id": "8a509a80",
   "metadata": {},
   "outputs": [
    {
     "data": {
      "text/html": [
       "<div>\n",
       "<style scoped>\n",
       "    .dataframe tbody tr th:only-of-type {\n",
       "        vertical-align: middle;\n",
       "    }\n",
       "\n",
       "    .dataframe tbody tr th {\n",
       "        vertical-align: top;\n",
       "    }\n",
       "\n",
       "    .dataframe thead th {\n",
       "        text-align: right;\n",
       "    }\n",
       "</style>\n",
       "<table border=\"1\" class=\"dataframe\">\n",
       "  <thead>\n",
       "    <tr style=\"text-align: right;\">\n",
       "      <th></th>\n",
       "      <th>Precision</th>\n",
       "      <th>Recall</th>\n",
       "      <th>F1</th>\n",
       "    </tr>\n",
       "  </thead>\n",
       "  <tbody>\n",
       "    <tr>\n",
       "      <th>0</th>\n",
       "      <td>0.97 ± 0.002</td>\n",
       "      <td>0.95 ± 0.001</td>\n",
       "      <td>0.96 ± 0.001</td>\n",
       "    </tr>\n",
       "    <tr>\n",
       "      <th>1</th>\n",
       "      <td>0.98 ± 0.000</td>\n",
       "      <td>0.99 ± 0.000</td>\n",
       "      <td>0.99 ± 0.000</td>\n",
       "    </tr>\n",
       "    <tr>\n",
       "      <th>2</th>\n",
       "      <td>0.82 ± 0.003</td>\n",
       "      <td>0.72 ± 0.002</td>\n",
       "      <td>0.77 ± 0.002</td>\n",
       "    </tr>\n",
       "    <tr>\n",
       "      <th>3</th>\n",
       "      <td>0.83 ± 0.004</td>\n",
       "      <td>0.63 ± 0.002</td>\n",
       "      <td>0.71 ± 0.002</td>\n",
       "    </tr>\n",
       "    <tr>\n",
       "      <th>4</th>\n",
       "      <td>0.97 ± 0.005</td>\n",
       "      <td>0.80 ± 0.004</td>\n",
       "      <td>0.87 ± 0.003</td>\n",
       "    </tr>\n",
       "    <tr>\n",
       "      <th>5</th>\n",
       "      <td>0.91 ± 0.015</td>\n",
       "      <td>0.73 ± 0.014</td>\n",
       "      <td>0.79 ± 0.010</td>\n",
       "    </tr>\n",
       "    <tr>\n",
       "      <th>6</th>\n",
       "      <td>0.95 ± 0.000</td>\n",
       "      <td>0.96 ± 0.001</td>\n",
       "      <td>0.95 ± 0.000</td>\n",
       "    </tr>\n",
       "    <tr>\n",
       "      <th>7</th>\n",
       "      <td>0.88 ± 0.003</td>\n",
       "      <td>0.75 ± 0.003</td>\n",
       "      <td>0.81 ± 0.002</td>\n",
       "    </tr>\n",
       "    <tr>\n",
       "      <th>8</th>\n",
       "      <td>0.92 ± 0.005</td>\n",
       "      <td>0.83 ± 0.004</td>\n",
       "      <td>0.87 ± 0.004</td>\n",
       "    </tr>\n",
       "    <tr>\n",
       "      <th>9</th>\n",
       "      <td>0.99 ± 0.000</td>\n",
       "      <td>0.88 ± 0.001</td>\n",
       "      <td>0.93 ± 0.001</td>\n",
       "    </tr>\n",
       "  </tbody>\n",
       "</table>\n",
       "</div>"
      ],
      "text/plain": [
       "      Precision        Recall            F1\n",
       "0  0.97 ± 0.002  0.95 ± 0.001  0.96 ± 0.001\n",
       "1  0.98 ± 0.000  0.99 ± 0.000  0.99 ± 0.000\n",
       "2  0.82 ± 0.003  0.72 ± 0.002  0.77 ± 0.002\n",
       "3  0.83 ± 0.004  0.63 ± 0.002  0.71 ± 0.002\n",
       "4  0.97 ± 0.005  0.80 ± 0.004  0.87 ± 0.003\n",
       "5  0.91 ± 0.015  0.73 ± 0.014  0.79 ± 0.010\n",
       "6  0.95 ± 0.000  0.96 ± 0.001  0.95 ± 0.000\n",
       "7  0.88 ± 0.003  0.75 ± 0.003  0.81 ± 0.002\n",
       "8  0.92 ± 0.005  0.83 ± 0.004  0.87 ± 0.004\n",
       "9  0.99 ± 0.000  0.88 ± 0.001  0.93 ± 0.001"
      ]
     },
     "execution_count": 81,
     "metadata": {},
     "output_type": "execute_result"
    }
   ],
   "source": [
    "#Confidence Interval for k=3\n",
    "confidence_interval(score[0])"
   ]
  },
  {
   "cell_type": "markdown",
   "id": "b159b1ff",
   "metadata": {},
   "source": [
    "**4.3.2 Random Forest Classifier**"
   ]
  },
  {
   "cell_type": "code",
   "execution_count": 82,
   "id": "eb18e848",
   "metadata": {},
   "outputs": [],
   "source": [
    "from sklearn.ensemble import RandomForestClassifier"
   ]
  },
  {
   "cell_type": "code",
   "execution_count": 83,
   "id": "8db3daa3",
   "metadata": {},
   "outputs": [],
   "source": [
    "class rf_model:\n",
    "\n",
    "    def prepare_model(self, hyperparam):\n",
    "        self.model = RandomForestClassifier(n_estimators=hyperparam,\n",
    "                                            max_depth=20, \n",
    "                                            random_state=42)\n",
    "\n",
    "    def fit(self, X, y):\n",
    "        self.model.fit(X, y)\n",
    "\n",
    "    def predict(self, X):\n",
    "        return self.model.predict(X)\n",
    "\n",
    "    @cross_validation()\n",
    "    def run_cv_model(self, X, y, n_sim, hyper_param_vals):\n",
    "        pass"
   ]
  },
  {
   "cell_type": "code",
   "execution_count": 84,
   "id": "90599119",
   "metadata": {},
   "outputs": [],
   "source": [
    "n_estimator_value = [100, 200]"
   ]
  },
  {
   "cell_type": "code",
   "execution_count": 85,
   "id": "e8cd80a8",
   "metadata": {},
   "outputs": [
    {
     "name": "stderr",
     "output_type": "stream",
     "text": [
      "Running CV: 100%|██████████| 2/2 [25:17<00:00, 758.87s/it]"
     ]
    },
    {
     "name": "stdout",
     "output_type": "stream",
     "text": [
      "Done!\n"
     ]
    },
    {
     "name": "stderr",
     "output_type": "stream",
     "text": [
      "\n"
     ]
    }
   ],
   "source": [
    "rf = rf_model()\n",
    "score = rf.run_cv_model(X_train_numpy, y_train, n_sim = 5, hyper_param_vals=n_estimator_value)"
   ]
  },
  {
   "cell_type": "code",
   "execution_count": 86,
   "id": "d5abf1b1",
   "metadata": {},
   "outputs": [
    {
     "data": {
      "text/html": [
       "<div>\n",
       "<style scoped>\n",
       "    .dataframe tbody tr th:only-of-type {\n",
       "        vertical-align: middle;\n",
       "    }\n",
       "\n",
       "    .dataframe tbody tr th {\n",
       "        vertical-align: top;\n",
       "    }\n",
       "\n",
       "    .dataframe thead th {\n",
       "        text-align: right;\n",
       "    }\n",
       "</style>\n",
       "<table border=\"1\" class=\"dataframe\">\n",
       "  <thead>\n",
       "    <tr style=\"text-align: right;\">\n",
       "      <th></th>\n",
       "      <th>Precision</th>\n",
       "      <th>Recall</th>\n",
       "      <th>F1</th>\n",
       "    </tr>\n",
       "  </thead>\n",
       "  <tbody>\n",
       "    <tr>\n",
       "      <th>0</th>\n",
       "      <td>0.99 ± 0.002</td>\n",
       "      <td>0.91 ± 0.006</td>\n",
       "      <td>0.95 ± 0.003</td>\n",
       "    </tr>\n",
       "    <tr>\n",
       "      <th>1</th>\n",
       "      <td>0.97 ± 0.000</td>\n",
       "      <td>1.00 ± 0.000</td>\n",
       "      <td>0.98 ± 0.000</td>\n",
       "    </tr>\n",
       "    <tr>\n",
       "      <th>2</th>\n",
       "      <td>0.97 ± 0.004</td>\n",
       "      <td>0.52 ± 0.007</td>\n",
       "      <td>0.67 ± 0.006</td>\n",
       "    </tr>\n",
       "    <tr>\n",
       "      <th>3</th>\n",
       "      <td>0.93 ± 0.011</td>\n",
       "      <td>0.44 ± 0.009</td>\n",
       "      <td>0.59 ± 0.008</td>\n",
       "    </tr>\n",
       "    <tr>\n",
       "      <th>4</th>\n",
       "      <td>0.99 ± 0.010</td>\n",
       "      <td>0.78 ± 0.000</td>\n",
       "      <td>0.87 ± 0.005</td>\n",
       "    </tr>\n",
       "    <tr>\n",
       "      <th>5</th>\n",
       "      <td>0.87 ± 0.092</td>\n",
       "      <td>0.41 ± 0.046</td>\n",
       "      <td>0.53 ± 0.056</td>\n",
       "    </tr>\n",
       "    <tr>\n",
       "      <th>6</th>\n",
       "      <td>0.93 ± 0.001</td>\n",
       "      <td>0.96 ± 0.001</td>\n",
       "      <td>0.95 ± 0.001</td>\n",
       "    </tr>\n",
       "    <tr>\n",
       "      <th>7</th>\n",
       "      <td>0.95 ± 0.003</td>\n",
       "      <td>0.70 ± 0.004</td>\n",
       "      <td>0.80 ± 0.003</td>\n",
       "    </tr>\n",
       "    <tr>\n",
       "      <th>8</th>\n",
       "      <td>0.98 ± 0.002</td>\n",
       "      <td>0.79 ± 0.012</td>\n",
       "      <td>0.87 ± 0.007</td>\n",
       "    </tr>\n",
       "    <tr>\n",
       "      <th>9</th>\n",
       "      <td>0.99 ± 0.000</td>\n",
       "      <td>0.85 ± 0.008</td>\n",
       "      <td>0.91 ± 0.004</td>\n",
       "    </tr>\n",
       "  </tbody>\n",
       "</table>\n",
       "</div>"
      ],
      "text/plain": [
       "      Precision        Recall            F1\n",
       "0  0.99 ± 0.002  0.91 ± 0.006  0.95 ± 0.003\n",
       "1  0.97 ± 0.000  1.00 ± 0.000  0.98 ± 0.000\n",
       "2  0.97 ± 0.004  0.52 ± 0.007  0.67 ± 0.006\n",
       "3  0.93 ± 0.011  0.44 ± 0.009  0.59 ± 0.008\n",
       "4  0.99 ± 0.010  0.78 ± 0.000  0.87 ± 0.005\n",
       "5  0.87 ± 0.092  0.41 ± 0.046  0.53 ± 0.056\n",
       "6  0.93 ± 0.001  0.96 ± 0.001  0.95 ± 0.001\n",
       "7  0.95 ± 0.003  0.70 ± 0.004  0.80 ± 0.003\n",
       "8  0.98 ± 0.002  0.79 ± 0.012  0.87 ± 0.007\n",
       "9  0.99 ± 0.000  0.85 ± 0.008  0.91 ± 0.004"
      ]
     },
     "execution_count": 86,
     "metadata": {},
     "output_type": "execute_result"
    }
   ],
   "source": [
    "#Confidence Interval for n_est = 100\n",
    "confidence_interval(score[0])"
   ]
  },
  {
   "cell_type": "code",
   "execution_count": 87,
   "id": "e528991b",
   "metadata": {},
   "outputs": [
    {
     "data": {
      "text/html": [
       "<div>\n",
       "<style scoped>\n",
       "    .dataframe tbody tr th:only-of-type {\n",
       "        vertical-align: middle;\n",
       "    }\n",
       "\n",
       "    .dataframe tbody tr th {\n",
       "        vertical-align: top;\n",
       "    }\n",
       "\n",
       "    .dataframe thead th {\n",
       "        text-align: right;\n",
       "    }\n",
       "</style>\n",
       "<table border=\"1\" class=\"dataframe\">\n",
       "  <thead>\n",
       "    <tr style=\"text-align: right;\">\n",
       "      <th></th>\n",
       "      <th>Precision</th>\n",
       "      <th>Recall</th>\n",
       "      <th>F1</th>\n",
       "    </tr>\n",
       "  </thead>\n",
       "  <tbody>\n",
       "    <tr>\n",
       "      <th>0</th>\n",
       "      <td>0.99 ± 0.003</td>\n",
       "      <td>0.91 ± 0.005</td>\n",
       "      <td>0.95 ± 0.002</td>\n",
       "    </tr>\n",
       "    <tr>\n",
       "      <th>1</th>\n",
       "      <td>0.97 ± 0.000</td>\n",
       "      <td>1.00 ± 0.000</td>\n",
       "      <td>0.98 ± 0.000</td>\n",
       "    </tr>\n",
       "    <tr>\n",
       "      <th>2</th>\n",
       "      <td>0.97 ± 0.002</td>\n",
       "      <td>0.52 ± 0.008</td>\n",
       "      <td>0.67 ± 0.007</td>\n",
       "    </tr>\n",
       "    <tr>\n",
       "      <th>3</th>\n",
       "      <td>0.94 ± 0.009</td>\n",
       "      <td>0.44 ± 0.008</td>\n",
       "      <td>0.60 ± 0.010</td>\n",
       "    </tr>\n",
       "    <tr>\n",
       "      <th>4</th>\n",
       "      <td>1.00 ± 0.009</td>\n",
       "      <td>0.78 ± 0.008</td>\n",
       "      <td>0.87 ± 0.007</td>\n",
       "    </tr>\n",
       "    <tr>\n",
       "      <th>5</th>\n",
       "      <td>0.84 ± 0.112</td>\n",
       "      <td>0.44 ± 0.065</td>\n",
       "      <td>0.56 ± 0.080</td>\n",
       "    </tr>\n",
       "    <tr>\n",
       "      <th>6</th>\n",
       "      <td>0.94 ± 0.001</td>\n",
       "      <td>0.96 ± 0.001</td>\n",
       "      <td>0.95 ± 0.001</td>\n",
       "    </tr>\n",
       "    <tr>\n",
       "      <th>7</th>\n",
       "      <td>0.95 ± 0.004</td>\n",
       "      <td>0.70 ± 0.007</td>\n",
       "      <td>0.81 ± 0.006</td>\n",
       "    </tr>\n",
       "    <tr>\n",
       "      <th>8</th>\n",
       "      <td>0.98 ± 0.002</td>\n",
       "      <td>0.79 ± 0.021</td>\n",
       "      <td>0.87 ± 0.014</td>\n",
       "    </tr>\n",
       "    <tr>\n",
       "      <th>9</th>\n",
       "      <td>0.99 ± 0.000</td>\n",
       "      <td>0.85 ± 0.008</td>\n",
       "      <td>0.91 ± 0.005</td>\n",
       "    </tr>\n",
       "  </tbody>\n",
       "</table>\n",
       "</div>"
      ],
      "text/plain": [
       "      Precision        Recall            F1\n",
       "0  0.99 ± 0.003  0.91 ± 0.005  0.95 ± 0.002\n",
       "1  0.97 ± 0.000  1.00 ± 0.000  0.98 ± 0.000\n",
       "2  0.97 ± 0.002  0.52 ± 0.008  0.67 ± 0.007\n",
       "3  0.94 ± 0.009  0.44 ± 0.008  0.60 ± 0.010\n",
       "4  1.00 ± 0.009  0.78 ± 0.008  0.87 ± 0.007\n",
       "5  0.84 ± 0.112  0.44 ± 0.065  0.56 ± 0.080\n",
       "6  0.94 ± 0.001  0.96 ± 0.001  0.95 ± 0.001\n",
       "7  0.95 ± 0.004  0.70 ± 0.007  0.81 ± 0.006\n",
       "8  0.98 ± 0.002  0.79 ± 0.021  0.87 ± 0.014\n",
       "9  0.99 ± 0.000  0.85 ± 0.008  0.91 ± 0.005"
      ]
     },
     "execution_count": 87,
     "metadata": {},
     "output_type": "execute_result"
    }
   ],
   "source": [
    "#Confidence Interval for n_est = 200\n",
    "confidence_interval(score[1])"
   ]
  },
  {
   "cell_type": "markdown",
   "id": "81dfc7cb",
   "metadata": {},
   "source": [
    "**4.3.3 Support Vector Machines**"
   ]
  },
  {
   "cell_type": "code",
   "execution_count": 88,
   "id": "4ad40740",
   "metadata": {},
   "outputs": [],
   "source": [
    "from sklearn.svm import SVC"
   ]
  },
  {
   "cell_type": "code",
   "execution_count": 89,
   "id": "e5f5a30d",
   "metadata": {},
   "outputs": [],
   "source": [
    "class svm_model:\n",
    "\n",
    "    def prepare_model(self, hyperparam):\n",
    "        self.model = SVC(kernel='linear', C=hyperparam, gamma='scale') \n",
    "\n",
    "    def fit(self, X, y):\n",
    "        self.model.fit(X, y)\n",
    "\n",
    "    def predict(self, X):\n",
    "        return self.model.predict(X)\n",
    "\n",
    "    @cross_validation()\n",
    "    def run_cv_model(self, X, y, n_sim, hyper_param_vals):\n",
    "        pass"
   ]
  },
  {
   "cell_type": "code",
   "execution_count": 90,
   "id": "c047208e",
   "metadata": {},
   "outputs": [],
   "source": [
    "reg_vals = [0.1, 1]"
   ]
  },
  {
   "cell_type": "code",
   "execution_count": 91,
   "id": "a61ccafb",
   "metadata": {},
   "outputs": [
    {
     "name": "stderr",
     "output_type": "stream",
     "text": [
      "Running CV: 100%|██████████| 2/2 [03:50<00:00, 115.03s/it]"
     ]
    },
    {
     "name": "stdout",
     "output_type": "stream",
     "text": [
      "Done!\n"
     ]
    },
    {
     "name": "stderr",
     "output_type": "stream",
     "text": [
      "\n"
     ]
    }
   ],
   "source": [
    "svm = svm_model()\n",
    "score = svm.run_cv_model(X_train_numpy, y_train, n_sim = 5, hyper_param_vals=reg_vals)"
   ]
  },
  {
   "cell_type": "code",
   "execution_count": 92,
   "id": "89042d06",
   "metadata": {},
   "outputs": [
    {
     "data": {
      "text/html": [
       "<div>\n",
       "<style scoped>\n",
       "    .dataframe tbody tr th:only-of-type {\n",
       "        vertical-align: middle;\n",
       "    }\n",
       "\n",
       "    .dataframe tbody tr th {\n",
       "        vertical-align: top;\n",
       "    }\n",
       "\n",
       "    .dataframe thead th {\n",
       "        text-align: right;\n",
       "    }\n",
       "</style>\n",
       "<table border=\"1\" class=\"dataframe\">\n",
       "  <thead>\n",
       "    <tr style=\"text-align: right;\">\n",
       "      <th></th>\n",
       "      <th>Precision</th>\n",
       "      <th>Recall</th>\n",
       "      <th>F1</th>\n",
       "    </tr>\n",
       "  </thead>\n",
       "  <tbody>\n",
       "    <tr>\n",
       "      <th>0</th>\n",
       "      <td>0.98 ± 0.002</td>\n",
       "      <td>0.96 ± 0.005</td>\n",
       "      <td>0.97 ± 0.003</td>\n",
       "    </tr>\n",
       "    <tr>\n",
       "      <th>1</th>\n",
       "      <td>0.98 ± 0.000</td>\n",
       "      <td>0.99 ± 0.000</td>\n",
       "      <td>0.99 ± 0.000</td>\n",
       "    </tr>\n",
       "    <tr>\n",
       "      <th>2</th>\n",
       "      <td>0.88 ± 0.010</td>\n",
       "      <td>0.77 ± 0.010</td>\n",
       "      <td>0.82 ± 0.009</td>\n",
       "    </tr>\n",
       "    <tr>\n",
       "      <th>3</th>\n",
       "      <td>0.88 ± 0.012</td>\n",
       "      <td>0.63 ± 0.008</td>\n",
       "      <td>0.73 ± 0.007</td>\n",
       "    </tr>\n",
       "    <tr>\n",
       "      <th>4</th>\n",
       "      <td>0.97 ± 0.010</td>\n",
       "      <td>0.88 ± 0.027</td>\n",
       "      <td>0.92 ± 0.014</td>\n",
       "    </tr>\n",
       "    <tr>\n",
       "      <th>5</th>\n",
       "      <td>0.90 ± 0.043</td>\n",
       "      <td>0.80 ± 0.028</td>\n",
       "      <td>0.83 ± 0.015</td>\n",
       "    </tr>\n",
       "    <tr>\n",
       "      <th>6</th>\n",
       "      <td>0.96 ± 0.001</td>\n",
       "      <td>0.97 ± 0.001</td>\n",
       "      <td>0.96 ± 0.001</td>\n",
       "    </tr>\n",
       "    <tr>\n",
       "      <th>7</th>\n",
       "      <td>0.89 ± 0.005</td>\n",
       "      <td>0.84 ± 0.005</td>\n",
       "      <td>0.86 ± 0.004</td>\n",
       "    </tr>\n",
       "    <tr>\n",
       "      <th>8</th>\n",
       "      <td>0.95 ± 0.024</td>\n",
       "      <td>0.89 ± 0.014</td>\n",
       "      <td>0.91 ± 0.012</td>\n",
       "    </tr>\n",
       "    <tr>\n",
       "      <th>9</th>\n",
       "      <td>0.98 ± 0.010</td>\n",
       "      <td>0.87 ± 0.008</td>\n",
       "      <td>0.92 ± 0.005</td>\n",
       "    </tr>\n",
       "  </tbody>\n",
       "</table>\n",
       "</div>"
      ],
      "text/plain": [
       "      Precision        Recall            F1\n",
       "0  0.98 ± 0.002  0.96 ± 0.005  0.97 ± 0.003\n",
       "1  0.98 ± 0.000  0.99 ± 0.000  0.99 ± 0.000\n",
       "2  0.88 ± 0.010  0.77 ± 0.010  0.82 ± 0.009\n",
       "3  0.88 ± 0.012  0.63 ± 0.008  0.73 ± 0.007\n",
       "4  0.97 ± 0.010  0.88 ± 0.027  0.92 ± 0.014\n",
       "5  0.90 ± 0.043  0.80 ± 0.028  0.83 ± 0.015\n",
       "6  0.96 ± 0.001  0.97 ± 0.001  0.96 ± 0.001\n",
       "7  0.89 ± 0.005  0.84 ± 0.005  0.86 ± 0.004\n",
       "8  0.95 ± 0.024  0.89 ± 0.014  0.91 ± 0.012\n",
       "9  0.98 ± 0.010  0.87 ± 0.008  0.92 ± 0.005"
      ]
     },
     "execution_count": 92,
     "metadata": {},
     "output_type": "execute_result"
    }
   ],
   "source": [
    "confidence_interval(score[0])"
   ]
  },
  {
   "cell_type": "markdown",
   "id": "4659fdbc",
   "metadata": {},
   "source": [
    "**4.3.4 XG boost**"
   ]
  },
  {
   "cell_type": "code",
   "execution_count": 94,
   "id": "2de4b6b3",
   "metadata": {},
   "outputs": [],
   "source": [
    "from xgboost import XGBClassifier"
   ]
  },
  {
   "cell_type": "code",
   "execution_count": 95,
   "id": "b35135f3",
   "metadata": {},
   "outputs": [],
   "source": [
    "class xgb_model:\n",
    "\n",
    "    def prepare_model(self, hyperparam):\n",
    "        self.model = XGBClassifier(use_label_encoder=False, eval_metric='mlogloss')  # no warning\n",
    "\n",
    "    def fit(self, X, y):\n",
    "        self.model.fit(X, y)\n",
    "\n",
    "    def predict(self, X):\n",
    "        return self.model.predict(X)\n",
    "\n",
    "    @cross_validation()\n",
    "    def run_cv_model(self, X, y, n_sim, hyper_param_vals):\n",
    "        pass"
   ]
  },
  {
   "cell_type": "code",
   "execution_count": 96,
   "id": "1ebaf615",
   "metadata": {},
   "outputs": [
    {
     "name": "stderr",
     "output_type": "stream",
     "text": [
      "Running CV: 100%|██████████| 1/1 [01:00<00:00, 60.75s/it]"
     ]
    },
    {
     "name": "stdout",
     "output_type": "stream",
     "text": [
      "Done!\n"
     ]
    },
    {
     "name": "stderr",
     "output_type": "stream",
     "text": [
      "\n"
     ]
    }
   ],
   "source": [
    "xgb = xgb_model()\n",
    "score = xgb.run_cv_model(X_train_numpy, y_train - 1, n_sim = 5, hyper_param_vals=[0])"
   ]
  },
  {
   "cell_type": "code",
   "execution_count": 97,
   "id": "542fdaf0",
   "metadata": {},
   "outputs": [
    {
     "data": {
      "text/html": [
       "<div>\n",
       "<style scoped>\n",
       "    .dataframe tbody tr th:only-of-type {\n",
       "        vertical-align: middle;\n",
       "    }\n",
       "\n",
       "    .dataframe tbody tr th {\n",
       "        vertical-align: top;\n",
       "    }\n",
       "\n",
       "    .dataframe thead th {\n",
       "        text-align: right;\n",
       "    }\n",
       "</style>\n",
       "<table border=\"1\" class=\"dataframe\">\n",
       "  <thead>\n",
       "    <tr style=\"text-align: right;\">\n",
       "      <th></th>\n",
       "      <th>Precision</th>\n",
       "      <th>Recall</th>\n",
       "      <th>F1</th>\n",
       "    </tr>\n",
       "  </thead>\n",
       "  <tbody>\n",
       "    <tr>\n",
       "      <th>0</th>\n",
       "      <td>0.98 ± 0.002</td>\n",
       "      <td>0.95 ± 0.004</td>\n",
       "      <td>0.97 ± 0.003</td>\n",
       "    </tr>\n",
       "    <tr>\n",
       "      <th>1</th>\n",
       "      <td>0.98 ± 0.000</td>\n",
       "      <td>0.99 ± 0.000</td>\n",
       "      <td>0.99 ± 0.000</td>\n",
       "    </tr>\n",
       "    <tr>\n",
       "      <th>2</th>\n",
       "      <td>0.92 ± 0.004</td>\n",
       "      <td>0.74 ± 0.011</td>\n",
       "      <td>0.82 ± 0.006</td>\n",
       "    </tr>\n",
       "    <tr>\n",
       "      <th>3</th>\n",
       "      <td>0.91 ± 0.015</td>\n",
       "      <td>0.61 ± 0.008</td>\n",
       "      <td>0.73 ± 0.008</td>\n",
       "    </tr>\n",
       "    <tr>\n",
       "      <th>4</th>\n",
       "      <td>0.99 ± 0.011</td>\n",
       "      <td>0.84 ± 0.019</td>\n",
       "      <td>0.90 ± 0.012</td>\n",
       "    </tr>\n",
       "    <tr>\n",
       "      <th>5</th>\n",
       "      <td>0.82 ± 0.010</td>\n",
       "      <td>0.88 ± 0.029</td>\n",
       "      <td>0.84 ± 0.018</td>\n",
       "    </tr>\n",
       "    <tr>\n",
       "      <th>6</th>\n",
       "      <td>0.96 ± 0.002</td>\n",
       "      <td>0.97 ± 0.001</td>\n",
       "      <td>0.96 ± 0.001</td>\n",
       "    </tr>\n",
       "    <tr>\n",
       "      <th>7</th>\n",
       "      <td>0.91 ± 0.010</td>\n",
       "      <td>0.82 ± 0.009</td>\n",
       "      <td>0.86 ± 0.006</td>\n",
       "    </tr>\n",
       "    <tr>\n",
       "      <th>8</th>\n",
       "      <td>0.97 ± 0.008</td>\n",
       "      <td>0.88 ± 0.024</td>\n",
       "      <td>0.92 ± 0.013</td>\n",
       "    </tr>\n",
       "    <tr>\n",
       "      <th>9</th>\n",
       "      <td>0.99 ± 0.006</td>\n",
       "      <td>0.89 ± 0.007</td>\n",
       "      <td>0.93 ± 0.004</td>\n",
       "    </tr>\n",
       "  </tbody>\n",
       "</table>\n",
       "</div>"
      ],
      "text/plain": [
       "      Precision        Recall            F1\n",
       "0  0.98 ± 0.002  0.95 ± 0.004  0.97 ± 0.003\n",
       "1  0.98 ± 0.000  0.99 ± 0.000  0.99 ± 0.000\n",
       "2  0.92 ± 0.004  0.74 ± 0.011  0.82 ± 0.006\n",
       "3  0.91 ± 0.015  0.61 ± 0.008  0.73 ± 0.008\n",
       "4  0.99 ± 0.011  0.84 ± 0.019  0.90 ± 0.012\n",
       "5  0.82 ± 0.010  0.88 ± 0.029  0.84 ± 0.018\n",
       "6  0.96 ± 0.002  0.97 ± 0.001  0.96 ± 0.001\n",
       "7  0.91 ± 0.010  0.82 ± 0.009  0.86 ± 0.006\n",
       "8  0.97 ± 0.008  0.88 ± 0.024  0.92 ± 0.013\n",
       "9  0.99 ± 0.006  0.89 ± 0.007  0.93 ± 0.004"
      ]
     },
     "execution_count": 97,
     "metadata": {},
     "output_type": "execute_result"
    }
   ],
   "source": [
    "confidence_interval(score[0])"
   ]
  },
  {
   "cell_type": "markdown",
   "id": "fc572563",
   "metadata": {},
   "source": [
    "**<h4>4.3.5 Ensembled Model (no CV)</h4>**"
   ]
  },
  {
   "cell_type": "markdown",
   "id": "a83b4bca",
   "metadata": {},
   "source": [
    "I've observed that SVMs and XGBoost work really well. Now I try to combine them.\n",
    " "
   ]
  },
  {
   "cell_type": "code",
   "execution_count": 98,
   "id": "b5f56e72",
   "metadata": {},
   "outputs": [],
   "source": [
    "X_train_split, X_val_split, y_train_split, y_val_split = train_test_split(X_train_numpy, y_train, stratify=y_train, test_size=0.4, random_state=42)"
   ]
  },
  {
   "cell_type": "markdown",
   "id": "4b394557",
   "metadata": {},
   "source": [
    "**4.3.5.1 Validate performance of SVMs**"
   ]
  },
  {
   "cell_type": "code",
   "execution_count": 132,
   "id": "715377c0",
   "metadata": {},
   "outputs": [],
   "source": [
    "svm = SVC(kernel='linear', C=0.1, gamma='scale', probability=True) "
   ]
  },
  {
   "cell_type": "code",
   "execution_count": 133,
   "id": "1be6fe3e",
   "metadata": {},
   "outputs": [
    {
     "data": {
      "text/html": [
       "<style>#sk-container-id-5 {\n",
       "  /* Definition of color scheme common for light and dark mode */\n",
       "  --sklearn-color-text: #000;\n",
       "  --sklearn-color-text-muted: #666;\n",
       "  --sklearn-color-line: gray;\n",
       "  /* Definition of color scheme for unfitted estimators */\n",
       "  --sklearn-color-unfitted-level-0: #fff5e6;\n",
       "  --sklearn-color-unfitted-level-1: #f6e4d2;\n",
       "  --sklearn-color-unfitted-level-2: #ffe0b3;\n",
       "  --sklearn-color-unfitted-level-3: chocolate;\n",
       "  /* Definition of color scheme for fitted estimators */\n",
       "  --sklearn-color-fitted-level-0: #f0f8ff;\n",
       "  --sklearn-color-fitted-level-1: #d4ebff;\n",
       "  --sklearn-color-fitted-level-2: #b3dbfd;\n",
       "  --sklearn-color-fitted-level-3: cornflowerblue;\n",
       "\n",
       "  /* Specific color for light theme */\n",
       "  --sklearn-color-text-on-default-background: var(--sg-text-color, var(--theme-code-foreground, var(--jp-content-font-color1, black)));\n",
       "  --sklearn-color-background: var(--sg-background-color, var(--theme-background, var(--jp-layout-color0, white)));\n",
       "  --sklearn-color-border-box: var(--sg-text-color, var(--theme-code-foreground, var(--jp-content-font-color1, black)));\n",
       "  --sklearn-color-icon: #696969;\n",
       "\n",
       "  @media (prefers-color-scheme: dark) {\n",
       "    /* Redefinition of color scheme for dark theme */\n",
       "    --sklearn-color-text-on-default-background: var(--sg-text-color, var(--theme-code-foreground, var(--jp-content-font-color1, white)));\n",
       "    --sklearn-color-background: var(--sg-background-color, var(--theme-background, var(--jp-layout-color0, #111)));\n",
       "    --sklearn-color-border-box: var(--sg-text-color, var(--theme-code-foreground, var(--jp-content-font-color1, white)));\n",
       "    --sklearn-color-icon: #878787;\n",
       "  }\n",
       "}\n",
       "\n",
       "#sk-container-id-5 {\n",
       "  color: var(--sklearn-color-text);\n",
       "}\n",
       "\n",
       "#sk-container-id-5 pre {\n",
       "  padding: 0;\n",
       "}\n",
       "\n",
       "#sk-container-id-5 input.sk-hidden--visually {\n",
       "  border: 0;\n",
       "  clip: rect(1px 1px 1px 1px);\n",
       "  clip: rect(1px, 1px, 1px, 1px);\n",
       "  height: 1px;\n",
       "  margin: -1px;\n",
       "  overflow: hidden;\n",
       "  padding: 0;\n",
       "  position: absolute;\n",
       "  width: 1px;\n",
       "}\n",
       "\n",
       "#sk-container-id-5 div.sk-dashed-wrapped {\n",
       "  border: 1px dashed var(--sklearn-color-line);\n",
       "  margin: 0 0.4em 0.5em 0.4em;\n",
       "  box-sizing: border-box;\n",
       "  padding-bottom: 0.4em;\n",
       "  background-color: var(--sklearn-color-background);\n",
       "}\n",
       "\n",
       "#sk-container-id-5 div.sk-container {\n",
       "  /* jupyter's `normalize.less` sets `[hidden] { display: none; }`\n",
       "     but bootstrap.min.css set `[hidden] { display: none !important; }`\n",
       "     so we also need the `!important` here to be able to override the\n",
       "     default hidden behavior on the sphinx rendered scikit-learn.org.\n",
       "     See: https://github.com/scikit-learn/scikit-learn/issues/21755 */\n",
       "  display: inline-block !important;\n",
       "  position: relative;\n",
       "}\n",
       "\n",
       "#sk-container-id-5 div.sk-text-repr-fallback {\n",
       "  display: none;\n",
       "}\n",
       "\n",
       "div.sk-parallel-item,\n",
       "div.sk-serial,\n",
       "div.sk-item {\n",
       "  /* draw centered vertical line to link estimators */\n",
       "  background-image: linear-gradient(var(--sklearn-color-text-on-default-background), var(--sklearn-color-text-on-default-background));\n",
       "  background-size: 2px 100%;\n",
       "  background-repeat: no-repeat;\n",
       "  background-position: center center;\n",
       "}\n",
       "\n",
       "/* Parallel-specific style estimator block */\n",
       "\n",
       "#sk-container-id-5 div.sk-parallel-item::after {\n",
       "  content: \"\";\n",
       "  width: 100%;\n",
       "  border-bottom: 2px solid var(--sklearn-color-text-on-default-background);\n",
       "  flex-grow: 1;\n",
       "}\n",
       "\n",
       "#sk-container-id-5 div.sk-parallel {\n",
       "  display: flex;\n",
       "  align-items: stretch;\n",
       "  justify-content: center;\n",
       "  background-color: var(--sklearn-color-background);\n",
       "  position: relative;\n",
       "}\n",
       "\n",
       "#sk-container-id-5 div.sk-parallel-item {\n",
       "  display: flex;\n",
       "  flex-direction: column;\n",
       "}\n",
       "\n",
       "#sk-container-id-5 div.sk-parallel-item:first-child::after {\n",
       "  align-self: flex-end;\n",
       "  width: 50%;\n",
       "}\n",
       "\n",
       "#sk-container-id-5 div.sk-parallel-item:last-child::after {\n",
       "  align-self: flex-start;\n",
       "  width: 50%;\n",
       "}\n",
       "\n",
       "#sk-container-id-5 div.sk-parallel-item:only-child::after {\n",
       "  width: 0;\n",
       "}\n",
       "\n",
       "/* Serial-specific style estimator block */\n",
       "\n",
       "#sk-container-id-5 div.sk-serial {\n",
       "  display: flex;\n",
       "  flex-direction: column;\n",
       "  align-items: center;\n",
       "  background-color: var(--sklearn-color-background);\n",
       "  padding-right: 1em;\n",
       "  padding-left: 1em;\n",
       "}\n",
       "\n",
       "\n",
       "/* Toggleable style: style used for estimator/Pipeline/ColumnTransformer box that is\n",
       "clickable and can be expanded/collapsed.\n",
       "- Pipeline and ColumnTransformer use this feature and define the default style\n",
       "- Estimators will overwrite some part of the style using the `sk-estimator` class\n",
       "*/\n",
       "\n",
       "/* Pipeline and ColumnTransformer style (default) */\n",
       "\n",
       "#sk-container-id-5 div.sk-toggleable {\n",
       "  /* Default theme specific background. It is overwritten whether we have a\n",
       "  specific estimator or a Pipeline/ColumnTransformer */\n",
       "  background-color: var(--sklearn-color-background);\n",
       "}\n",
       "\n",
       "/* Toggleable label */\n",
       "#sk-container-id-5 label.sk-toggleable__label {\n",
       "  cursor: pointer;\n",
       "  display: flex;\n",
       "  width: 100%;\n",
       "  margin-bottom: 0;\n",
       "  padding: 0.5em;\n",
       "  box-sizing: border-box;\n",
       "  text-align: center;\n",
       "  align-items: start;\n",
       "  justify-content: space-between;\n",
       "  gap: 0.5em;\n",
       "}\n",
       "\n",
       "#sk-container-id-5 label.sk-toggleable__label .caption {\n",
       "  font-size: 0.6rem;\n",
       "  font-weight: lighter;\n",
       "  color: var(--sklearn-color-text-muted);\n",
       "}\n",
       "\n",
       "#sk-container-id-5 label.sk-toggleable__label-arrow:before {\n",
       "  /* Arrow on the left of the label */\n",
       "  content: \"▸\";\n",
       "  float: left;\n",
       "  margin-right: 0.25em;\n",
       "  color: var(--sklearn-color-icon);\n",
       "}\n",
       "\n",
       "#sk-container-id-5 label.sk-toggleable__label-arrow:hover:before {\n",
       "  color: var(--sklearn-color-text);\n",
       "}\n",
       "\n",
       "/* Toggleable content - dropdown */\n",
       "\n",
       "#sk-container-id-5 div.sk-toggleable__content {\n",
       "  max-height: 0;\n",
       "  max-width: 0;\n",
       "  overflow: hidden;\n",
       "  text-align: left;\n",
       "  /* unfitted */\n",
       "  background-color: var(--sklearn-color-unfitted-level-0);\n",
       "}\n",
       "\n",
       "#sk-container-id-5 div.sk-toggleable__content.fitted {\n",
       "  /* fitted */\n",
       "  background-color: var(--sklearn-color-fitted-level-0);\n",
       "}\n",
       "\n",
       "#sk-container-id-5 div.sk-toggleable__content pre {\n",
       "  margin: 0.2em;\n",
       "  border-radius: 0.25em;\n",
       "  color: var(--sklearn-color-text);\n",
       "  /* unfitted */\n",
       "  background-color: var(--sklearn-color-unfitted-level-0);\n",
       "}\n",
       "\n",
       "#sk-container-id-5 div.sk-toggleable__content.fitted pre {\n",
       "  /* unfitted */\n",
       "  background-color: var(--sklearn-color-fitted-level-0);\n",
       "}\n",
       "\n",
       "#sk-container-id-5 input.sk-toggleable__control:checked~div.sk-toggleable__content {\n",
       "  /* Expand drop-down */\n",
       "  max-height: 200px;\n",
       "  max-width: 100%;\n",
       "  overflow: auto;\n",
       "}\n",
       "\n",
       "#sk-container-id-5 input.sk-toggleable__control:checked~label.sk-toggleable__label-arrow:before {\n",
       "  content: \"▾\";\n",
       "}\n",
       "\n",
       "/* Pipeline/ColumnTransformer-specific style */\n",
       "\n",
       "#sk-container-id-5 div.sk-label input.sk-toggleable__control:checked~label.sk-toggleable__label {\n",
       "  color: var(--sklearn-color-text);\n",
       "  background-color: var(--sklearn-color-unfitted-level-2);\n",
       "}\n",
       "\n",
       "#sk-container-id-5 div.sk-label.fitted input.sk-toggleable__control:checked~label.sk-toggleable__label {\n",
       "  background-color: var(--sklearn-color-fitted-level-2);\n",
       "}\n",
       "\n",
       "/* Estimator-specific style */\n",
       "\n",
       "/* Colorize estimator box */\n",
       "#sk-container-id-5 div.sk-estimator input.sk-toggleable__control:checked~label.sk-toggleable__label {\n",
       "  /* unfitted */\n",
       "  background-color: var(--sklearn-color-unfitted-level-2);\n",
       "}\n",
       "\n",
       "#sk-container-id-5 div.sk-estimator.fitted input.sk-toggleable__control:checked~label.sk-toggleable__label {\n",
       "  /* fitted */\n",
       "  background-color: var(--sklearn-color-fitted-level-2);\n",
       "}\n",
       "\n",
       "#sk-container-id-5 div.sk-label label.sk-toggleable__label,\n",
       "#sk-container-id-5 div.sk-label label {\n",
       "  /* The background is the default theme color */\n",
       "  color: var(--sklearn-color-text-on-default-background);\n",
       "}\n",
       "\n",
       "/* On hover, darken the color of the background */\n",
       "#sk-container-id-5 div.sk-label:hover label.sk-toggleable__label {\n",
       "  color: var(--sklearn-color-text);\n",
       "  background-color: var(--sklearn-color-unfitted-level-2);\n",
       "}\n",
       "\n",
       "/* Label box, darken color on hover, fitted */\n",
       "#sk-container-id-5 div.sk-label.fitted:hover label.sk-toggleable__label.fitted {\n",
       "  color: var(--sklearn-color-text);\n",
       "  background-color: var(--sklearn-color-fitted-level-2);\n",
       "}\n",
       "\n",
       "/* Estimator label */\n",
       "\n",
       "#sk-container-id-5 div.sk-label label {\n",
       "  font-family: monospace;\n",
       "  font-weight: bold;\n",
       "  display: inline-block;\n",
       "  line-height: 1.2em;\n",
       "}\n",
       "\n",
       "#sk-container-id-5 div.sk-label-container {\n",
       "  text-align: center;\n",
       "}\n",
       "\n",
       "/* Estimator-specific */\n",
       "#sk-container-id-5 div.sk-estimator {\n",
       "  font-family: monospace;\n",
       "  border: 1px dotted var(--sklearn-color-border-box);\n",
       "  border-radius: 0.25em;\n",
       "  box-sizing: border-box;\n",
       "  margin-bottom: 0.5em;\n",
       "  /* unfitted */\n",
       "  background-color: var(--sklearn-color-unfitted-level-0);\n",
       "}\n",
       "\n",
       "#sk-container-id-5 div.sk-estimator.fitted {\n",
       "  /* fitted */\n",
       "  background-color: var(--sklearn-color-fitted-level-0);\n",
       "}\n",
       "\n",
       "/* on hover */\n",
       "#sk-container-id-5 div.sk-estimator:hover {\n",
       "  /* unfitted */\n",
       "  background-color: var(--sklearn-color-unfitted-level-2);\n",
       "}\n",
       "\n",
       "#sk-container-id-5 div.sk-estimator.fitted:hover {\n",
       "  /* fitted */\n",
       "  background-color: var(--sklearn-color-fitted-level-2);\n",
       "}\n",
       "\n",
       "/* Specification for estimator info (e.g. \"i\" and \"?\") */\n",
       "\n",
       "/* Common style for \"i\" and \"?\" */\n",
       "\n",
       ".sk-estimator-doc-link,\n",
       "a:link.sk-estimator-doc-link,\n",
       "a:visited.sk-estimator-doc-link {\n",
       "  float: right;\n",
       "  font-size: smaller;\n",
       "  line-height: 1em;\n",
       "  font-family: monospace;\n",
       "  background-color: var(--sklearn-color-background);\n",
       "  border-radius: 1em;\n",
       "  height: 1em;\n",
       "  width: 1em;\n",
       "  text-decoration: none !important;\n",
       "  margin-left: 0.5em;\n",
       "  text-align: center;\n",
       "  /* unfitted */\n",
       "  border: var(--sklearn-color-unfitted-level-1) 1pt solid;\n",
       "  color: var(--sklearn-color-unfitted-level-1);\n",
       "}\n",
       "\n",
       ".sk-estimator-doc-link.fitted,\n",
       "a:link.sk-estimator-doc-link.fitted,\n",
       "a:visited.sk-estimator-doc-link.fitted {\n",
       "  /* fitted */\n",
       "  border: var(--sklearn-color-fitted-level-1) 1pt solid;\n",
       "  color: var(--sklearn-color-fitted-level-1);\n",
       "}\n",
       "\n",
       "/* On hover */\n",
       "div.sk-estimator:hover .sk-estimator-doc-link:hover,\n",
       ".sk-estimator-doc-link:hover,\n",
       "div.sk-label-container:hover .sk-estimator-doc-link:hover,\n",
       ".sk-estimator-doc-link:hover {\n",
       "  /* unfitted */\n",
       "  background-color: var(--sklearn-color-unfitted-level-3);\n",
       "  color: var(--sklearn-color-background);\n",
       "  text-decoration: none;\n",
       "}\n",
       "\n",
       "div.sk-estimator.fitted:hover .sk-estimator-doc-link.fitted:hover,\n",
       ".sk-estimator-doc-link.fitted:hover,\n",
       "div.sk-label-container:hover .sk-estimator-doc-link.fitted:hover,\n",
       ".sk-estimator-doc-link.fitted:hover {\n",
       "  /* fitted */\n",
       "  background-color: var(--sklearn-color-fitted-level-3);\n",
       "  color: var(--sklearn-color-background);\n",
       "  text-decoration: none;\n",
       "}\n",
       "\n",
       "/* Span, style for the box shown on hovering the info icon */\n",
       ".sk-estimator-doc-link span {\n",
       "  display: none;\n",
       "  z-index: 9999;\n",
       "  position: relative;\n",
       "  font-weight: normal;\n",
       "  right: .2ex;\n",
       "  padding: .5ex;\n",
       "  margin: .5ex;\n",
       "  width: min-content;\n",
       "  min-width: 20ex;\n",
       "  max-width: 50ex;\n",
       "  color: var(--sklearn-color-text);\n",
       "  box-shadow: 2pt 2pt 4pt #999;\n",
       "  /* unfitted */\n",
       "  background: var(--sklearn-color-unfitted-level-0);\n",
       "  border: .5pt solid var(--sklearn-color-unfitted-level-3);\n",
       "}\n",
       "\n",
       ".sk-estimator-doc-link.fitted span {\n",
       "  /* fitted */\n",
       "  background: var(--sklearn-color-fitted-level-0);\n",
       "  border: var(--sklearn-color-fitted-level-3);\n",
       "}\n",
       "\n",
       ".sk-estimator-doc-link:hover span {\n",
       "  display: block;\n",
       "}\n",
       "\n",
       "/* \"?\"-specific style due to the `<a>` HTML tag */\n",
       "\n",
       "#sk-container-id-5 a.estimator_doc_link {\n",
       "  float: right;\n",
       "  font-size: 1rem;\n",
       "  line-height: 1em;\n",
       "  font-family: monospace;\n",
       "  background-color: var(--sklearn-color-background);\n",
       "  border-radius: 1rem;\n",
       "  height: 1rem;\n",
       "  width: 1rem;\n",
       "  text-decoration: none;\n",
       "  /* unfitted */\n",
       "  color: var(--sklearn-color-unfitted-level-1);\n",
       "  border: var(--sklearn-color-unfitted-level-1) 1pt solid;\n",
       "}\n",
       "\n",
       "#sk-container-id-5 a.estimator_doc_link.fitted {\n",
       "  /* fitted */\n",
       "  border: var(--sklearn-color-fitted-level-1) 1pt solid;\n",
       "  color: var(--sklearn-color-fitted-level-1);\n",
       "}\n",
       "\n",
       "/* On hover */\n",
       "#sk-container-id-5 a.estimator_doc_link:hover {\n",
       "  /* unfitted */\n",
       "  background-color: var(--sklearn-color-unfitted-level-3);\n",
       "  color: var(--sklearn-color-background);\n",
       "  text-decoration: none;\n",
       "}\n",
       "\n",
       "#sk-container-id-5 a.estimator_doc_link.fitted:hover {\n",
       "  /* fitted */\n",
       "  background-color: var(--sklearn-color-fitted-level-3);\n",
       "}\n",
       "</style><div id=\"sk-container-id-5\" class=\"sk-top-container\"><div class=\"sk-text-repr-fallback\"><pre>SVC(C=0.1, kernel=&#x27;linear&#x27;, probability=True)</pre><b>In a Jupyter environment, please rerun this cell to show the HTML representation or trust the notebook. <br />On GitHub, the HTML representation is unable to render, please try loading this page with nbviewer.org.</b></div><div class=\"sk-container\" hidden><div class=\"sk-item\"><div class=\"sk-estimator fitted sk-toggleable\"><input class=\"sk-toggleable__control sk-hidden--visually\" id=\"sk-estimator-id-5\" type=\"checkbox\" checked><label for=\"sk-estimator-id-5\" class=\"sk-toggleable__label fitted sk-toggleable__label-arrow\"><div><div>SVC</div></div><div><a class=\"sk-estimator-doc-link fitted\" rel=\"noreferrer\" target=\"_blank\" href=\"https://scikit-learn.org/1.6/modules/generated/sklearn.svm.SVC.html\">?<span>Documentation for SVC</span></a><span class=\"sk-estimator-doc-link fitted\">i<span>Fitted</span></span></div></label><div class=\"sk-toggleable__content fitted\"><pre>SVC(C=0.1, kernel=&#x27;linear&#x27;, probability=True)</pre></div> </div></div></div></div>"
      ],
      "text/plain": [
       "SVC(C=0.1, kernel='linear', probability=True)"
      ]
     },
     "execution_count": 133,
     "metadata": {},
     "output_type": "execute_result"
    }
   ],
   "source": [
    "svm.fit(X_train_split, y_train_split)"
   ]
  },
  {
   "cell_type": "code",
   "execution_count": 134,
   "id": "f52d2412",
   "metadata": {},
   "outputs": [],
   "source": [
    "svm_pred_prob = svm.predict_proba(X_val_split)"
   ]
  },
  {
   "cell_type": "code",
   "execution_count": 135,
   "id": "81813fc7",
   "metadata": {},
   "outputs": [],
   "source": [
    "svm_pred = np.argmax(svm_pred_prob, axis=1) + 1"
   ]
  },
  {
   "cell_type": "code",
   "execution_count": 136,
   "id": "ff8afdf6",
   "metadata": {},
   "outputs": [
    {
     "name": "stdout",
     "output_type": "stream",
     "text": [
      "              precision    recall  f1-score   support\n",
      "\n",
      "           1       0.99      0.91      0.95       180\n",
      "           2       0.98      0.99      0.99      9907\n",
      "           3       0.89      0.72      0.79       332\n",
      "           4       0.89      0.60      0.72       156\n",
      "           5       1.00      0.85      0.92        26\n",
      "           6       1.00      0.62      0.77         8\n",
      "           7       0.95      0.97      0.96      1480\n",
      "           8       0.87      0.83      0.85       224\n",
      "           9       1.00      0.85      0.92        26\n",
      "          10       1.00      0.88      0.94        66\n",
      "\n",
      "    accuracy                           0.97     12405\n",
      "   macro avg       0.96      0.82      0.88     12405\n",
      "weighted avg       0.97      0.97      0.97     12405\n",
      "\n"
     ]
    }
   ],
   "source": [
    "print(classification_report(y_pred=svm_pred, y_true=y_val_split))"
   ]
  },
  {
   "cell_type": "markdown",
   "id": "24404c25",
   "metadata": {},
   "source": [
    "**4.3.5.2 Validate performance of XGBoost**"
   ]
  },
  {
   "cell_type": "code",
   "execution_count": 137,
   "id": "0b7fb84d",
   "metadata": {},
   "outputs": [],
   "source": [
    "xgb = XGBClassifier(use_label_encoder=False, eval_metric='mlogloss')"
   ]
  },
  {
   "cell_type": "code",
   "execution_count": 138,
   "id": "ea64e165",
   "metadata": {},
   "outputs": [
    {
     "data": {
      "text/html": [
       "<style>#sk-container-id-6 {\n",
       "  /* Definition of color scheme common for light and dark mode */\n",
       "  --sklearn-color-text: #000;\n",
       "  --sklearn-color-text-muted: #666;\n",
       "  --sklearn-color-line: gray;\n",
       "  /* Definition of color scheme for unfitted estimators */\n",
       "  --sklearn-color-unfitted-level-0: #fff5e6;\n",
       "  --sklearn-color-unfitted-level-1: #f6e4d2;\n",
       "  --sklearn-color-unfitted-level-2: #ffe0b3;\n",
       "  --sklearn-color-unfitted-level-3: chocolate;\n",
       "  /* Definition of color scheme for fitted estimators */\n",
       "  --sklearn-color-fitted-level-0: #f0f8ff;\n",
       "  --sklearn-color-fitted-level-1: #d4ebff;\n",
       "  --sklearn-color-fitted-level-2: #b3dbfd;\n",
       "  --sklearn-color-fitted-level-3: cornflowerblue;\n",
       "\n",
       "  /* Specific color for light theme */\n",
       "  --sklearn-color-text-on-default-background: var(--sg-text-color, var(--theme-code-foreground, var(--jp-content-font-color1, black)));\n",
       "  --sklearn-color-background: var(--sg-background-color, var(--theme-background, var(--jp-layout-color0, white)));\n",
       "  --sklearn-color-border-box: var(--sg-text-color, var(--theme-code-foreground, var(--jp-content-font-color1, black)));\n",
       "  --sklearn-color-icon: #696969;\n",
       "\n",
       "  @media (prefers-color-scheme: dark) {\n",
       "    /* Redefinition of color scheme for dark theme */\n",
       "    --sklearn-color-text-on-default-background: var(--sg-text-color, var(--theme-code-foreground, var(--jp-content-font-color1, white)));\n",
       "    --sklearn-color-background: var(--sg-background-color, var(--theme-background, var(--jp-layout-color0, #111)));\n",
       "    --sklearn-color-border-box: var(--sg-text-color, var(--theme-code-foreground, var(--jp-content-font-color1, white)));\n",
       "    --sklearn-color-icon: #878787;\n",
       "  }\n",
       "}\n",
       "\n",
       "#sk-container-id-6 {\n",
       "  color: var(--sklearn-color-text);\n",
       "}\n",
       "\n",
       "#sk-container-id-6 pre {\n",
       "  padding: 0;\n",
       "}\n",
       "\n",
       "#sk-container-id-6 input.sk-hidden--visually {\n",
       "  border: 0;\n",
       "  clip: rect(1px 1px 1px 1px);\n",
       "  clip: rect(1px, 1px, 1px, 1px);\n",
       "  height: 1px;\n",
       "  margin: -1px;\n",
       "  overflow: hidden;\n",
       "  padding: 0;\n",
       "  position: absolute;\n",
       "  width: 1px;\n",
       "}\n",
       "\n",
       "#sk-container-id-6 div.sk-dashed-wrapped {\n",
       "  border: 1px dashed var(--sklearn-color-line);\n",
       "  margin: 0 0.4em 0.5em 0.4em;\n",
       "  box-sizing: border-box;\n",
       "  padding-bottom: 0.4em;\n",
       "  background-color: var(--sklearn-color-background);\n",
       "}\n",
       "\n",
       "#sk-container-id-6 div.sk-container {\n",
       "  /* jupyter's `normalize.less` sets `[hidden] { display: none; }`\n",
       "     but bootstrap.min.css set `[hidden] { display: none !important; }`\n",
       "     so we also need the `!important` here to be able to override the\n",
       "     default hidden behavior on the sphinx rendered scikit-learn.org.\n",
       "     See: https://github.com/scikit-learn/scikit-learn/issues/21755 */\n",
       "  display: inline-block !important;\n",
       "  position: relative;\n",
       "}\n",
       "\n",
       "#sk-container-id-6 div.sk-text-repr-fallback {\n",
       "  display: none;\n",
       "}\n",
       "\n",
       "div.sk-parallel-item,\n",
       "div.sk-serial,\n",
       "div.sk-item {\n",
       "  /* draw centered vertical line to link estimators */\n",
       "  background-image: linear-gradient(var(--sklearn-color-text-on-default-background), var(--sklearn-color-text-on-default-background));\n",
       "  background-size: 2px 100%;\n",
       "  background-repeat: no-repeat;\n",
       "  background-position: center center;\n",
       "}\n",
       "\n",
       "/* Parallel-specific style estimator block */\n",
       "\n",
       "#sk-container-id-6 div.sk-parallel-item::after {\n",
       "  content: \"\";\n",
       "  width: 100%;\n",
       "  border-bottom: 2px solid var(--sklearn-color-text-on-default-background);\n",
       "  flex-grow: 1;\n",
       "}\n",
       "\n",
       "#sk-container-id-6 div.sk-parallel {\n",
       "  display: flex;\n",
       "  align-items: stretch;\n",
       "  justify-content: center;\n",
       "  background-color: var(--sklearn-color-background);\n",
       "  position: relative;\n",
       "}\n",
       "\n",
       "#sk-container-id-6 div.sk-parallel-item {\n",
       "  display: flex;\n",
       "  flex-direction: column;\n",
       "}\n",
       "\n",
       "#sk-container-id-6 div.sk-parallel-item:first-child::after {\n",
       "  align-self: flex-end;\n",
       "  width: 50%;\n",
       "}\n",
       "\n",
       "#sk-container-id-6 div.sk-parallel-item:last-child::after {\n",
       "  align-self: flex-start;\n",
       "  width: 50%;\n",
       "}\n",
       "\n",
       "#sk-container-id-6 div.sk-parallel-item:only-child::after {\n",
       "  width: 0;\n",
       "}\n",
       "\n",
       "/* Serial-specific style estimator block */\n",
       "\n",
       "#sk-container-id-6 div.sk-serial {\n",
       "  display: flex;\n",
       "  flex-direction: column;\n",
       "  align-items: center;\n",
       "  background-color: var(--sklearn-color-background);\n",
       "  padding-right: 1em;\n",
       "  padding-left: 1em;\n",
       "}\n",
       "\n",
       "\n",
       "/* Toggleable style: style used for estimator/Pipeline/ColumnTransformer box that is\n",
       "clickable and can be expanded/collapsed.\n",
       "- Pipeline and ColumnTransformer use this feature and define the default style\n",
       "- Estimators will overwrite some part of the style using the `sk-estimator` class\n",
       "*/\n",
       "\n",
       "/* Pipeline and ColumnTransformer style (default) */\n",
       "\n",
       "#sk-container-id-6 div.sk-toggleable {\n",
       "  /* Default theme specific background. It is overwritten whether we have a\n",
       "  specific estimator or a Pipeline/ColumnTransformer */\n",
       "  background-color: var(--sklearn-color-background);\n",
       "}\n",
       "\n",
       "/* Toggleable label */\n",
       "#sk-container-id-6 label.sk-toggleable__label {\n",
       "  cursor: pointer;\n",
       "  display: flex;\n",
       "  width: 100%;\n",
       "  margin-bottom: 0;\n",
       "  padding: 0.5em;\n",
       "  box-sizing: border-box;\n",
       "  text-align: center;\n",
       "  align-items: start;\n",
       "  justify-content: space-between;\n",
       "  gap: 0.5em;\n",
       "}\n",
       "\n",
       "#sk-container-id-6 label.sk-toggleable__label .caption {\n",
       "  font-size: 0.6rem;\n",
       "  font-weight: lighter;\n",
       "  color: var(--sklearn-color-text-muted);\n",
       "}\n",
       "\n",
       "#sk-container-id-6 label.sk-toggleable__label-arrow:before {\n",
       "  /* Arrow on the left of the label */\n",
       "  content: \"▸\";\n",
       "  float: left;\n",
       "  margin-right: 0.25em;\n",
       "  color: var(--sklearn-color-icon);\n",
       "}\n",
       "\n",
       "#sk-container-id-6 label.sk-toggleable__label-arrow:hover:before {\n",
       "  color: var(--sklearn-color-text);\n",
       "}\n",
       "\n",
       "/* Toggleable content - dropdown */\n",
       "\n",
       "#sk-container-id-6 div.sk-toggleable__content {\n",
       "  max-height: 0;\n",
       "  max-width: 0;\n",
       "  overflow: hidden;\n",
       "  text-align: left;\n",
       "  /* unfitted */\n",
       "  background-color: var(--sklearn-color-unfitted-level-0);\n",
       "}\n",
       "\n",
       "#sk-container-id-6 div.sk-toggleable__content.fitted {\n",
       "  /* fitted */\n",
       "  background-color: var(--sklearn-color-fitted-level-0);\n",
       "}\n",
       "\n",
       "#sk-container-id-6 div.sk-toggleable__content pre {\n",
       "  margin: 0.2em;\n",
       "  border-radius: 0.25em;\n",
       "  color: var(--sklearn-color-text);\n",
       "  /* unfitted */\n",
       "  background-color: var(--sklearn-color-unfitted-level-0);\n",
       "}\n",
       "\n",
       "#sk-container-id-6 div.sk-toggleable__content.fitted pre {\n",
       "  /* unfitted */\n",
       "  background-color: var(--sklearn-color-fitted-level-0);\n",
       "}\n",
       "\n",
       "#sk-container-id-6 input.sk-toggleable__control:checked~div.sk-toggleable__content {\n",
       "  /* Expand drop-down */\n",
       "  max-height: 200px;\n",
       "  max-width: 100%;\n",
       "  overflow: auto;\n",
       "}\n",
       "\n",
       "#sk-container-id-6 input.sk-toggleable__control:checked~label.sk-toggleable__label-arrow:before {\n",
       "  content: \"▾\";\n",
       "}\n",
       "\n",
       "/* Pipeline/ColumnTransformer-specific style */\n",
       "\n",
       "#sk-container-id-6 div.sk-label input.sk-toggleable__control:checked~label.sk-toggleable__label {\n",
       "  color: var(--sklearn-color-text);\n",
       "  background-color: var(--sklearn-color-unfitted-level-2);\n",
       "}\n",
       "\n",
       "#sk-container-id-6 div.sk-label.fitted input.sk-toggleable__control:checked~label.sk-toggleable__label {\n",
       "  background-color: var(--sklearn-color-fitted-level-2);\n",
       "}\n",
       "\n",
       "/* Estimator-specific style */\n",
       "\n",
       "/* Colorize estimator box */\n",
       "#sk-container-id-6 div.sk-estimator input.sk-toggleable__control:checked~label.sk-toggleable__label {\n",
       "  /* unfitted */\n",
       "  background-color: var(--sklearn-color-unfitted-level-2);\n",
       "}\n",
       "\n",
       "#sk-container-id-6 div.sk-estimator.fitted input.sk-toggleable__control:checked~label.sk-toggleable__label {\n",
       "  /* fitted */\n",
       "  background-color: var(--sklearn-color-fitted-level-2);\n",
       "}\n",
       "\n",
       "#sk-container-id-6 div.sk-label label.sk-toggleable__label,\n",
       "#sk-container-id-6 div.sk-label label {\n",
       "  /* The background is the default theme color */\n",
       "  color: var(--sklearn-color-text-on-default-background);\n",
       "}\n",
       "\n",
       "/* On hover, darken the color of the background */\n",
       "#sk-container-id-6 div.sk-label:hover label.sk-toggleable__label {\n",
       "  color: var(--sklearn-color-text);\n",
       "  background-color: var(--sklearn-color-unfitted-level-2);\n",
       "}\n",
       "\n",
       "/* Label box, darken color on hover, fitted */\n",
       "#sk-container-id-6 div.sk-label.fitted:hover label.sk-toggleable__label.fitted {\n",
       "  color: var(--sklearn-color-text);\n",
       "  background-color: var(--sklearn-color-fitted-level-2);\n",
       "}\n",
       "\n",
       "/* Estimator label */\n",
       "\n",
       "#sk-container-id-6 div.sk-label label {\n",
       "  font-family: monospace;\n",
       "  font-weight: bold;\n",
       "  display: inline-block;\n",
       "  line-height: 1.2em;\n",
       "}\n",
       "\n",
       "#sk-container-id-6 div.sk-label-container {\n",
       "  text-align: center;\n",
       "}\n",
       "\n",
       "/* Estimator-specific */\n",
       "#sk-container-id-6 div.sk-estimator {\n",
       "  font-family: monospace;\n",
       "  border: 1px dotted var(--sklearn-color-border-box);\n",
       "  border-radius: 0.25em;\n",
       "  box-sizing: border-box;\n",
       "  margin-bottom: 0.5em;\n",
       "  /* unfitted */\n",
       "  background-color: var(--sklearn-color-unfitted-level-0);\n",
       "}\n",
       "\n",
       "#sk-container-id-6 div.sk-estimator.fitted {\n",
       "  /* fitted */\n",
       "  background-color: var(--sklearn-color-fitted-level-0);\n",
       "}\n",
       "\n",
       "/* on hover */\n",
       "#sk-container-id-6 div.sk-estimator:hover {\n",
       "  /* unfitted */\n",
       "  background-color: var(--sklearn-color-unfitted-level-2);\n",
       "}\n",
       "\n",
       "#sk-container-id-6 div.sk-estimator.fitted:hover {\n",
       "  /* fitted */\n",
       "  background-color: var(--sklearn-color-fitted-level-2);\n",
       "}\n",
       "\n",
       "/* Specification for estimator info (e.g. \"i\" and \"?\") */\n",
       "\n",
       "/* Common style for \"i\" and \"?\" */\n",
       "\n",
       ".sk-estimator-doc-link,\n",
       "a:link.sk-estimator-doc-link,\n",
       "a:visited.sk-estimator-doc-link {\n",
       "  float: right;\n",
       "  font-size: smaller;\n",
       "  line-height: 1em;\n",
       "  font-family: monospace;\n",
       "  background-color: var(--sklearn-color-background);\n",
       "  border-radius: 1em;\n",
       "  height: 1em;\n",
       "  width: 1em;\n",
       "  text-decoration: none !important;\n",
       "  margin-left: 0.5em;\n",
       "  text-align: center;\n",
       "  /* unfitted */\n",
       "  border: var(--sklearn-color-unfitted-level-1) 1pt solid;\n",
       "  color: var(--sklearn-color-unfitted-level-1);\n",
       "}\n",
       "\n",
       ".sk-estimator-doc-link.fitted,\n",
       "a:link.sk-estimator-doc-link.fitted,\n",
       "a:visited.sk-estimator-doc-link.fitted {\n",
       "  /* fitted */\n",
       "  border: var(--sklearn-color-fitted-level-1) 1pt solid;\n",
       "  color: var(--sklearn-color-fitted-level-1);\n",
       "}\n",
       "\n",
       "/* On hover */\n",
       "div.sk-estimator:hover .sk-estimator-doc-link:hover,\n",
       ".sk-estimator-doc-link:hover,\n",
       "div.sk-label-container:hover .sk-estimator-doc-link:hover,\n",
       ".sk-estimator-doc-link:hover {\n",
       "  /* unfitted */\n",
       "  background-color: var(--sklearn-color-unfitted-level-3);\n",
       "  color: var(--sklearn-color-background);\n",
       "  text-decoration: none;\n",
       "}\n",
       "\n",
       "div.sk-estimator.fitted:hover .sk-estimator-doc-link.fitted:hover,\n",
       ".sk-estimator-doc-link.fitted:hover,\n",
       "div.sk-label-container:hover .sk-estimator-doc-link.fitted:hover,\n",
       ".sk-estimator-doc-link.fitted:hover {\n",
       "  /* fitted */\n",
       "  background-color: var(--sklearn-color-fitted-level-3);\n",
       "  color: var(--sklearn-color-background);\n",
       "  text-decoration: none;\n",
       "}\n",
       "\n",
       "/* Span, style for the box shown on hovering the info icon */\n",
       ".sk-estimator-doc-link span {\n",
       "  display: none;\n",
       "  z-index: 9999;\n",
       "  position: relative;\n",
       "  font-weight: normal;\n",
       "  right: .2ex;\n",
       "  padding: .5ex;\n",
       "  margin: .5ex;\n",
       "  width: min-content;\n",
       "  min-width: 20ex;\n",
       "  max-width: 50ex;\n",
       "  color: var(--sklearn-color-text);\n",
       "  box-shadow: 2pt 2pt 4pt #999;\n",
       "  /* unfitted */\n",
       "  background: var(--sklearn-color-unfitted-level-0);\n",
       "  border: .5pt solid var(--sklearn-color-unfitted-level-3);\n",
       "}\n",
       "\n",
       ".sk-estimator-doc-link.fitted span {\n",
       "  /* fitted */\n",
       "  background: var(--sklearn-color-fitted-level-0);\n",
       "  border: var(--sklearn-color-fitted-level-3);\n",
       "}\n",
       "\n",
       ".sk-estimator-doc-link:hover span {\n",
       "  display: block;\n",
       "}\n",
       "\n",
       "/* \"?\"-specific style due to the `<a>` HTML tag */\n",
       "\n",
       "#sk-container-id-6 a.estimator_doc_link {\n",
       "  float: right;\n",
       "  font-size: 1rem;\n",
       "  line-height: 1em;\n",
       "  font-family: monospace;\n",
       "  background-color: var(--sklearn-color-background);\n",
       "  border-radius: 1rem;\n",
       "  height: 1rem;\n",
       "  width: 1rem;\n",
       "  text-decoration: none;\n",
       "  /* unfitted */\n",
       "  color: var(--sklearn-color-unfitted-level-1);\n",
       "  border: var(--sklearn-color-unfitted-level-1) 1pt solid;\n",
       "}\n",
       "\n",
       "#sk-container-id-6 a.estimator_doc_link.fitted {\n",
       "  /* fitted */\n",
       "  border: var(--sklearn-color-fitted-level-1) 1pt solid;\n",
       "  color: var(--sklearn-color-fitted-level-1);\n",
       "}\n",
       "\n",
       "/* On hover */\n",
       "#sk-container-id-6 a.estimator_doc_link:hover {\n",
       "  /* unfitted */\n",
       "  background-color: var(--sklearn-color-unfitted-level-3);\n",
       "  color: var(--sklearn-color-background);\n",
       "  text-decoration: none;\n",
       "}\n",
       "\n",
       "#sk-container-id-6 a.estimator_doc_link.fitted:hover {\n",
       "  /* fitted */\n",
       "  background-color: var(--sklearn-color-fitted-level-3);\n",
       "}\n",
       "</style><div id=\"sk-container-id-6\" class=\"sk-top-container\"><div class=\"sk-text-repr-fallback\"><pre>XGBClassifier(base_score=None, booster=None, callbacks=None,\n",
       "              colsample_bylevel=None, colsample_bynode=None,\n",
       "              colsample_bytree=None, device=None, early_stopping_rounds=None,\n",
       "              enable_categorical=False, eval_metric=&#x27;mlogloss&#x27;,\n",
       "              feature_types=None, feature_weights=None, gamma=None,\n",
       "              grow_policy=None, importance_type=None,\n",
       "              interaction_constraints=None, learning_rate=None, max_bin=None,\n",
       "              max_cat_threshold=None, max_cat_to_onehot=None,\n",
       "              max_delta_step=None, max_depth=None, max_leaves=None,\n",
       "              min_child_weight=None, missing=nan, monotone_constraints=None,\n",
       "              multi_strategy=None, n_estimators=None, n_jobs=None,\n",
       "              num_parallel_tree=None, ...)</pre><b>In a Jupyter environment, please rerun this cell to show the HTML representation or trust the notebook. <br />On GitHub, the HTML representation is unable to render, please try loading this page with nbviewer.org.</b></div><div class=\"sk-container\" hidden><div class=\"sk-item\"><div class=\"sk-estimator fitted sk-toggleable\"><input class=\"sk-toggleable__control sk-hidden--visually\" id=\"sk-estimator-id-6\" type=\"checkbox\" checked><label for=\"sk-estimator-id-6\" class=\"sk-toggleable__label fitted sk-toggleable__label-arrow\"><div><div>XGBClassifier</div></div><div><a class=\"sk-estimator-doc-link fitted\" rel=\"noreferrer\" target=\"_blank\" href=\"https://xgboost.readthedocs.io/en/release_3.0.0/python/python_api.html#xgboost.XGBClassifier\">?<span>Documentation for XGBClassifier</span></a><span class=\"sk-estimator-doc-link fitted\">i<span>Fitted</span></span></div></label><div class=\"sk-toggleable__content fitted\"><pre>XGBClassifier(base_score=None, booster=None, callbacks=None,\n",
       "              colsample_bylevel=None, colsample_bynode=None,\n",
       "              colsample_bytree=None, device=None, early_stopping_rounds=None,\n",
       "              enable_categorical=False, eval_metric=&#x27;mlogloss&#x27;,\n",
       "              feature_types=None, feature_weights=None, gamma=None,\n",
       "              grow_policy=None, importance_type=None,\n",
       "              interaction_constraints=None, learning_rate=None, max_bin=None,\n",
       "              max_cat_threshold=None, max_cat_to_onehot=None,\n",
       "              max_delta_step=None, max_depth=None, max_leaves=None,\n",
       "              min_child_weight=None, missing=nan, monotone_constraints=None,\n",
       "              multi_strategy=None, n_estimators=None, n_jobs=None,\n",
       "              num_parallel_tree=None, ...)</pre></div> </div></div></div></div>"
      ],
      "text/plain": [
       "XGBClassifier(base_score=None, booster=None, callbacks=None,\n",
       "              colsample_bylevel=None, colsample_bynode=None,\n",
       "              colsample_bytree=None, device=None, early_stopping_rounds=None,\n",
       "              enable_categorical=False, eval_metric='mlogloss',\n",
       "              feature_types=None, feature_weights=None, gamma=None,\n",
       "              grow_policy=None, importance_type=None,\n",
       "              interaction_constraints=None, learning_rate=None, max_bin=None,\n",
       "              max_cat_threshold=None, max_cat_to_onehot=None,\n",
       "              max_delta_step=None, max_depth=None, max_leaves=None,\n",
       "              min_child_weight=None, missing=nan, monotone_constraints=None,\n",
       "              multi_strategy=None, n_estimators=None, n_jobs=None,\n",
       "              num_parallel_tree=None, ...)"
      ]
     },
     "execution_count": 138,
     "metadata": {},
     "output_type": "execute_result"
    }
   ],
   "source": [
    "xgb.fit(X_train_split, y_train_split - 1)"
   ]
  },
  {
   "cell_type": "code",
   "execution_count": 139,
   "id": "90685dae",
   "metadata": {},
   "outputs": [],
   "source": [
    "xgb_pred_prob = xgb.predict_proba(X_val_split)"
   ]
  },
  {
   "cell_type": "code",
   "execution_count": 140,
   "id": "f6db1859",
   "metadata": {},
   "outputs": [],
   "source": [
    "xgb_pred = np.argmax(xgb_pred_prob, axis=1) + 1"
   ]
  },
  {
   "cell_type": "code",
   "execution_count": 141,
   "id": "a318f7b9",
   "metadata": {},
   "outputs": [
    {
     "name": "stdout",
     "output_type": "stream",
     "text": [
      "              precision    recall  f1-score   support\n",
      "\n",
      "           1       0.99      0.96      0.97       180\n",
      "           2       0.98      1.00      0.99      9907\n",
      "           3       0.92      0.68      0.78       332\n",
      "           4       0.92      0.58      0.71       156\n",
      "           5       0.95      0.81      0.88        26\n",
      "           6       0.86      0.75      0.80         8\n",
      "           7       0.96      0.97      0.96      1480\n",
      "           8       0.90      0.83      0.87       224\n",
      "           9       1.00      0.77      0.87        26\n",
      "          10       0.98      0.89      0.94        66\n",
      "\n",
      "    accuracy                           0.97     12405\n",
      "   macro avg       0.95      0.82      0.88     12405\n",
      "weighted avg       0.97      0.97      0.97     12405\n",
      "\n"
     ]
    }
   ],
   "source": [
    "print(classification_report(y_pred=xgb_pred, y_true=y_val_split))"
   ]
  },
  {
   "cell_type": "markdown",
   "id": "8e21a635",
   "metadata": {},
   "source": [
    "**ENSEMBLE !**"
   ]
  },
  {
   "cell_type": "code",
   "execution_count": 146,
   "id": "c1f0b7e1",
   "metadata": {},
   "outputs": [],
   "source": [
    "svm_weight = 0.6\n",
    "xgb_weight = 0.4"
   ]
  },
  {
   "cell_type": "code",
   "execution_count": 147,
   "id": "103cab71",
   "metadata": {},
   "outputs": [],
   "source": [
    "ensembled_prob = svm_weight * svm_pred_prob + xgb_weight * xgb_pred_prob"
   ]
  },
  {
   "cell_type": "code",
   "execution_count": 148,
   "id": "8b072919",
   "metadata": {},
   "outputs": [],
   "source": [
    "ensembled_pred = np.argmax(ensembled_prob, axis=1) + 1"
   ]
  },
  {
   "cell_type": "code",
   "execution_count": 150,
   "id": "4e98aa2a",
   "metadata": {},
   "outputs": [
    {
     "name": "stdout",
     "output_type": "stream",
     "text": [
      "              precision    recall  f1-score   support\n",
      "\n",
      "           1       0.98      0.93      0.96       180\n",
      "           2       0.98      1.00      0.99      9907\n",
      "           3       0.92      0.69      0.79       332\n",
      "           4       0.93      0.62      0.74       156\n",
      "           5       0.95      0.77      0.85        26\n",
      "           6       0.83      0.62      0.71         8\n",
      "           7       0.96      0.97      0.97      1480\n",
      "           8       0.91      0.85      0.88       224\n",
      "           9       1.00      0.85      0.92        26\n",
      "          10       1.00      0.89      0.94        66\n",
      "\n",
      "    accuracy                           0.98     12405\n",
      "   macro avg       0.95      0.82      0.87     12405\n",
      "weighted avg       0.97      0.98      0.97     12405\n",
      "\n"
     ]
    }
   ],
   "source": [
    "print(classification_report(y_pred=ensembled_pred, y_true=y_val_split))"
   ]
  },
  {
   "cell_type": "markdown",
   "id": "b3e95a8f",
   "metadata": {},
   "source": [
    "**<h4>4.3.6 Neural Networks</h4>**"
   ]
  },
  {
   "cell_type": "code",
   "execution_count": 191,
   "id": "65d4985c",
   "metadata": {},
   "outputs": [],
   "source": [
    "from tensorflow.keras import losses, optimizers, layers, Sequential"
   ]
  },
  {
   "cell_type": "code",
   "execution_count": 192,
   "id": "397ae183",
   "metadata": {},
   "outputs": [
    {
     "data": {
      "text/plain": [
       "(31011, 197)"
      ]
     },
     "execution_count": 192,
     "metadata": {},
     "output_type": "execute_result"
    }
   ],
   "source": [
    "X_train_numpy.shape"
   ]
  },
  {
   "cell_type": "code",
   "execution_count": 300,
   "id": "3efe8283",
   "metadata": {},
   "outputs": [],
   "source": [
    "model = Sequential([\n",
    "    layers.InputLayer(shape=(197, )),\n",
    "    layers.Dense(64, activation='tanh'),\n",
    "    layers.Dropout(0.3),\n",
    "\n",
    "    layers.Dense(64, activation='tanh'),\n",
    "    layers.Dropout(0.3),\n",
    "\n",
    "\n",
    "    layers.Dense(10, activation='softmax')\n",
    "])"
   ]
  },
  {
   "cell_type": "code",
   "execution_count": 301,
   "id": "02de0c66",
   "metadata": {},
   "outputs": [],
   "source": [
    "loss = losses.SparseCategoricalCrossentropy(from_logits=False)\n",
    "opt = optimizers.Adam(learning_rate=1e-3)\n",
    "model.compile(loss = loss,\n",
    "              optimizer = opt)"
   ]
  },
  {
   "cell_type": "code",
   "execution_count": 304,
   "id": "cc5a04aa",
   "metadata": {},
   "outputs": [
    {
     "name": "stdout",
     "output_type": "stream",
     "text": [
      "Epoch 1/10\n",
      "\u001b[1m582/582\u001b[0m \u001b[32m━━━━━━━━━━━━━━━━━━━━\u001b[0m\u001b[37m\u001b[0m \u001b[1m1s\u001b[0m 1ms/step - loss: 0.0609\n",
      "Epoch 2/10\n",
      "\u001b[1m582/582\u001b[0m \u001b[32m━━━━━━━━━━━━━━━━━━━━\u001b[0m\u001b[37m\u001b[0m \u001b[1m1s\u001b[0m 1ms/step - loss: 0.0581\n",
      "Epoch 3/10\n",
      "\u001b[1m582/582\u001b[0m \u001b[32m━━━━━━━━━━━━━━━━━━━━\u001b[0m\u001b[37m\u001b[0m \u001b[1m1s\u001b[0m 1ms/step - loss: 0.0582\n",
      "Epoch 4/10\n",
      "\u001b[1m582/582\u001b[0m \u001b[32m━━━━━━━━━━━━━━━━━━━━\u001b[0m\u001b[37m\u001b[0m \u001b[1m1s\u001b[0m 1ms/step - loss: 0.0586\n",
      "Epoch 5/10\n",
      "\u001b[1m582/582\u001b[0m \u001b[32m━━━━━━━━━━━━━━━━━━━━\u001b[0m\u001b[37m\u001b[0m \u001b[1m1s\u001b[0m 1ms/step - loss: 0.0540\n",
      "Epoch 6/10\n",
      "\u001b[1m582/582\u001b[0m \u001b[32m━━━━━━━━━━━━━━━━━━━━\u001b[0m\u001b[37m\u001b[0m \u001b[1m1s\u001b[0m 1ms/step - loss: 0.0571\n",
      "Epoch 7/10\n",
      "\u001b[1m582/582\u001b[0m \u001b[32m━━━━━━━━━━━━━━━━━━━━\u001b[0m\u001b[37m\u001b[0m \u001b[1m1s\u001b[0m 1ms/step - loss: 0.0517\n",
      "Epoch 8/10\n",
      "\u001b[1m582/582\u001b[0m \u001b[32m━━━━━━━━━━━━━━━━━━━━\u001b[0m\u001b[37m\u001b[0m \u001b[1m1s\u001b[0m 1ms/step - loss: 0.0452\n",
      "Epoch 9/10\n",
      "\u001b[1m582/582\u001b[0m \u001b[32m━━━━━━━━━━━━━━━━━━━━\u001b[0m\u001b[37m\u001b[0m \u001b[1m1s\u001b[0m 1ms/step - loss: 0.0441\n",
      "Epoch 10/10\n",
      "\u001b[1m582/582\u001b[0m \u001b[32m━━━━━━━━━━━━━━━━━━━━\u001b[0m\u001b[37m\u001b[0m \u001b[1m1s\u001b[0m 1ms/step - loss: 0.0490\n"
     ]
    },
    {
     "data": {
      "text/plain": [
       "<keras.src.callbacks.history.History at 0x7f4e4cb37590>"
      ]
     },
     "execution_count": 304,
     "metadata": {},
     "output_type": "execute_result"
    }
   ],
   "source": [
    "model.fit(X_train_split, y_train_split-1, epochs=10, batch_size=32)"
   ]
  },
  {
   "cell_type": "code",
   "execution_count": 305,
   "id": "07aa165e",
   "metadata": {},
   "outputs": [
    {
     "name": "stdout",
     "output_type": "stream",
     "text": [
      "\u001b[1m388/388\u001b[0m \u001b[32m━━━━━━━━━━━━━━━━━━━━\u001b[0m\u001b[37m\u001b[0m \u001b[1m0s\u001b[0m 1ms/step\n",
      "              precision    recall  f1-score   support\n",
      "\n",
      "           1       0.98      0.96      0.97       180\n",
      "           2       0.99      0.99      0.99      9907\n",
      "           3       0.83      0.80      0.82       332\n",
      "           4       0.89      0.65      0.75       156\n",
      "           5       1.00      0.88      0.94        26\n",
      "           6       1.00      0.75      0.86         8\n",
      "           7       0.96      0.97      0.97      1480\n",
      "           8       0.91      0.88      0.89       224\n",
      "           9       0.96      0.88      0.92        26\n",
      "          10       0.97      0.89      0.93        66\n",
      "\n",
      "    accuracy                           0.98     12405\n",
      "   macro avg       0.95      0.87      0.90     12405\n",
      "weighted avg       0.98      0.98      0.98     12405\n",
      "\n"
     ]
    }
   ],
   "source": [
    "nn_pred_prob = model.predict(X_val_split)\n",
    "nn_pred = np.argmax(nn_pred_prob, axis=1) + 1\n",
    "print(classification_report(y_pred=nn_pred, y_true=y_val_split))"
   ]
  },
  {
   "cell_type": "markdown",
   "id": "c1a82338",
   "metadata": {},
   "source": [
    "**<h3>5. Conclusion</h3>**"
   ]
  },
  {
   "cell_type": "markdown",
   "id": "1ad8e5b5",
   "metadata": {},
   "source": [
    "We have benchmarked 4 models: KNN, RF, SVMs, XGBoost and a simple Feed-forward NN\n",
    "\n",
    "Overall, Neural Network performs really well with very high metrics across the classes"
   ]
  },
  {
   "cell_type": "code",
   "execution_count": 306,
   "id": "bbb6aa71",
   "metadata": {},
   "outputs": [],
   "source": [
    "X_test_numpy = X_test.to_numpy()"
   ]
  },
  {
   "cell_type": "code",
   "execution_count": 307,
   "id": "57c58d72",
   "metadata": {},
   "outputs": [
    {
     "name": "stdout",
     "output_type": "stream",
     "text": [
      "\u001b[1m632/632\u001b[0m \u001b[32m━━━━━━━━━━━━━━━━━━━━\u001b[0m\u001b[37m\u001b[0m \u001b[1m1s\u001b[0m 2ms/step\n"
     ]
    }
   ],
   "source": [
    "test_prob = model.predict(X_test_numpy)\n",
    "test_pred = np.argmax(test_prob, axis=1) + 1"
   ]
  },
  {
   "cell_type": "code",
   "execution_count": 308,
   "id": "506f4959",
   "metadata": {},
   "outputs": [],
   "source": [
    "vals, count = np.unique(test_pred, return_counts=True)"
   ]
  },
  {
   "cell_type": "code",
   "execution_count": 309,
   "id": "b9ed3313",
   "metadata": {},
   "outputs": [
    {
     "data": {
      "text/html": [
       "<div>\n",
       "<style scoped>\n",
       "    .dataframe tbody tr th:only-of-type {\n",
       "        vertical-align: middle;\n",
       "    }\n",
       "\n",
       "    .dataframe tbody tr th {\n",
       "        vertical-align: top;\n",
       "    }\n",
       "\n",
       "    .dataframe thead th {\n",
       "        text-align: right;\n",
       "    }\n",
       "</style>\n",
       "<table border=\"1\" class=\"dataframe\">\n",
       "  <thead>\n",
       "    <tr style=\"text-align: right;\">\n",
       "      <th></th>\n",
       "      <th>val</th>\n",
       "      <th>ratio</th>\n",
       "    </tr>\n",
       "  </thead>\n",
       "  <tbody>\n",
       "    <tr>\n",
       "      <th>0</th>\n",
       "      <td>1</td>\n",
       "      <td>0.018649</td>\n",
       "    </tr>\n",
       "    <tr>\n",
       "      <th>1</th>\n",
       "      <td>2</td>\n",
       "      <td>0.899238</td>\n",
       "    </tr>\n",
       "    <tr>\n",
       "      <th>2</th>\n",
       "      <td>3</td>\n",
       "      <td>0.001286</td>\n",
       "    </tr>\n",
       "    <tr>\n",
       "      <th>3</th>\n",
       "      <td>4</td>\n",
       "      <td>0.019836</td>\n",
       "    </tr>\n",
       "    <tr>\n",
       "      <th>4</th>\n",
       "      <td>5</td>\n",
       "      <td>0.001830</td>\n",
       "    </tr>\n",
       "    <tr>\n",
       "      <th>5</th>\n",
       "      <td>6</td>\n",
       "      <td>0.000049</td>\n",
       "    </tr>\n",
       "    <tr>\n",
       "      <th>6</th>\n",
       "      <td>7</td>\n",
       "      <td>0.047636</td>\n",
       "    </tr>\n",
       "    <tr>\n",
       "      <th>7</th>\n",
       "      <td>8</td>\n",
       "      <td>0.008657</td>\n",
       "    </tr>\n",
       "    <tr>\n",
       "      <th>8</th>\n",
       "      <td>9</td>\n",
       "      <td>0.001830</td>\n",
       "    </tr>\n",
       "    <tr>\n",
       "      <th>9</th>\n",
       "      <td>10</td>\n",
       "      <td>0.000989</td>\n",
       "    </tr>\n",
       "  </tbody>\n",
       "</table>\n",
       "</div>"
      ],
      "text/plain": [
       "   val     ratio\n",
       "0    1  0.018649\n",
       "1    2  0.899238\n",
       "2    3  0.001286\n",
       "3    4  0.019836\n",
       "4    5  0.001830\n",
       "5    6  0.000049\n",
       "6    7  0.047636\n",
       "7    8  0.008657\n",
       "8    9  0.001830\n",
       "9   10  0.000989"
      ]
     },
     "execution_count": 309,
     "metadata": {},
     "output_type": "execute_result"
    }
   ],
   "source": [
    "pd.DataFrame({\n",
    "    'val':vals,\n",
    "    'ratio': count / sum(count)\n",
    "})"
   ]
  }
 ],
 "metadata": {
  "kernelspec": {
   "display_name": "tf217",
   "language": "python",
   "name": "python3"
  },
  "language_info": {
   "codemirror_mode": {
    "name": "ipython",
    "version": 3
   },
   "file_extension": ".py",
   "mimetype": "text/x-python",
   "name": "python",
   "nbconvert_exporter": "python",
   "pygments_lexer": "ipython3",
   "version": "3.12.9"
  }
 },
 "nbformat": 4,
 "nbformat_minor": 5
}
